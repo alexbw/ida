{
 "metadata": {
  "name": "",
  "signature": "sha256:3c009a5093ab870d2071ecfc52c824d4a43096db378668340fab62e189697eec"
 },
 "nbformat": 3,
 "nbformat_minor": 0,
 "worksheets": [
  {
   "cells": [
    {
     "cell_type": "code",
     "collapsed": false,
     "input": [
      "import pandas as pd\n",
      "import numpy as np\n",
      "from scipy import ndimage\n",
      "from sklearn import svm, cross_validation\n",
      "from sklearn import tree, preprocessing\n",
      "from sklearn import decomposition as decomp\n",
      "from sklearn import linear_model\n",
      "from sklearn import metrics\n",
      "np.set_printoptions(suppress=True, precision=3)\n",
      "from util import *\n",
      "\n",
      "def regress(data, y, n_folds=50,C=1.0, gamma=1.0, epsilon=0.1, method='svr'):\n",
      "    from sklearn.linear_model import LinearRegression, Lasso\n",
      "    from sklearn.svm import SVR\n",
      "\n",
      "    if method == 'svr':\n",
      "        learner = SVR('rbf', C=C, gamma=gamma, epsilon=epsilon)\n",
      "    elif method == 'lasso':\n",
      "        learner = Lasso(alpha=C, fit_intercept=True)\n",
      "    else:\n",
      "        learner = LinearRegression(fit_intercept=True)\n",
      "        \n",
      "    all_test_idx = []\n",
      "    all_pred_y = []\n",
      "    rmse = []\n",
      "\n",
      "    for train_idx, test_idx in cross_validation.KFold(len(data), shuffle=False, n_folds=n_folds):\n",
      "        # Fit the learner\n",
      "        learner.fit(data[train_idx], y[train_idx])\n",
      "        # Make predictions\n",
      "        pred_y = learner.predict(data[test_idx]).ravel()\n",
      "        # Calculate RMSE\n",
      "        this_rmse = np.sqrt(metrics.mean_squared_error(y[test_idx], pred_y))\n",
      "        \n",
      "        # Save reuslts out\n",
      "        rmse.append(this_rmse)\n",
      "        all_test_idx.append(test_idx)\n",
      "        all_pred_y.append(pred_y)\n",
      "        \n",
      "    all_true_y = [y[test_idx].ravel() for test_idx in all_test_idx]\n",
      "    print \"RMSE: %2.2f\" % np.mean(rmse)\n",
      "    return all_pred_y, all_true_y, rmse"
     ],
     "language": "python",
     "metadata": {},
     "outputs": [],
     "prompt_number": 21
    },
    {
     "cell_type": "markdown",
     "metadata": {},
     "source": [
      "### Load the data"
     ]
    },
    {
     "cell_type": "code",
     "collapsed": false,
     "input": [
      "# Load it up\n",
      "sdf = pd.load(\"/Users/Alex/Code/blurd/data.pandas\")\n",
      "sdf = sdf[sdf.good==True]"
     ],
     "language": "python",
     "metadata": {},
     "outputs": [],
     "prompt_number": 22
    },
    {
     "cell_type": "code",
     "collapsed": false,
     "input": [
      "data_type = \"%Hypo\"\n",
      "n_folds = 5"
     ],
     "language": "python",
     "metadata": {},
     "outputs": [],
     "prompt_number": 23
    },
    {
     "cell_type": "code",
     "collapsed": false,
     "input": [
      "import whetlab\n",
      "# Define parameters to optimize\n",
      "n_runs = 100\n",
      "parameters = dict(nphase=dict(type='integer', min=2, max=3),\n",
      "#                     centrifugation_time=dict(type='enum', options=['2','4','6','8','10']),\n",
      "                    centrifugation_time = dict(type='integer', min=1, max=5),\n",
      "                    n_dimensions=dict(type='int', min=2, max=184),\n",
      "                    start=dict(type='float', min=0, max=119),\n",
      "                    stop=dict(type='float',min=120, max=184),\n",
      "                    reduc_method=dict(type='int', min=0,max=3),\n",
      "#                     reduc_method=dict(type='enum', options=['raw','pca','nmf','kernelpca']),\n",
      "                    C=dict(type='float', min=1e-2, max=1e2),\n",
      "                    gamma=dict(type='float', min=1e-2, max=1e2),\n",
      "                    epsilon=dict(type='float', min=1e-2, max=1e2))\n",
      "# method=dict(type='enum', options=['svr'])\n",
      "\n",
      "name = 'Predicting %Hypo'\n",
      "description = 'Predicting %Hypo from blood test'\n",
      "outcome = dict(name=\"Negative RMSE\")\n",
      "scientist = whetlab.Experiment(name=name, access_token=None, \n",
      "                               description=description,\n",
      "                               parameters=parameters, \n",
      "                               outcome=outcome)"
     ],
     "language": "python",
     "metadata": {},
     "outputs": [],
     "prompt_number": 24
    },
    {
     "cell_type": "code",
     "collapsed": false,
     "input": [
      "job = scientist.best()"
     ],
     "language": "python",
     "metadata": {},
     "outputs": [],
     "prompt_number": 25
    },
    {
     "cell_type": "code",
     "collapsed": false,
     "input": [
      "print job"
     ],
     "language": "python",
     "metadata": {},
     "outputs": [
      {
       "output_type": "stream",
       "stream": "stdout",
       "text": [
        "{u'C': 100.0, u'reduc_method': 2, u'epsilon': 0.09179446552770763, u'centrifugation_time': 5, u'stop': 184.0, u'start': 0.0, u'n_dimensions': 3, u'nphase': 2, u'gamma': 4.050037556432878}\n"
       ]
      }
     ],
     "prompt_number": 26
    },
    {
     "cell_type": "code",
     "collapsed": false,
     "input": [
      "isdf = sdf[(sdf.run_time == 2*int(job['centrifugation_time'])) & (sdf.ida == \"IDA%d\"%job['nphase'])]\n",
      "data = np.vstack(isdf.data.values)\n",
      "\n",
      "# Gather the output variables\n",
      "y = isdf[data_type].values.astype('float32')\n",
      "\n",
      "# Crop and reduce the data\n",
      "cropped_data = data[:,job['start']:job['stop']]\n",
      "\n",
      "reduc_method = ['raw','pca','nmf','kernelpca'][job['reduc_method']]\n",
      "if reduc_method == \"raw\":\n",
      "    x = ndimage.zoom(cropped_data,(1,job['n_dimensions']/cropped_data.shape[1]))\n",
      "elif reduc_method == \"nmf\":\n",
      "    x = decomp.NMF(job['n_dimensions']).fit_transform(cropped_data)\n",
      "elif reduc_method == \"pca\":\n",
      "    x = decomp.PCA(job['n_dimensions']).fit_transform(cropped_data)\n",
      "elif reduc_method == \"kernelpca\":\n",
      "    x = decomp.KernelPCA(job['n_dimensions'],'rbf',gamma=1.0).fit_transform(cropped_data)\n",
      "\n",
      "all_pred_y, all_true_y, all_rmse = regress(x, y, n_folds=n_folds, C=job['C'], gamma=job['gamma'], epsilon=job['epsilon'], method='svr')\n",
      "rmse = np.mean(all_rmse)\n",
      "all_pred_y = np.hstack(all_pred_y)\n",
      "all_true_y = np.hstack(all_true_y)"
     ],
     "language": "python",
     "metadata": {},
     "outputs": [
      {
       "output_type": "stream",
       "stream": "stderr",
       "text": [
        "-c:8: DeprecationWarning: using a non-integer number instead of an integer will result in an error in the future\n",
        "-c:8: DeprecationWarning: using a non-integer number instead of an integer will result in an error in the future\n",
        "/Users/Alex/anaconda/lib/python2.7/site-packages/sklearn/decomposition/nmf.py:539: UserWarning: Iteration limit reached during fit\n",
        "  warnings.warn(\"Iteration limit reached during fit\")\n"
       ]
      },
      {
       "output_type": "stream",
       "stream": "stdout",
       "text": [
        "RMSE: 5.85\n"
       ]
      }
     ],
     "prompt_number": 27
    },
    {
     "cell_type": "code",
     "collapsed": false,
     "input": [
      "# WHAT IS THE ERROR BAR HERE"
     ],
     "language": "python",
     "metadata": {},
     "outputs": [],
     "prompt_number": 28
    },
    {
     "cell_type": "code",
     "collapsed": false,
     "input": [
      "import seaborn as sns\n",
      "sns.set(style=\"darkgrid\")\n",
      "\n",
      "tips = sns.load_dataset(\"tips\")\n",
      "color = sns.color_palette()[2]\n",
      "g = sns.jointplot(all_pred_y, all_true_y, kind=\"reg\", color=color)\n",
      "g.set_axis_labels('Predicted %s'%data_type, 'True %s'%data_type)\n",
      "\n",
      "mu, sigma = [fn(all_pred_y - all_true_y) for fn in [np.mean, np.std]]\n",
      "print \"Mean deviation: %2.2f +/- %2.2f (standard deviation)\" % (mu, sigma)"
     ],
     "language": "python",
     "metadata": {},
     "outputs": [
      {
       "output_type": "stream",
       "stream": "stdout",
       "text": [
        "Mean deviation: -0.89 +/- 5.89 (standard deviation)\n"
       ]
      },
      {
       "metadata": {},
       "output_type": "display_data",
       "png": "[encoded data removed]",
       "text": [
        "<matplotlib.figure.Figure at 0x1133a43d0>"
       ]
      }
     ],
     "prompt_number": 32
    }
   ],
   "metadata": {}
  }
 ]
}