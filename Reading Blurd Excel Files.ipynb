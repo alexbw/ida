{
 "metadata": {
  "name": "",
  "signature": "sha256:5c9444cd91c884667813052a54809e68e7c4e32fb7cbd46238b2c60ad450c99e"
 },
 "nbformat": 3,
 "nbformat_minor": 0,
 "worksheets": [
  {
   "cells": [
    {
     "cell_type": "code",
     "collapsed": false,
     "input": [
      "%load_ext autoreload\n",
      "%autoreload 2\n",
      "import os\n",
      "import xlrd\n",
      "from glob import glob\n",
      "import skimage.io\n",
      "from joblib import Parallel, delayed\n",
      "import util\n",
      "reload(util)\n",
      "import pandas as pd\n",
      "from collections import OrderedDict"
     ],
     "language": "python",
     "metadata": {},
     "outputs": [
      {
       "output_type": "stream",
       "stream": "stdout",
       "text": [
        "The autoreload extension is already loaded. To reload it, use:\n",
        "  %reload_ext autoreload\n"
       ]
      }
     ],
     "prompt_number": 449
    },
    {
     "cell_type": "code",
     "collapsed": false,
     "input": [
      "# Load in all of the file paths\n",
      "base_dir = \"/Users/Alex/Dropbox/Science/side projects/Blood Testing\"\n",
      "experiment_folders = [f for f in glob(os.path.join(base_dir, \"*Blood*\")) if os.path.isdir(f)]\n",
      "excel_files = [glob(os.path.join(this_folder, \"*.xlsx\"))[0] for this_folder in experiment_folders]\n",
      "tiff_files = [glob(os.path.join(this_folder, \"*.tiff\")) for this_folder in experiment_folders]\n",
      "\n",
      "# Replicate the excel files so that they match up with each tiff file\n",
      "for i in range(len(excel_files)):\n",
      "    excel_files[i] = [excel_files[i]]*len(tiff_files[i])\n",
      "\n",
      "# Flatten both file lists\n",
      "excel_files = [item for sublist in excel_files for item in sublist]\n",
      "tiff_files = [item for sublist in tiff_files for item in sublist]\n",
      "IDs = [os.path.split(tiff_file)[-1].split(\".tiff\")[0] for tiff_file in tiff_files]"
     ],
     "language": "python",
     "metadata": {},
     "outputs": [],
     "prompt_number": 450
    },
    {
     "cell_type": "code",
     "collapsed": false,
     "input": [
      "def do_process(tiff_file):\n",
      "    img = skimage.io.imread(tiff_file, plugin=\"freeimage\")\n",
      "    data, position, data_imgs = util.process(img)\n",
      "    return data, position, data_imgs"
     ],
     "language": "python",
     "metadata": {},
     "outputs": [],
     "prompt_number": 451
    },
    {
     "cell_type": "code",
     "collapsed": false,
     "input": [
      "out = Parallel(n_jobs=24)(delayed(do_process)\n",
      "                          (tiff_file) for tiff_file in tiff_files)"
     ],
     "language": "python",
     "metadata": {},
     "outputs": [],
     "prompt_number": 452
    },
    {
     "cell_type": "code",
     "collapsed": false,
     "input": [
      "datas, positions, data_imgs = zip(*out)"
     ],
     "language": "python",
     "metadata": {},
     "outputs": [],
     "prompt_number": 453
    },
    {
     "cell_type": "code",
     "collapsed": false,
     "input": [
      "# Assemble a queryable dataset\n",
      "results = [dict(data=data,position=position,imgs=imgs,excel_file=excel_file,tiff_file=tiff_file,name=name) \\\n",
      " for data,position,imgs,excel_file,tiff_file,name in \n",
      " zip(datas,positions,data_imgs,excel_files,tiff_files,IDs)]"
     ],
     "language": "python",
     "metadata": {},
     "outputs": [],
     "prompt_number": 454
    },
    {
     "cell_type": "code",
     "collapsed": false,
     "input": [
      "df = pd.DataFrame(results)"
     ],
     "language": "python",
     "metadata": {},
     "outputs": [],
     "prompt_number": 455
    },
    {
     "cell_type": "code",
     "collapsed": false,
     "input": [
      "def get_metadata(excel_file):\n",
      "    workbook = xlrd.open_workbook(excel_file)\n",
      "    s = workbook.sheet_by_index(0)\n",
      "    header = [h.value for h in s.row(2)]\n",
      "    rows = [s.row(i) for i in range(4,s.nrows)]\n",
      "\n",
      "    metadata = {}\n",
      "    for i,key in enumerate(header):\n",
      "        if i == 0: \n",
      "            continue # skipping the sample label\n",
      "\n",
      "        if i == 1:\n",
      "            key = \"blood_type\"\n",
      "\n",
      "        metadata[key] = OrderedDict([(str(h[0].value), h[i].value) for h in rows])\n",
      "    \n",
      "    return metadata\n",
      "metadata = [get_metadata(excel_file) for excel_file in excel_files]"
     ],
     "language": "python",
     "metadata": {},
     "outputs": [],
     "prompt_number": 490
    },
    {
     "cell_type": "code",
     "collapsed": false,
     "input": [
      "# Time to clean up\n",
      "for val in list(np.unique([ib for sublist in [b['blood_type'].values() for b in metadata] for ib in sublist])):\n",
      "    print val"
     ],
     "language": "python",
     "metadata": {},
     "outputs": [
      {
       "output_type": "stream",
       "stream": "stdout",
       "text": [
        "\n",
        "ida\n",
        "macro\n",
        "normal\n",
        "nosample\n",
        "spherocytosis\n",
        "tt\n"
       ]
      }
     ],
     "prompt_number": 546
    },
    {
     "cell_type": "code",
     "collapsed": false,
     "input": [
      "# Clean up the blood types\n",
      "lookup = {\"IDA\":\"ida\",\n",
      "          'ida':'ida',\n",
      "         \"MACRO\":\"macro\",\n",
      "         \"Macro\":\"macro\",\n",
      "         'macro':'macro',\n",
      "         'No Samp':\"nosample\",\n",
      "         'No sample':\"nosample\",\n",
      "         'nosample':'nosample',\n",
      "         \"Normal\":'normal',\n",
      "         'normal':'normal',\n",
      "         \"Spherocytosis\":'spherocytosis',\n",
      "         \"spherocytosis\":'spherocytosis',\n",
      "         u'\\u03b2-TT':'tt',\n",
      "         '\u03b2-TT':'tt',\n",
      "         'TT':'tt',\n",
      "         'tt':'tt', \n",
      "         '':''}\n",
      "\n",
      "for i in range(len(metadata)):\n",
      "    for j,(key,value) in enumerate(metadata[i]['blood_type'].items()):\n",
      "        metadata[i]['blood_type'][key] = lookup[value]\n",
      "\n",
      "headers = np.unique([ib for sublist in [m.keys() for m in metadata] for ib in sublist])\n",
      "for header in headers:\n",
      "    df[header] = [m[header] for m in metadata]\n",
      "\n",
      "# df['blood_type'] = blood_types"
     ],
     "language": "python",
     "metadata": {},
     "outputs": [],
     "prompt_number": 543
    },
    {
     "cell_type": "code",
     "collapsed": false,
     "input": [
      "# Get the run time\n",
      "run_time = [int(n.split(\"min\")[0].split(\"_\")[-1]) for n in df.name]\n",
      "df['run_time'] = run_time"
     ],
     "language": "python",
     "metadata": {},
     "outputs": [],
     "prompt_number": 547
    },
    {
     "cell_type": "code",
     "collapsed": false,
     "input": [
      "def parse_split_name(split_n, index):\n",
      "    samples = []\n",
      "    ida_tag = split_n[0]\n",
      "    sample_ids = split_n[1]\n",
      "    for i,letter in enumerate(sample_ids):\n",
      "        this_sample = {\"ida\":ida_tag,\n",
      "                       \"sample\": letter.upper(),\n",
      "                       \"good\":letter.upper() != letter,\n",
      "                       \"experiment_index\":index,\n",
      "                       \"sample_index\":i}\n",
      "        samples.append(this_sample)\n",
      "    return samples"
     ],
     "language": "python",
     "metadata": {},
     "outputs": [],
     "prompt_number": 548
    },
    {
     "cell_type": "code",
     "collapsed": false,
     "input": [
      "samples = []\n",
      "# Map each sample to a letter ID\n",
      "for i,n in enumerate(df.name):\n",
      "    split_n = n.split(\"_\")\n",
      "    \n",
      "    # Some top-level filtering\n",
      "    if 'redo' in split_n:\n",
      "        split_n = n.replace(\"_redo\", \"\").split(\"_\")\n",
      "    elif 'TestSet' in split_n:\n",
      "        continue\n",
      "        \n",
      "    # Now start to identify individual samples\n",
      "    if len(split_n) == 3: # if there's an IDA tag, the sample idents, and the timing\n",
      "        samples.extend(parse_split_name(split_n[:2], i))\n",
      "    if len(split_n) == 5:\n",
      "        samples.extend(parse_split_name(split_n[:2], i))\n",
      "        samples.extend(parse_split_name(split_n[2:4], i))"
     ],
     "language": "python",
     "metadata": {},
     "outputs": [],
     "prompt_number": 549
    },
    {
     "cell_type": "code",
     "collapsed": false,
     "input": [
      "# Now port over everything from the df array to build one big-ass sample list\n",
      "for isample,sample in enumerate(samples):\n",
      "    idf = df.loc[sample['experiment_index']]\n",
      "    for header in headers:\n",
      "        sample[header] = idf[header][sample['sample']]\n",
      "    sample['excel_file'] = idf.excel_file\n",
      "    sample['tiff_file'] = idf.tiff_file\n",
      "    sample['tiff_file_position'] = idf.position[sample['sample_index']]\n",
      "    sample['data'] = idf['data'][sample['sample_index']]\n",
      "    sample['image'] = idf.imgs[sample['sample_index']]\n",
      "    sample['run_time'] = idf.run_time\n",
      "d = [s['data'] for s in samples]\n",
      "i = [s['image'] for s in samples]\n",
      "sdf = pd.DataFrame(samples)\n",
      "sdf['data'] = d # because of reasons\n",
      "sdf['image'] = i # accessible as e.g. sdf.image.values[100]"
     ],
     "language": "python",
     "metadata": {},
     "outputs": [],
     "prompt_number": 550
    },
    {
     "cell_type": "code",
     "collapsed": false,
     "input": [
      "# Convert the age units into years, uniformly\n",
      "for i in range(len(sdf)):\n",
      "    if sdf['Age Units'][i].upper() == \"M\":\n",
      "        sdf['Age'][i] /= 12.0\n",
      "    elif sdf['Age Units'][i].upper() == \"D\":\n",
      "        sdf['Age'][i] /= 365.0"
     ],
     "language": "python",
     "metadata": {},
     "outputs": [],
     "prompt_number": 551
    },
    {
     "cell_type": "code",
     "collapsed": false,
     "input": [
      "# Make sure that the sex is all caps\n",
      "sdf['Sex'] = [s.upper() for s in sdf['Sex']]"
     ],
     "language": "python",
     "metadata": {},
     "outputs": [],
     "prompt_number": 552
    },
    {
     "cell_type": "code",
     "collapsed": false,
     "input": [
      "for header in headers:\n",
      "    sdf[header][sdf[header] == ''] = np.nan"
     ],
     "language": "python",
     "metadata": {},
     "outputs": [],
     "prompt_number": 553
    },
    {
     "cell_type": "code",
     "collapsed": false,
     "input": [
      "# A little cleanup\n",
      "imagesum = np.array([i.mean() for i in sdf.image.values])\n",
      "sumidx = np.argsort(imagesum)\n",
      "plot(imagesum[sumidx])\n",
      "xlim(0,300)\n",
      "ylim(0,4)\n",
      "threshold = 1.2\n",
      "hlines(threshold, 0, 300)\n",
      "title(\"Mean luminosity cutoff for inclusion\")\n",
      "sdf['good'] = sdf.good.values & (imagesum > threshold)"
     ],
     "language": "python",
     "metadata": {},
     "outputs": [
      {
       "metadata": {},
       "output_type": "display_data",
       "png": "[encoded data removed]",
       "text": [
        "<matplotlib.figure.Figure at 0x12f4f8f10>"
       ]
      }
     ],
     "prompt_number": 555
    },
    {
     "cell_type": "code",
     "collapsed": false,
     "input": [
      "# Use this code to inspect why I chose the particular cutoff\n",
      "i = 57 # now try 58\n",
      "figure(figsize=(1,4))\n",
      "imshow(sdf.image.values[sumidx[i]])\n",
      "print imagesum[sumidx[i]]"
     ],
     "language": "python",
     "metadata": {},
     "outputs": [
      {
       "output_type": "stream",
       "stream": "stdout",
       "text": [
        "1.16042328042\n"
       ]
      },
      {
       "metadata": {},
       "output_type": "display_data",
       "png": "[encoded data removed]",
       "text": [
        "<matplotlib.figure.Figure at 0x12f4c8bd0>"
       ]
      }
     ],
     "prompt_number": 556
    },
    {
     "cell_type": "code",
     "collapsed": false,
     "input": [
      "sdf.to_pickle(\"/Users/Alex/Code/blurd/data.pandas\")"
     ],
     "language": "python",
     "metadata": {},
     "outputs": [],
     "prompt_number": 557
    }
   ],
   "metadata": {}
  }
 ]
}