{
 "metadata": {
  "name": "",
  "signature": "sha256:6982f519a0614d8795d2112643db79455478cb5a90075826cda5fac831606bc8"
 },
 "nbformat": 3,
 "nbformat_minor": 0,
 "worksheets": [
  {
   "cells": [
    {
     "cell_type": "raw",
     "metadata": {},
     "source": [
      "# NOTE:\n",
      "Remove HDW outlier\n",
      "Remove RBC outlier\n",
      "Update Age once > 200 iters"
     ]
    },
    {
     "cell_type": "code",
     "collapsed": false,
     "input": [
      "import whetlab\n",
      "import pandas as pd\n",
      "import numpy as np\n",
      "from scipy import ndimage\n",
      "from sklearn import cross_validation\n",
      "from sklearn import decomposition as decomp\n",
      "from sklearn.svm import SVR\n",
      "from sklearn.metrics import mean_squared_error\n",
      "from scipy.stats import pearsonr\n",
      "np.set_printoptions(suppress=True, precision=3)\n",
      "from blurd.util import *\n",
      "from scipy import stats\n",
      "import seaborn as sns\n",
      "sns.set(style=\"darkgrid\")"
     ],
     "language": "python",
     "metadata": {},
     "outputs": [],
     "prompt_number": 1
    },
    {
     "cell_type": "code",
     "collapsed": false,
     "input": [
      "def regress(job, sdf, param_to_predict, train_patients, train_patient_idx, validation_patient_idx):\n",
      "    \"\"\"\n",
      "    job is the whetlab params\n",
      "    sdf is the DataFrame\n",
      "    param_to_predict is the continuous parameter we want to predict\n",
      "    train_patients are the patient names that we're training on (includes validation in folds)\n",
      "    train_idx is what we're training on\n",
      "    validate_idx is what we're testing on\n",
      "    \"\"\"\n",
      "    # Prepare the blood parameter index\n",
      "    all_data = np.vstack(sdf.data.values)\n",
      "    blood_param = sdf[param_to_predict].values.astype('float')\n",
      "    blood_param_idx = ((sdf.run_time == 2*int(job['centrifugation_time'])) & (sdf.ida == \"IDA%d\" % job['nphase'])).values\n",
      "\n",
      "    # Apply a soft window to the data (better than cropping)\n",
      "    window = stats.norm.pdf(np.arange(all_data.shape[1]), loc=job['softwindow_mean'], scale=job['softwindow_variance'])\n",
      "    window /= window.max()\n",
      "    cropped_data = all_data*window[None,:]\n",
      "\n",
      "    # NOTE: Doing the unsupervised step on all the training data.\n",
      "    # Other options include:\n",
      "    # - all data (it's unsupervised so should be fine)\n",
      "    # - all training data, irrespective of blood parameters (e.g. include all centrifugation times together)\n",
      "    unsupervised_train_idx = np.array([p in train_patients for p in sdf.patient])\n",
      "    all_train_data = cropped_data[unsupervised_train_idx & blood_param_idx].copy()\n",
      "    reduc_method = ['raw','pca','nmf','kernelpca'][job['reduc_method']]\n",
      "    if reduc_method == \"raw\":\n",
      "        processed_data = ndimage.zoom(cropped_data,(1,job['n_dimensions']/cropped_data.shape[1]))\n",
      "    elif reduc_method == \"nmf\":\n",
      "        preprocessor = decomp.NMF(job['n_dimensions']).fit(all_train_data)\n",
      "        processed_data = preprocessor.transform(cropped_data)\n",
      "    elif reduc_method == \"pca\":\n",
      "        preprocessor = decomp.PCA(job['n_dimensions']).fit(all_train_data)\n",
      "        processed_data = preprocessor.transform(cropped_data)\n",
      "    elif reduc_method == \"kernelpca\":\n",
      "        preprocessor = decomp.KernelPCA(job['n_dimensions'],'rbf',gamma=1.0).fit(all_train_data)\n",
      "        processed_data = preprocessor.transform(cropped_data)\n",
      "\n",
      "    # Prepare the indices for this fold (only using the training patients)\n",
      "    train_idx = blood_param_idx & np.array([p in train_patients[train_patient_idx] for p in sdf.patient])\n",
      "    validation_idx = blood_param_idx & np.array([p in train_patients[validation_patient_idx] for p in sdf.patient])\n",
      "\n",
      "    # Get the data and labels\n",
      "    train_data = processed_data[train_idx]\n",
      "    validation_data = processed_data[validation_idx]\n",
      "    train_y = blood_param[train_idx]\n",
      "    validation_y = blood_param[validation_idx]\n",
      "\n",
      "    assert len(train_data) == len(train_y), \"Unequal data and label sizes\"\n",
      "    assert len(validation_data) == len(validation_y), \"Unequal data and label sizes\"\n",
      "\n",
      "\n",
      "    # Train a model\n",
      "    learner = SVR('rbf', C=job['C'], gamma=job['gamma'], epsilon=job['epsilon']).fit(train_data, train_y)\n",
      "    pred_y = learner.predict(validation_data).ravel()\n",
      "\n",
      "    return validation_y, pred_y, np.argwhere(train_idx)[()], np.argwhere(validation_idx)[()]"
     ],
     "language": "python",
     "metadata": {},
     "outputs": [],
     "prompt_number": 2
    },
    {
     "cell_type": "code",
     "collapsed": false,
     "input": [
      "#####################################\n",
      "# What experiment are we looking at?\n",
      "#####################################\n",
      "\n",
      "filename = \"/Users/Alex/Dropbox/Science/Side Projects/Blood Testing/data.pandas\""
     ],
     "language": "python",
     "metadata": {},
     "outputs": [],
     "prompt_number": 3
    },
    {
     "cell_type": "code",
     "collapsed": false,
     "input": [
      "## Load the data and calculate strata\n",
      "\n",
      "sdf = pd.read_pickle(filename)\n",
      "\n",
      "# Create a unique tag for each patient\n",
      "sdf['patient'] = sdf.sample+\"-\"+sdf.date\n",
      "\n",
      "# Select only good vials\n",
      "sdf = sdf[sdf.good == True]\n",
      "\n",
      "# Fill in the micro/hypo calls based on these criteria (AND THEN MOVE TO THE EXTRACTION NOTEBOOK)\n",
      "# ALL THESE INDICES ARE TO CALL THE MICRO/HYPOCHROMIC ANEMIC POPULATION\n",
      "hypo_idx = sdf['%Hypo'] >= 3.9\n",
      "anemic_woman_idx = (sdf['Age'] > 15) & (sdf['Sex'] == \"F\") & (sdf.HGB < 12.0) & hypo_idx\n",
      "anemic_man_idx = (sdf['Age'] > 15) & (sdf['Sex'] == \"M\") & (sdf.HGB < 13.0) & hypo_idx\n",
      "anemic_infant_idx = (sdf['Age'] < 5) & (sdf.HGB < 11.0) & hypo_idx\n",
      "anemic_child_idx = (sdf['Age'] >= 5) & (sdf['Age'] < 15) & (sdf.HGB < 11.5) & hypo_idx\n",
      "anemic_population_idx = anemic_woman_idx | anemic_man_idx | anemic_infant_idx | anemic_child_idx\n",
      "sdf.blood_type.values[np.argwhere(anemic_population_idx)[()]] = 'anemic'\n",
      "sdf.blood_type.values[np.argwhere(anemic_population_idx == False)[()]] = 'normal'\n",
      "\n",
      "# Gather the blood-type for prediction\n",
      "int_y = sdf['blood_type'].values.copy()\n",
      "int_y[int_y == 'anemic'] = 1\n",
      "int_y[int_y == 'normal'] = 0\n",
      "int_y = int_y.astype('int32')\n",
      "sdf['int_blood_type'] = int_y\n",
      "\n",
      "# Get the patients\n",
      "patients = sdf.patient.unique()\n",
      "\n",
      "# For each patient, get the blood-type\n",
      "patient_blood_type = []\n",
      "for patient in patients:\n",
      "    this_patient = sdf[sdf.patient == patient]\n",
      "    patient_blood_type.append(sdf[sdf.patient == patient].blood_type.values[0])\n",
      "patient_blood_type = np.array(patient_blood_type)\n",
      "\n",
      "# Load the data\n",
      "this_sdf = sdf.copy()\n",
      "hypochromia_idx = np.argwhere((this_sdf['%Hypo'] >= 3.9).values.astype('int32')).ravel()\n",
      "microhypoanemia_idx = this_sdf['int_blood_type'].values\n",
      "ida_idx = np.argwhere((this_sdf['%Micro/%Hypo Ratio'] <= 1.5).values & microhypoanemia_idx).ravel()\n",
      "betatt_idx = np.argwhere((this_sdf['%Micro/%Hypo Ratio'] > 1.5).values & microhypoanemia_idx).ravel()\n",
      "microhypoanemia_idx = np.argwhere(microhypoanemia_idx).ravel()\n",
      "normal_idx = np.setdiff1d(range(len(this_sdf)), np.intersect1d(hypochromia_idx,microhypoanemia_idx))\n",
      "\n",
      "woman_idx = np.argwhere((sdf['Age'] >= 15) & (sdf['Sex'] == \"F\")).ravel()\n",
      "man_idx = np.argwhere((sdf['Age'] >= 15) & (sdf['Sex'] == \"M\")).ravel()\n",
      "child_idx = np.argwhere((sdf['Age'] >= 5) & (sdf['Age'] < 15)).ravel()\n",
      "infant_idx = np.argwhere((sdf['Age'] < 5)).ravel()\n",
      "all_woman_idx = np.argwhere(sdf['Sex'] == \"F\").ravel()\n",
      "all_man_idx = np.argwhere(sdf['Sex'] == \"M\").ravel()\n",
      "all_adult_idx = np.argwhere(sdf['Age'] > 15).ravel()\n",
      "\n",
      "labels = np.empty((len(this_sdf)), dtype='|S30')\n",
      "labels[:] = ''\n",
      "# labels[woman_idx] = 'woman'\n",
      "# labels[man_idx] = 'man'\n",
      "# labels[child_idx] = 'child'\n",
      "# labels[infant_idx] = 'infant'\n",
      "\n",
      "for disease_idx,disease_idx_label in zip((ida_idx,normal_idx,hypochromia_idx),(\"ida\",\"normal\",\"hypochromia\")):\n",
      "    for pop_idx,pop_idx_label in zip((woman_idx,man_idx,child_idx,infant_idx),(\"woman\", \"man\",\"child\",\"infant\")):\n",
      "        labels[np.intersect1d(disease_idx,pop_idx)] = pop_idx_label#+\"-\"+disease_idx_label\n",
      "\n",
      "# For each patient, get the blood-type\n",
      "patient_label = []\n",
      "for patient in patients:\n",
      "    this_patient = np.argwhere(sdf.patient == patient).ravel()[0]\n",
      "    patient_label.append(labels[this_patient])\n",
      "patient_label = np.array(patient_label)"
     ],
     "language": "python",
     "metadata": {},
     "outputs": [],
     "prompt_number": 4
    },
    {
     "cell_type": "code",
     "collapsed": false,
     "input": [
      "params_to_predict = ['%Hyper', \n",
      "'%Hypo', \n",
      "'%Macro', \n",
      "'%Micro', \n",
      "'%Micro/%Hypo Ratio', \n",
      "'Age', \n",
      "'CH', \n",
      "'CHCM', \n",
      "'HCT', \n",
      "'HDW', \n",
      "'HGB', \n",
      "'MCH', \n",
      "'MCHC', \n",
      "'MPV', \n",
      "'PLT', \n",
      "'RBC', \n",
      "'RDW', \n",
      "'WCB']\n",
      "# params_to_predict = ['%Hypo']"
     ],
     "language": "python",
     "metadata": {},
     "outputs": [],
     "prompt_number": 5
    },
    {
     "cell_type": "code",
     "collapsed": false,
     "input": [
      "# name = 'Predicting %s (patient-based folds)' % (\"%Hypo\")\n",
      "# scientist = whetlab.Experiment(name=name, access_token=None, \n",
      "#                                outcome=dict(name=\"R2\"))\n",
      "# job = scientist.best()\n",
      "job = {u'C': 99.18370224396412,\n",
      " u'centrifugation_time': 1,\n",
      " u'epsilon': 0.01,\n",
      " u'gamma': 0.29957913242589296,\n",
      " u'n_dimensions': 85,\n",
      " u'nphase': 3,\n",
      " u'reduc_method': 1,\n",
      " u'softwindow_mean': 97.98168763864747,\n",
      " u'softwindow_variance': 137.88216201401923}"
     ],
     "language": "python",
     "metadata": {},
     "outputs": [],
     "prompt_number": 6
    },
    {
     "cell_type": "code",
     "collapsed": false,
     "input": [
      "n_folds = 500"
     ],
     "language": "python",
     "metadata": {},
     "outputs": [],
     "prompt_number": 7
    },
    {
     "cell_type": "code",
     "collapsed": false,
     "input": [
      "for param_to_predict in params_to_predict:\n",
      "\n",
      "    #####################################\n",
      "    # Get experiment\n",
      "    #####################################\n",
      "\n",
      "\n",
      "    #####################################\n",
      "    # Recreate the best experiment\n",
      "    #####################################\n",
      "\n",
      "    r2_across_folds = []\n",
      "    all_pred_y = []\n",
      "    all_true_y = []\n",
      "    for train, validation in cross_validation.StratifiedShuffleSplit(patient_label, n_iter=n_folds, test_size=0.5):\n",
      "        # Train a model\n",
      "        true_y, pred_y, train_idx, validation_idx = regress(job, this_sdf, param_to_predict, patients, train, validation)\n",
      "        this_r2 = pearsonr(true_y, pred_y)[0]\n",
      "        r2_across_folds.append(this_r2)\n",
      "        all_pred_y.append(pred_y)\n",
      "        all_true_y.append(true_y)\n",
      "\n",
      "    r2 = np.mean(r2_across_folds)\n",
      "    all_pred_y = np.hstack(all_pred_y)\n",
      "    all_true_y = np.hstack(all_true_y)\n",
      "    \n",
      "    diffs = all_pred_y - all_true_y\n",
      "    rediffs = all_true_y - np.mean(all_true_y)\n",
      "    print(\"\\n\"+param_to_predict)\n",
      "    print(\"=\"*50)\n",
      "    print \"R2: %2.2f (%2.2f,%2.2f)\" % tuple(np.percentile(r2_across_folds, [50,2.5,97.5]))\n",
      "    print \"Error: %2.2f (%2.2f,%2.2f)\" % tuple(np.percentile(diffs, [50,2.5,97.5]))\n",
      "\n",
      "    figure(figsize=(8,8))\n",
      "    g = plot(all_pred_y,all_true_y, '.', alpha=0.1);\n",
      "    xlim(ylim())\n",
      "    x = xlim(); y = ylim()\n",
      "    plot([x[0],x[1]],[y[0],y[1]], '-', linewidth=2)\n",
      "\n",
      "    x = xlim()[0] + np.diff(xlim())*0.05\n",
      "    y = ylim()[1] - np.diff(ylim())*0.1\n",
      "\n",
      "    text(x,y,param_to_predict, fontsize=18)\n",
      "    xlabel(\"Predicted Value\")\n",
      "    ylabel(\"True Value\")\n",
      "    savefig(\"/Users/Alex/Desktop/blurd/%s-prediction.pdf\" % param_to_predict.replace(\"/\",\"-\"))\n",
      "    clf()\n",
      "\n",
      "    figure(figsize=(8,4))\n",
      "    meandiff = diffs.mean()\n",
      "    stddiff = diffs.std()\n",
      "    plot((all_pred_y+all_true_y)/2.0, diffs, '.', alpha=0.01)\n",
      "    hlines(meandiff, xlim()[0], xlim()[1])\n",
      "    hlines(meandiff+stddiff*1.96, xlim()[0], xlim()[1], color='r', linestyle='--')\n",
      "    hlines(meandiff-stddiff*1.96, xlim()[0], xlim()[1], color='r', linestyle='--')\n",
      "    lim = np.max(np.abs(np.percentile(diffs,[.1,99.9])))\n",
      "    ylim(-lim,lim)\n",
      "\n",
      "    xlabel(\"Average of predicted and true %s\" % param_to_predict)\n",
      "    ylabel(\"Difference of predicted and true %s\" % param_to_predict)\n",
      "    savefig(\"/Users/Alex/Desktop/blurd/%s-bland-altman.pdf\" % param_to_predict.replace(\"/\",\"-\"))\n",
      "    clf()"
     ],
     "language": "python",
     "metadata": {},
     "outputs": [
      {
       "output_type": "stream",
       "stream": "stdout",
       "text": [
        "\n",
        "%Hyper\n",
        "==================================================\n",
        "R2: 0.26 (0.10,0.41)\n",
        "Error: 0.04 (-2.40,1.80)\n",
        "\n",
        "%Hypo"
       ]
      },
      {
       "output_type": "stream",
       "stream": "stdout",
       "text": [
        "\n",
        "==================================================\n",
        "R2: 0.92 (0.87,0.95)\n",
        "Error: 0.11 (-13.47,12.18)\n",
        "\n",
        "%Macro"
       ]
      },
      {
       "output_type": "stream",
       "stream": "stdout",
       "text": [
        "\n",
        "==================================================\n",
        "R2: 0.10 (-0.07,0.30)\n",
        "Error: 0.06 (-4.92,2.41)\n",
        "\n",
        "%Micro"
       ]
      },
      {
       "output_type": "stream",
       "stream": "stdout",
       "text": [
        "\n",
        "==================================================\n",
        "R2: 0.48 (0.28,0.66)\n",
        "Error: 0.14 (-26.07,11.49)\n",
        "\n",
        "%Micro/%Hypo Ratio"
       ]
      },
      {
       "output_type": "stream",
       "stream": "stdout",
       "text": [
        "\n",
        "==================================================\n",
        "R2: 0.25 (0.09,0.41)\n",
        "Error: 0.08 (-4.92,2.53)\n",
        "\n",
        "Age"
       ]
      },
      {
       "output_type": "stream",
       "stream": "stdout",
       "text": [
        "\n",
        "==================================================\n",
        "R2: 0.19 (0.03,0.35)\n",
        "Error: 0.13 (-21.47,13.83)\n",
        "\n",
        "CH"
       ]
      },
      {
       "output_type": "stream",
       "stream": "stdout",
       "text": [
        "\n",
        "==================================================\n",
        "R2: 0.71 (0.61,0.78)\n",
        "Error: -0.12 (-5.30,5.36)\n",
        "\n",
        "CHCM"
       ]
      },
      {
       "output_type": "stream",
       "stream": "stdout",
       "text": [
        "\n",
        "==================================================\n",
        "R2: 0.84 (0.78,0.88)\n",
        "Error: -0.02 (-2.28,2.31)\n",
        "\n",
        "HCT"
       ]
      },
      {
       "output_type": "stream",
       "stream": "stdout",
       "text": [
        "\n",
        "==================================================\n",
        "R2: 0.68 (0.56,0.75)\n",
        "Error: 0.13 (-10.57,10.37)\n",
        "\n",
        "HDW"
       ]
      },
      {
       "output_type": "stream",
       "stream": "stdout",
       "text": [
        "\n",
        "==================================================\n",
        "R2: 0.49 (0.34,0.61)\n",
        "Error: 0.02 (-1.25,1.12)\n",
        "\n",
        "HGB"
       ]
      },
      {
       "output_type": "stream",
       "stream": "stdout",
       "text": [
        "\n",
        "==================================================\n",
        "R2: 0.68 (0.57,0.76)\n",
        "Error: 0.01 (-3.92,3.83)\n",
        "\n",
        "MCH"
       ]
      },
      {
       "output_type": "stream",
       "stream": "stdout",
       "text": [
        "\n",
        "==================================================\n",
        "R2: 0.63 (0.52,0.71)\n",
        "Error: -0.15 (-5.19,5.99)\n",
        "\n",
        "MCHC"
       ]
      },
      {
       "output_type": "stream",
       "stream": "stdout",
       "text": [
        "\n",
        "==================================================\n",
        "R2: 0.74 (0.64,0.80)\n",
        "Error: -0.03 (-2.35,2.29)\n",
        "\n",
        "MPV"
       ]
      },
      {
       "output_type": "stream",
       "stream": "stdout",
       "text": [
        "\n",
        "==================================================\n",
        "R2: 0.03 (-0.16,0.19)\n",
        "Error: 0.01 (-3.42,2.94)\n",
        "\n",
        "PLT"
       ]
      },
      {
       "output_type": "stream",
       "stream": "stdout",
       "text": [
        "\n",
        "==================================================\n",
        "R2: 0.19 (0.04,0.33)\n",
        "Error: -1.78 (-339.00,203.19)\n",
        "\n",
        "RBC"
       ]
      },
      {
       "output_type": "stream",
       "stream": "stdout",
       "text": [
        "\n",
        "==================================================\n",
        "R2: 0.41 (0.25,0.55)\n",
        "Error: 0.02 (-1.74,1.72)\n",
        "\n",
        "RDW"
       ]
      },
      {
       "output_type": "stream",
       "stream": "stdout",
       "text": [
        "\n",
        "==================================================\n",
        "R2: 0.59 (0.47,0.69)\n",
        "Error: 0.05 (-5.01,3.81)\n",
        "\n",
        "WCB"
       ]
      },
      {
       "output_type": "stream",
       "stream": "stdout",
       "text": [
        "\n",
        "==================================================\n",
        "R2: 0.20 (-0.00,0.34)\n",
        "Error: 0.12 (-18.20,9.36)\n"
       ]
      },
      {
       "output_type": "stream",
       "stream": "stderr",
       "text": [
        "/Users/Alex/anaconda/lib/python2.7/site-packages/matplotlib/pyplot.py:423: RuntimeWarning: More than 20 figures have been opened. Figures created through the pyplot interface (`matplotlib.pyplot.figure`) are retained until explicitly closed and may consume too much memory. (To control this warning, see the rcParam `figure.max_num_figures`).\n",
        "  max_open_warning, RuntimeWarning)\n"
       ]
      },
      {
       "metadata": {},
       "output_type": "display_data",
       "text": [
        "<matplotlib.figure.Figure at 0x116eb2910>"
       ]
      },
      {
       "metadata": {},
       "output_type": "display_data",
       "text": [
        "<matplotlib.figure.Figure at 0x119021dd0>"
       ]
      },
      {
       "metadata": {},
       "output_type": "display_data",
       "text": [
        "<matplotlib.figure.Figure at 0x11c918690>"
       ]
      },
      {
       "metadata": {},
       "output_type": "display_data",
       "text": [
        "<matplotlib.figure.Figure at 0x11c941a90>"
       ]
      },
      {
       "metadata": {},
       "output_type": "display_data",
       "text": [
        "<matplotlib.figure.Figure at 0x119906410>"
       ]
      },
      {
       "metadata": {},
       "output_type": "display_data",
       "text": [
        "<matplotlib.figure.Figure at 0x11c905910>"
       ]
      },
      {
       "metadata": {},
       "output_type": "display_data",
       "text": [
        "<matplotlib.figure.Figure at 0x11d5ce190>"
       ]
      },
      {
       "metadata": {},
       "output_type": "display_data",
       "text": [
        "<matplotlib.figure.Figure at 0x11e271290>"
       ]
      },
      {
       "metadata": {},
       "output_type": "display_data",
       "text": [
        "<matplotlib.figure.Figure at 0x11cd2fa90>"
       ]
      },
      {
       "metadata": {},
       "output_type": "display_data",
       "text": [
        "<matplotlib.figure.Figure at 0x11d5f08d0>"
       ]
      },
      {
       "metadata": {},
       "output_type": "display_data",
       "text": [
        "<matplotlib.figure.Figure at 0x11e28a5d0>"
       ]
      },
      {
       "metadata": {},
       "output_type": "display_data",
       "text": [
        "<matplotlib.figure.Figure at 0x11d5e5fd0>"
       ]
      },
      {
       "metadata": {},
       "output_type": "display_data",
       "text": [
        "<matplotlib.figure.Figure at 0x11e4b4250>"
       ]
      },
      {
       "metadata": {},
       "output_type": "display_data",
       "text": [
        "<matplotlib.figure.Figure at 0x11d7a1610>"
       ]
      },
      {
       "metadata": {},
       "output_type": "display_data",
       "text": [
        "<matplotlib.figure.Figure at 0x11cc3a110>"
       ]
      },
      {
       "metadata": {},
       "output_type": "display_data",
       "text": [
        "<matplotlib.figure.Figure at 0x11cd229d0>"
       ]
      },
      {
       "metadata": {},
       "output_type": "display_data",
       "text": [
        "<matplotlib.figure.Figure at 0x11c977910>"
       ]
      },
      {
       "metadata": {},
       "output_type": "display_data",
       "text": [
        "<matplotlib.figure.Figure at 0x11ccb76d0>"
       ]
      },
      {
       "metadata": {},
       "output_type": "display_data",
       "text": [
        "<matplotlib.figure.Figure at 0x11c97c090>"
       ]
      },
      {
       "metadata": {},
       "output_type": "display_data",
       "text": [
        "<matplotlib.figure.Figure at 0x11c3ff590>"
       ]
      },
      {
       "metadata": {},
       "output_type": "display_data",
       "text": [
        "<matplotlib.figure.Figure at 0x11cc29dd0>"
       ]
      },
      {
       "metadata": {},
       "output_type": "display_data",
       "text": [
        "<matplotlib.figure.Figure at 0x11e230490>"
       ]
      },
      {
       "metadata": {},
       "output_type": "display_data",
       "text": [
        "<matplotlib.figure.Figure at 0x11d5dae10>"
       ]
      },
      {
       "metadata": {},
       "output_type": "display_data",
       "text": [
        "<matplotlib.figure.Figure at 0x11ff8d3d0>"
       ]
      },
      {
       "metadata": {},
       "output_type": "display_data",
       "text": [
        "<matplotlib.figure.Figure at 0x120384f10>"
       ]
      },
      {
       "metadata": {},
       "output_type": "display_data",
       "text": [
        "<matplotlib.figure.Figure at 0x11ed2d510>"
       ]
      },
      {
       "metadata": {},
       "output_type": "display_data",
       "text": [
        "<matplotlib.figure.Figure at 0x11d544290>"
       ]
      },
      {
       "metadata": {},
       "output_type": "display_data",
       "text": [
        "<matplotlib.figure.Figure at 0x11e4d10d0>"
       ]
      },
      {
       "metadata": {},
       "output_type": "display_data",
       "text": [
        "<matplotlib.figure.Figure at 0x119083990>"
       ]
      },
      {
       "metadata": {},
       "output_type": "display_data",
       "text": [
        "<matplotlib.figure.Figure at 0x119021a90>"
       ]
      },
      {
       "metadata": {},
       "output_type": "display_data",
       "text": [
        "<matplotlib.figure.Figure at 0x11cc4e810>"
       ]
      },
      {
       "metadata": {},
       "output_type": "display_data",
       "text": [
        "<matplotlib.figure.Figure at 0x11d5c3190>"
       ]
      },
      {
       "metadata": {},
       "output_type": "display_data",
       "text": [
        "<matplotlib.figure.Figure at 0x11c3ef850>"
       ]
      },
      {
       "metadata": {},
       "output_type": "display_data",
       "text": [
        "<matplotlib.figure.Figure at 0x11e1b1f90>"
       ]
      },
      {
       "metadata": {},
       "output_type": "display_data",
       "text": [
        "<matplotlib.figure.Figure at 0x11e230ad0>"
       ]
      },
      {
       "metadata": {},
       "output_type": "display_data",
       "text": [
        "<matplotlib.figure.Figure at 0x11ffa11d0>"
       ]
      }
     ],
     "prompt_number": 8
    },
    {
     "cell_type": "code",
     "collapsed": false,
     "input": [
      "print 'hi'"
     ],
     "language": "python",
     "metadata": {},
     "outputs": [
      {
       "output_type": "stream",
       "stream": "stdout",
       "text": [
        "hi\n"
       ]
      }
     ],
     "prompt_number": 9
    }
   ],
   "metadata": {}
  }
 ]
}