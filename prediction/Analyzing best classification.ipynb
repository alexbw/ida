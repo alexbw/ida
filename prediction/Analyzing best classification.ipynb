{
 "metadata": {
  "name": "",
  "signature": "sha256:ad95b7440095f87207820bb5872995097eee80c8af34532d315a682e448610a0"
 },
 "nbformat": 3,
 "nbformat_minor": 0,
 "worksheets": [
  {
   "cells": [
    {
     "cell_type": "code",
     "collapsed": false,
     "input": [
      "import whetlab\n",
      "import pandas as pd\n",
      "import numpy as np\n",
      "from scipy import ndimage\n",
      "from sklearn import cross_validation\n",
      "from sklearn import decomposition as decomp\n",
      "from sklearn.linear_model import LogisticRegression\n",
      "from sklearn.metrics import roc_auc_score\n",
      "from sklearn.metrics import roc_curve\n",
      "from sklearn.metrics import confusion_matrix\n",
      "from sklearn.preprocessing import label_binarize\n",
      "np.set_printoptions(suppress=True, precision=3)\n",
      "from blurd.util import *\n",
      "from scipy import stats\n",
      "from sklearn.metrics import precision_score, recall_score\n",
      "import seaborn as sns"
     ],
     "language": "python",
     "metadata": {},
     "outputs": [],
     "prompt_number": 5
    },
    {
     "cell_type": "code",
     "collapsed": false,
     "input": [
      "#####################################\n",
      "# What experiment are we looking at?\n",
      "#####################################\n",
      "\n",
      "filename = \"/Users/Alex/Dropbox/Science/Side Projects/Blood Testing/data.pandas\"\n",
      "seed = 0\n",
      "n_folds = 5"
     ],
     "language": "python",
     "metadata": {},
     "outputs": [],
     "prompt_number": 6
    },
    {
     "cell_type": "code",
     "collapsed": false,
     "input": [
      "# Load it up\n",
      "sdf = pd.read_pickle(filename)\n",
      "\n",
      "# Create a unique tag for each patient\n",
      "sdf['patient'] = sdf.sample+\"-\"+sdf.date\n",
      "\n",
      "# Select only good vials\n",
      "sdf = sdf[sdf.good == True]\n",
      "\n",
      "# Fill in the micro/hypo calls based on these criteria (AND THEN MOVE TO THE EXTRACTION NOTEBOOK)\n",
      "# ALL THESE INDICES ARE TO CALL THE MICRO/HYPOCHROMIC ANEMIC POPULATION\n",
      "hypo_idx = sdf['%Hypo'] >= 3.9\n",
      "anemic_woman_idx = (sdf['Age'] > 15) & (sdf['Sex'] == \"F\") & (sdf.HGB < 12.0) & hypo_idx\n",
      "anemic_man_idx = (sdf['Age'] > 15) & (sdf['Sex'] == \"M\") & (sdf.HGB < 13.0) & hypo_idx\n",
      "anemic_infant_idx = (sdf['Age'] < 5) & (sdf.HGB < 11.0) & hypo_idx\n",
      "anemic_child_idx = (sdf['Age'] >= 5) & (sdf['Age'] < 15) & (sdf.HGB < 11.5) & hypo_idx\n",
      "anemic_population_idx = anemic_woman_idx | anemic_man_idx | anemic_infant_idx | anemic_child_idx\n",
      "sdf.blood_type.values[np.argwhere(anemic_population_idx)[()]] = 'anemic'\n",
      "sdf.blood_type.values[np.argwhere(anemic_population_idx == False)[()]] = 'normal'\n",
      "\n",
      "# Gather the blood-type for prediction\n",
      "int_y = sdf['blood_type'].values.copy()\n",
      "int_y[int_y == 'anemic'] = 1\n",
      "int_y[int_y == 'normal'] = 0\n",
      "int_y = int_y.astype('int32')\n",
      "sdf['int_blood_type'] = int_y\n",
      "\n",
      "# Get the patients\n",
      "patients = sdf.patient.unique()\n",
      "\n",
      "# For each patient, get the blood-type\n",
      "patient_blood_type = []\n",
      "for patient in patients:\n",
      "    patient_blood_type.append(sdf[sdf.patient == patient].blood_type.values[0])\n",
      "patient_blood_type = np.array(patient_blood_type)\n",
      "\n",
      "# Hold out a final test set\n",
      "np.random.seed(0)\n",
      "train_patient_idx, test_patient_idx = list(cross_validation.StratifiedShuffleSplit(patient_blood_type, n_iter=1, test_size=1.0/n_folds))[0]\n",
      "\n",
      "train_patients = patients[train_patient_idx]\n",
      "test_patients = patients[test_patient_idx]\n",
      "all_train_idx = np.array([p in train_patients for p in sdf.patient])\n",
      "all_test_idx = np.array([p in test_patients for p in sdf.patient])\n",
      "train_patient_blood_type = patient_blood_type[train_patient_idx]\n",
      "test_patient_blood_type = patient_blood_type[test_patient_idx]\n",
      "\n",
      "# Divide the training patients into the remaining folds for K-fold cross-validated training.\n",
      "# This will help us guard a little against overfitting.\n",
      "trainvalidation_folds = list(cross_validation.StratifiedKFold(train_patient_blood_type, n_folds=n_folds-1))"
     ],
     "language": "python",
     "metadata": {},
     "outputs": [],
     "prompt_number": 7
    },
    {
     "cell_type": "code",
     "collapsed": false,
     "input": [
      "# Get the best result, and all results\n",
      "scientist = whetlab.Experiment(name='Classifying IDA (patient-based folds)')\n",
      "job = scientist.best()\n",
      "results, outcomes = scientist.get_all_results()\n",
      "results = results.values()\n",
      "outcomes = outcomes.values()\n",
      "for r,o in zip(results,outcomes):\n",
      "    r['auc'] = o\n",
      "results = pd.DataFrame(results)\n",
      "r2 = results['auc'].values\n",
      "r2[r2=='nan'] = np.nan\n",
      "results['auc'] = r2"
     ],
     "language": "python",
     "metadata": {},
     "outputs": [
      {
       "ename": "KeyboardInterrupt",
       "evalue": "",
       "output_type": "pyerr",
       "traceback": [
        "\u001b[0;31m---------------------------------------------------------------------------\u001b[0m\n\u001b[0;31mKeyboardInterrupt\u001b[0m                         Traceback (most recent call last)",
        "\u001b[0;32m<ipython-input-4-f566800118e1>\u001b[0m in \u001b[0;36m<module>\u001b[0;34m()\u001b[0m\n\u001b[1;32m      1\u001b[0m \u001b[0;31m# Get the best result, and all results\u001b[0m\u001b[0;34m\u001b[0m\u001b[0;34m\u001b[0m\u001b[0m\n\u001b[0;32m----> 2\u001b[0;31m \u001b[0mscientist\u001b[0m \u001b[0;34m=\u001b[0m \u001b[0mwhetlab\u001b[0m\u001b[0;34m.\u001b[0m\u001b[0mExperiment\u001b[0m\u001b[0;34m(\u001b[0m\u001b[0mname\u001b[0m\u001b[0;34m=\u001b[0m\u001b[0;34m'Classifying IDA (patient-based folds)'\u001b[0m\u001b[0;34m)\u001b[0m\u001b[0;34m\u001b[0m\u001b[0m\n\u001b[0m\u001b[1;32m      3\u001b[0m \u001b[0mjob\u001b[0m \u001b[0;34m=\u001b[0m \u001b[0mscientist\u001b[0m\u001b[0;34m.\u001b[0m\u001b[0mbest\u001b[0m\u001b[0;34m(\u001b[0m\u001b[0;34m)\u001b[0m\u001b[0;34m\u001b[0m\u001b[0m\n\u001b[1;32m      4\u001b[0m \u001b[0mresults\u001b[0m\u001b[0;34m,\u001b[0m \u001b[0moutcomes\u001b[0m \u001b[0;34m=\u001b[0m \u001b[0mscientist\u001b[0m\u001b[0;34m.\u001b[0m\u001b[0mget_all_results\u001b[0m\u001b[0;34m(\u001b[0m\u001b[0;34m)\u001b[0m\u001b[0;34m\u001b[0m\u001b[0m\n\u001b[1;32m      5\u001b[0m \u001b[0mresults\u001b[0m \u001b[0;34m=\u001b[0m \u001b[0mresults\u001b[0m\u001b[0;34m.\u001b[0m\u001b[0mvalues\u001b[0m\u001b[0;34m(\u001b[0m\u001b[0;34m)\u001b[0m\u001b[0;34m\u001b[0m\u001b[0m\n",
        "\u001b[0;32m/Users/Alex/Code/Whetlab-Python-Client/whetlab/__init__.pyc\u001b[0m in \u001b[0;36mfunc\u001b[0;34m(*args, **kwargs)\u001b[0m\n\u001b[1;32m     16\u001b[0m     \u001b[0;32mdef\u001b[0m \u001b[0mfunc\u001b[0m\u001b[0;34m(\u001b[0m\u001b[0;34m*\u001b[0m\u001b[0margs\u001b[0m\u001b[0;34m,\u001b[0m \u001b[0;34m**\u001b[0m\u001b[0mkwargs\u001b[0m\u001b[0;34m)\u001b[0m\u001b[0;34m:\u001b[0m\u001b[0;34m\u001b[0m\u001b[0m\n\u001b[1;32m     17\u001b[0m         \u001b[0;32mtry\u001b[0m\u001b[0;34m:\u001b[0m\u001b[0;34m\u001b[0m\u001b[0m\n\u001b[0;32m---> 18\u001b[0;31m             \u001b[0;32mreturn\u001b[0m \u001b[0mf\u001b[0m\u001b[0;34m(\u001b[0m\u001b[0;34m*\u001b[0m\u001b[0margs\u001b[0m\u001b[0;34m,\u001b[0m \u001b[0;34m**\u001b[0m\u001b[0mkwargs\u001b[0m\u001b[0;34m)\u001b[0m\u001b[0;34m\u001b[0m\u001b[0m\n\u001b[0m\u001b[1;32m     19\u001b[0m         \u001b[0;32mexcept\u001b[0m \u001b[0mrequests\u001b[0m\u001b[0;34m.\u001b[0m\u001b[0mexceptions\u001b[0m\u001b[0;34m.\u001b[0m\u001b[0mConnectionError\u001b[0m\u001b[0;34m:\u001b[0m\u001b[0;34m\u001b[0m\u001b[0m\n\u001b[1;32m     20\u001b[0m             \u001b[0;32mraise\u001b[0m \u001b[0mRuntimeError\u001b[0m\u001b[0;34m(\u001b[0m\u001b[0;34m'Unable to reach the server. Either the server is experiencing difficulties or your internet connection is down.'\u001b[0m\u001b[0;34m)\u001b[0m\u001b[0;34m\u001b[0m\u001b[0m\n",
        "\u001b[0;32m/Users/Alex/Code/Whetlab-Python-Client/whetlab/__init__.pyc\u001b[0m in \u001b[0;36m__init__\u001b[0;34m(self, name, description, parameters, outcome, resume, access_token)\u001b[0m\n\u001b[1;32m    494\u001b[0m             \u001b[0mself\u001b[0m\u001b[0;34m.\u001b[0m\u001b[0m_sync_with_server\u001b[0m\u001b[0;34m(\u001b[0m\u001b[0;34m)\u001b[0m\u001b[0;34m\u001b[0m\u001b[0m\n\u001b[1;32m    495\u001b[0m \u001b[0;34m\u001b[0m\u001b[0m\n\u001b[0;32m--> 496\u001b[0;31m         \u001b[0mpending\u001b[0m \u001b[0;34m=\u001b[0m \u001b[0mself\u001b[0m\u001b[0;34m.\u001b[0m\u001b[0mpending\u001b[0m\u001b[0;34m(\u001b[0m\u001b[0;34m)\u001b[0m\u001b[0;34m\u001b[0m\u001b[0m\n\u001b[0m\u001b[1;32m    497\u001b[0m         \u001b[0;32mif\u001b[0m \u001b[0mlen\u001b[0m\u001b[0;34m(\u001b[0m\u001b[0mpending\u001b[0m\u001b[0;34m)\u001b[0m \u001b[0;34m>\u001b[0m \u001b[0;36m0\u001b[0m\u001b[0;34m:\u001b[0m\u001b[0;34m\u001b[0m\u001b[0m\n\u001b[1;32m    498\u001b[0m             \u001b[0;32mprint\u001b[0m \u001b[0;34m\"INFO: this experiment currently has \"\u001b[0m\u001b[0;34m+\u001b[0m\u001b[0mstr\u001b[0m\u001b[0;34m(\u001b[0m\u001b[0mlen\u001b[0m\u001b[0;34m(\u001b[0m\u001b[0mpending\u001b[0m\u001b[0;34m)\u001b[0m\u001b[0;34m)\u001b[0m\u001b[0;34m+\u001b[0m\u001b[0;34m\" jobs (results) that are pending.\"\u001b[0m\u001b[0;34m\u001b[0m\u001b[0m\n",
        "\u001b[0;32m/Users/Alex/Code/Whetlab-Python-Client/whetlab/__init__.pyc\u001b[0m in \u001b[0;36mfunc\u001b[0;34m(*args, **kwargs)\u001b[0m\n\u001b[1;32m     16\u001b[0m     \u001b[0;32mdef\u001b[0m \u001b[0mfunc\u001b[0m\u001b[0;34m(\u001b[0m\u001b[0;34m*\u001b[0m\u001b[0margs\u001b[0m\u001b[0;34m,\u001b[0m \u001b[0;34m**\u001b[0m\u001b[0mkwargs\u001b[0m\u001b[0;34m)\u001b[0m\u001b[0;34m:\u001b[0m\u001b[0;34m\u001b[0m\u001b[0m\n\u001b[1;32m     17\u001b[0m         \u001b[0;32mtry\u001b[0m\u001b[0;34m:\u001b[0m\u001b[0;34m\u001b[0m\u001b[0m\n\u001b[0;32m---> 18\u001b[0;31m             \u001b[0;32mreturn\u001b[0m \u001b[0mf\u001b[0m\u001b[0;34m(\u001b[0m\u001b[0;34m*\u001b[0m\u001b[0margs\u001b[0m\u001b[0;34m,\u001b[0m \u001b[0;34m**\u001b[0m\u001b[0mkwargs\u001b[0m\u001b[0;34m)\u001b[0m\u001b[0;34m\u001b[0m\u001b[0m\n\u001b[0m\u001b[1;32m     19\u001b[0m         \u001b[0;32mexcept\u001b[0m \u001b[0mrequests\u001b[0m\u001b[0;34m.\u001b[0m\u001b[0mexceptions\u001b[0m\u001b[0;34m.\u001b[0m\u001b[0mConnectionError\u001b[0m\u001b[0;34m:\u001b[0m\u001b[0;34m\u001b[0m\u001b[0m\n\u001b[1;32m     20\u001b[0m             \u001b[0;32mraise\u001b[0m \u001b[0mRuntimeError\u001b[0m\u001b[0;34m(\u001b[0m\u001b[0;34m'Unable to reach the server. Either the server is experiencing difficulties or your internet connection is down.'\u001b[0m\u001b[0;34m)\u001b[0m\u001b[0;34m\u001b[0m\u001b[0m\n",
        "\u001b[0;32m/Users/Alex/Code/Whetlab-Python-Client/whetlab/__init__.pyc\u001b[0m in \u001b[0;36mpending\u001b[0;34m(self)\u001b[0m\n\u001b[1;32m    856\u001b[0m \u001b[0;34m\u001b[0m\u001b[0m\n\u001b[1;32m    857\u001b[0m         \u001b[0;31m# Sync with the REST server\u001b[0m\u001b[0;34m\u001b[0m\u001b[0;34m\u001b[0m\u001b[0m\n\u001b[0;32m--> 858\u001b[0;31m         \u001b[0mself\u001b[0m\u001b[0;34m.\u001b[0m\u001b[0m_sync_with_server\u001b[0m\u001b[0;34m(\u001b[0m\u001b[0;34m)\u001b[0m\u001b[0;34m\u001b[0m\u001b[0m\n\u001b[0m\u001b[1;32m    859\u001b[0m \u001b[0;34m\u001b[0m\u001b[0m\n\u001b[1;32m    860\u001b[0m         \u001b[0;31m# Find IDs of results with value None and append parameters to returned list\u001b[0m\u001b[0;34m\u001b[0m\u001b[0;34m\u001b[0m\u001b[0m\n",
        "\u001b[0;32m/Users/Alex/Code/Whetlab-Python-Client/whetlab/__init__.pyc\u001b[0m in \u001b[0;36mfunc\u001b[0;34m(*args, **kwargs)\u001b[0m\n\u001b[1;32m     16\u001b[0m     \u001b[0;32mdef\u001b[0m \u001b[0mfunc\u001b[0m\u001b[0;34m(\u001b[0m\u001b[0;34m*\u001b[0m\u001b[0margs\u001b[0m\u001b[0;34m,\u001b[0m \u001b[0;34m**\u001b[0m\u001b[0mkwargs\u001b[0m\u001b[0;34m)\u001b[0m\u001b[0;34m:\u001b[0m\u001b[0;34m\u001b[0m\u001b[0m\n\u001b[1;32m     17\u001b[0m         \u001b[0;32mtry\u001b[0m\u001b[0;34m:\u001b[0m\u001b[0;34m\u001b[0m\u001b[0m\n\u001b[0;32m---> 18\u001b[0;31m             \u001b[0;32mreturn\u001b[0m \u001b[0mf\u001b[0m\u001b[0;34m(\u001b[0m\u001b[0;34m*\u001b[0m\u001b[0margs\u001b[0m\u001b[0;34m,\u001b[0m \u001b[0;34m**\u001b[0m\u001b[0mkwargs\u001b[0m\u001b[0;34m)\u001b[0m\u001b[0;34m\u001b[0m\u001b[0m\n\u001b[0m\u001b[1;32m     19\u001b[0m         \u001b[0;32mexcept\u001b[0m \u001b[0mrequests\u001b[0m\u001b[0;34m.\u001b[0m\u001b[0mexceptions\u001b[0m\u001b[0;34m.\u001b[0m\u001b[0mConnectionError\u001b[0m\u001b[0;34m:\u001b[0m\u001b[0;34m\u001b[0m\u001b[0m\n\u001b[1;32m     20\u001b[0m             \u001b[0;32mraise\u001b[0m \u001b[0mRuntimeError\u001b[0m\u001b[0;34m(\u001b[0m\u001b[0;34m'Unable to reach the server. Either the server is experiencing difficulties or your internet connection is down.'\u001b[0m\u001b[0;34m)\u001b[0m\u001b[0;34m\u001b[0m\u001b[0m\n",
        "\u001b[0;32m/Users/Alex/Code/Whetlab-Python-Client/whetlab/__init__.pyc\u001b[0m in \u001b[0;36m_sync_with_server\u001b[0;34m(self)\u001b[0m\n\u001b[1;32m    530\u001b[0m \u001b[0;34m\u001b[0m\u001b[0m\n\u001b[1;32m    531\u001b[0m         \u001b[0;31m# Get results generated so far for this experiment\u001b[0m\u001b[0;34m\u001b[0m\u001b[0;34m\u001b[0m\u001b[0m\n\u001b[0;32m--> 532\u001b[0;31m         \u001b[0mrest_results\u001b[0m \u001b[0;34m=\u001b[0m \u001b[0mself\u001b[0m\u001b[0;34m.\u001b[0m\u001b[0m_client\u001b[0m\u001b[0;34m.\u001b[0m\u001b[0mget_results\u001b[0m\u001b[0;34m(\u001b[0m\u001b[0mself\u001b[0m\u001b[0;34m.\u001b[0m\u001b[0mexperiment_id\u001b[0m\u001b[0;34m)\u001b[0m\u001b[0;34m\u001b[0m\u001b[0m\n\u001b[0m\u001b[1;32m    533\u001b[0m         \u001b[0;31m# Construct things needed by client internally, to keep track of\u001b[0m\u001b[0;34m\u001b[0m\u001b[0;34m\u001b[0m\u001b[0m\n\u001b[1;32m    534\u001b[0m         \u001b[0;31m# all the results\u001b[0m\u001b[0;34m\u001b[0m\u001b[0;34m\u001b[0m\u001b[0m\n",
        "\u001b[0;32m/Users/Alex/Code/Whetlab-Python-Client/whetlab/__init__.pyc\u001b[0m in \u001b[0;36mfunc\u001b[0;34m(*args, **kwargs)\u001b[0m\n\u001b[1;32m   1092\u001b[0m         \u001b[0;32mfor\u001b[0m \u001b[0mi\u001b[0m \u001b[0;32min\u001b[0m \u001b[0mrange\u001b[0m\u001b[0;34m(\u001b[0m\u001b[0mlen\u001b[0m\u001b[0;34m(\u001b[0m\u001b[0mRETRY_TIMES\u001b[0m\u001b[0;34m)\u001b[0m\u001b[0;34m+\u001b[0m\u001b[0;36m1\u001b[0m\u001b[0;34m)\u001b[0m\u001b[0;34m:\u001b[0m\u001b[0;34m\u001b[0m\u001b[0m\n\u001b[1;32m   1093\u001b[0m             \u001b[0;32mtry\u001b[0m\u001b[0;34m:\u001b[0m\u001b[0;34m\u001b[0m\u001b[0m\n\u001b[0;32m-> 1094\u001b[0;31m                 \u001b[0;32mreturn\u001b[0m \u001b[0mf\u001b[0m\u001b[0;34m(\u001b[0m\u001b[0;34m*\u001b[0m\u001b[0margs\u001b[0m\u001b[0;34m,\u001b[0m \u001b[0;34m**\u001b[0m\u001b[0mkwargs\u001b[0m\u001b[0;34m)\u001b[0m\u001b[0;34m\u001b[0m\u001b[0m\n\u001b[0m\u001b[1;32m   1095\u001b[0m             \u001b[0;32mexcept\u001b[0m \u001b[0mrequests\u001b[0m\u001b[0;34m.\u001b[0m\u001b[0mexceptions\u001b[0m\u001b[0;34m.\u001b[0m\u001b[0mConnectionError\u001b[0m \u001b[0;32mas\u001b[0m \u001b[0me\u001b[0m\u001b[0;34m:\u001b[0m\u001b[0;34m\u001b[0m\u001b[0m\n\u001b[1;32m   1096\u001b[0m                 \u001b[0;32mif\u001b[0m \u001b[0mi\u001b[0m \u001b[0;34m==\u001b[0m \u001b[0mlen\u001b[0m\u001b[0;34m(\u001b[0m\u001b[0mRETRY_TIMES\u001b[0m\u001b[0;34m)\u001b[0m\u001b[0;34m:\u001b[0m\u001b[0;34m\u001b[0m\u001b[0m\n",
        "\u001b[0;32m/Users/Alex/Code/Whetlab-Python-Client/whetlab/__init__.pyc\u001b[0m in \u001b[0;36mget_results\u001b[0;34m(self, id)\u001b[0m\n\u001b[1;32m   1240\u001b[0m         \"\"\"\n\u001b[1;32m   1241\u001b[0m \u001b[0;34m\u001b[0m\u001b[0m\n\u001b[0;32m-> 1242\u001b[0;31m         \u001b[0;32mreturn\u001b[0m \u001b[0mself\u001b[0m\u001b[0;34m.\u001b[0m\u001b[0m_client\u001b[0m\u001b[0;34m.\u001b[0m\u001b[0mresults\u001b[0m\u001b[0;34m(\u001b[0m\u001b[0;34m)\u001b[0m\u001b[0;34m.\u001b[0m\u001b[0mget\u001b[0m\u001b[0;34m(\u001b[0m\u001b[0;34m{\u001b[0m\u001b[0;34m'query'\u001b[0m\u001b[0;34m:\u001b[0m \u001b[0;34m{\u001b[0m\u001b[0;34m'experiment'\u001b[0m\u001b[0;34m:\u001b[0m\u001b[0mid\u001b[0m\u001b[0;34m,\u001b[0m\u001b[0;34m'page_size'\u001b[0m\u001b[0;34m:\u001b[0m\u001b[0mINF_PAGE_SIZE\u001b[0m\u001b[0;34m}\u001b[0m\u001b[0;34m}\u001b[0m\u001b[0;34m)\u001b[0m\u001b[0;34m.\u001b[0m\u001b[0mbody\u001b[0m\u001b[0;34m[\u001b[0m\u001b[0;34m'results'\u001b[0m\u001b[0;34m]\u001b[0m\u001b[0;34m\u001b[0m\u001b[0m\n\u001b[0m\u001b[1;32m   1243\u001b[0m \u001b[0;34m\u001b[0m\u001b[0m\n\u001b[1;32m   1244\u001b[0m     \u001b[0;34m@\u001b[0m\u001b[0mretry\u001b[0m\u001b[0;34m\u001b[0m\u001b[0m\n",
        "\u001b[0;32m/Users/Alex/Code/Whetlab-Python-Client/whetlab/server/api/results.pyc\u001b[0m in \u001b[0;36mget\u001b[0;34m(self, options)\u001b[0m\n\u001b[1;32m     12\u001b[0m                 \u001b[0mbody\u001b[0m \u001b[0;34m=\u001b[0m \u001b[0moptions\u001b[0m\u001b[0;34m[\u001b[0m\u001b[0;34m'query'\u001b[0m\u001b[0;34m]\u001b[0m \u001b[0;32mif\u001b[0m \u001b[0;34m'query'\u001b[0m \u001b[0;32min\u001b[0m \u001b[0moptions\u001b[0m \u001b[0;32melse\u001b[0m \u001b[0;34m{\u001b[0m\u001b[0;34m}\u001b[0m\u001b[0;34m\u001b[0m\u001b[0m\n\u001b[1;32m     13\u001b[0m \u001b[0;34m\u001b[0m\u001b[0m\n\u001b[0;32m---> 14\u001b[0;31m                 \u001b[0mresponse\u001b[0m \u001b[0;34m=\u001b[0m \u001b[0mself\u001b[0m\u001b[0;34m.\u001b[0m\u001b[0mclient\u001b[0m\u001b[0;34m.\u001b[0m\u001b[0mget\u001b[0m\u001b[0;34m(\u001b[0m\u001b[0;34m'/alpha/results'\u001b[0m\u001b[0;34m,\u001b[0m \u001b[0mbody\u001b[0m\u001b[0;34m,\u001b[0m \u001b[0moptions\u001b[0m\u001b[0;34m)\u001b[0m\u001b[0;34m\u001b[0m\u001b[0m\n\u001b[0m\u001b[1;32m     15\u001b[0m \u001b[0;34m\u001b[0m\u001b[0m\n\u001b[1;32m     16\u001b[0m                 \u001b[0;32mreturn\u001b[0m \u001b[0mresponse\u001b[0m\u001b[0;34m\u001b[0m\u001b[0m\n",
        "\u001b[0;32m/Users/Alex/Code/Whetlab-Python-Client/whetlab/server/http_client/__init__.pyc\u001b[0m in \u001b[0;36mget\u001b[0;34m(self, path, params, options)\u001b[0m\n\u001b[1;32m     44\u001b[0m         \u001b[0;32mdef\u001b[0m \u001b[0mget\u001b[0m\u001b[0;34m(\u001b[0m\u001b[0mself\u001b[0m\u001b[0;34m,\u001b[0m \u001b[0mpath\u001b[0m\u001b[0;34m,\u001b[0m \u001b[0mparams\u001b[0m\u001b[0;34m=\u001b[0m\u001b[0;34m{\u001b[0m\u001b[0;34m}\u001b[0m\u001b[0;34m,\u001b[0m \u001b[0moptions\u001b[0m\u001b[0;34m=\u001b[0m\u001b[0;34m{\u001b[0m\u001b[0;34m}\u001b[0m\u001b[0;34m)\u001b[0m\u001b[0;34m:\u001b[0m\u001b[0;34m\u001b[0m\u001b[0m\n\u001b[1;32m     45\u001b[0m                 \u001b[0moptions\u001b[0m\u001b[0;34m.\u001b[0m\u001b[0mupdate\u001b[0m\u001b[0;34m(\u001b[0m\u001b[0;34m{\u001b[0m \u001b[0;34m'query'\u001b[0m\u001b[0;34m:\u001b[0m \u001b[0mparams\u001b[0m \u001b[0;34m}\u001b[0m\u001b[0;34m)\u001b[0m\u001b[0;34m\u001b[0m\u001b[0m\n\u001b[0;32m---> 46\u001b[0;31m                 \u001b[0;32mreturn\u001b[0m \u001b[0mself\u001b[0m\u001b[0;34m.\u001b[0m\u001b[0mrequest\u001b[0m\u001b[0;34m(\u001b[0m\u001b[0mpath\u001b[0m\u001b[0;34m,\u001b[0m \u001b[0mNone\u001b[0m\u001b[0;34m,\u001b[0m \u001b[0;34m'get'\u001b[0m\u001b[0;34m,\u001b[0m \u001b[0moptions\u001b[0m\u001b[0;34m)\u001b[0m\u001b[0;34m\u001b[0m\u001b[0m\n\u001b[0m\u001b[1;32m     47\u001b[0m \u001b[0;34m\u001b[0m\u001b[0m\n\u001b[1;32m     48\u001b[0m         \u001b[0;32mdef\u001b[0m \u001b[0mpost\u001b[0m\u001b[0;34m(\u001b[0m\u001b[0mself\u001b[0m\u001b[0;34m,\u001b[0m \u001b[0mpath\u001b[0m\u001b[0;34m,\u001b[0m \u001b[0mbody\u001b[0m\u001b[0;34m=\u001b[0m\u001b[0;34m{\u001b[0m\u001b[0;34m}\u001b[0m\u001b[0;34m,\u001b[0m \u001b[0moptions\u001b[0m\u001b[0;34m=\u001b[0m\u001b[0;34m{\u001b[0m\u001b[0;34m}\u001b[0m\u001b[0;34m)\u001b[0m\u001b[0;34m:\u001b[0m\u001b[0;34m\u001b[0m\u001b[0m\n",
        "\u001b[0;32m/Users/Alex/Code/Whetlab-Python-Client/whetlab/server/http_client/__init__.pyc\u001b[0m in \u001b[0;36mrequest\u001b[0;34m(self, path, body, method, options)\u001b[0m\n\u001b[1;32m    103\u001b[0m                 \u001b[0mkwargs\u001b[0m \u001b[0;34m=\u001b[0m \u001b[0mself\u001b[0m\u001b[0;34m.\u001b[0m\u001b[0mauth\u001b[0m\u001b[0;34m.\u001b[0m\u001b[0mset\u001b[0m\u001b[0;34m(\u001b[0m\u001b[0mkwargs\u001b[0m\u001b[0;34m)\u001b[0m\u001b[0;34m\u001b[0m\u001b[0m\n\u001b[1;32m    104\u001b[0m \u001b[0;34m\u001b[0m\u001b[0m\n\u001b[0;32m--> 105\u001b[0;31m                 \u001b[0mresponse\u001b[0m \u001b[0;34m=\u001b[0m \u001b[0mself\u001b[0m\u001b[0;34m.\u001b[0m\u001b[0mcreate_request\u001b[0m\u001b[0;34m(\u001b[0m\u001b[0mmethod\u001b[0m\u001b[0;34m,\u001b[0m \u001b[0mpath\u001b[0m\u001b[0;34m,\u001b[0m \u001b[0mkwargs\u001b[0m\u001b[0;34m)\u001b[0m\u001b[0;34m\u001b[0m\u001b[0m\n\u001b[0m\u001b[1;32m    106\u001b[0m \u001b[0;34m\u001b[0m\u001b[0m\n\u001b[1;32m    107\u001b[0m                 \u001b[0;32mreturn\u001b[0m \u001b[0mResponse\u001b[0m\u001b[0;34m(\u001b[0m\u001b[0mself\u001b[0m\u001b[0;34m.\u001b[0m\u001b[0mget_body\u001b[0m\u001b[0;34m(\u001b[0m\u001b[0mresponse\u001b[0m\u001b[0;34m)\u001b[0m\u001b[0;34m,\u001b[0m \u001b[0mresponse\u001b[0m\u001b[0;34m.\u001b[0m\u001b[0mstatus_code\u001b[0m\u001b[0;34m,\u001b[0m \u001b[0mresponse\u001b[0m\u001b[0;34m.\u001b[0m\u001b[0mheaders\u001b[0m\u001b[0;34m)\u001b[0m\u001b[0;34m\u001b[0m\u001b[0m\n",
        "\u001b[0;32m/Users/Alex/Code/Whetlab-Python-Client/whetlab/server/http_client/__init__.pyc\u001b[0m in \u001b[0;36mcreate_request\u001b[0;34m(self, method, path, options)\u001b[0m\n\u001b[1;32m    121\u001b[0m                         \u001b[0;32mdel\u001b[0m \u001b[0moptions\u001b[0m\u001b[0;34m[\u001b[0m\u001b[0;34m'response_type'\u001b[0m\u001b[0;34m]\u001b[0m\u001b[0;34m\u001b[0m\u001b[0m\n\u001b[1;32m    122\u001b[0m \u001b[0;34m\u001b[0m\u001b[0m\n\u001b[0;32m--> 123\u001b[0;31m                 \u001b[0;32mreturn\u001b[0m \u001b[0mrequests\u001b[0m\u001b[0;34m.\u001b[0m\u001b[0mrequest\u001b[0m\u001b[0;34m(\u001b[0m\u001b[0mmethod\u001b[0m\u001b[0;34m,\u001b[0m \u001b[0mpath\u001b[0m\u001b[0;34m,\u001b[0m \u001b[0;34m**\u001b[0m\u001b[0moptions\u001b[0m\u001b[0;34m)\u001b[0m\u001b[0;34m\u001b[0m\u001b[0m\n\u001b[0m\u001b[1;32m    124\u001b[0m \u001b[0;34m\u001b[0m\u001b[0m\n\u001b[1;32m    125\u001b[0m         \u001b[0;31m# Get response body in correct format\u001b[0m\u001b[0;34m\u001b[0m\u001b[0;34m\u001b[0m\u001b[0m\n",
        "\u001b[0;32m/Users/Alex/anaconda/lib/python2.7/site-packages/requests/api.pyc\u001b[0m in \u001b[0;36mrequest\u001b[0;34m(method, url, **kwargs)\u001b[0m\n\u001b[1;32m     48\u001b[0m \u001b[0;34m\u001b[0m\u001b[0m\n\u001b[1;32m     49\u001b[0m     \u001b[0msession\u001b[0m \u001b[0;34m=\u001b[0m \u001b[0msessions\u001b[0m\u001b[0;34m.\u001b[0m\u001b[0mSession\u001b[0m\u001b[0;34m(\u001b[0m\u001b[0;34m)\u001b[0m\u001b[0;34m\u001b[0m\u001b[0m\n\u001b[0;32m---> 50\u001b[0;31m     \u001b[0mresponse\u001b[0m \u001b[0;34m=\u001b[0m \u001b[0msession\u001b[0m\u001b[0;34m.\u001b[0m\u001b[0mrequest\u001b[0m\u001b[0;34m(\u001b[0m\u001b[0mmethod\u001b[0m\u001b[0;34m=\u001b[0m\u001b[0mmethod\u001b[0m\u001b[0;34m,\u001b[0m \u001b[0murl\u001b[0m\u001b[0;34m=\u001b[0m\u001b[0murl\u001b[0m\u001b[0;34m,\u001b[0m \u001b[0;34m**\u001b[0m\u001b[0mkwargs\u001b[0m\u001b[0;34m)\u001b[0m\u001b[0;34m\u001b[0m\u001b[0m\n\u001b[0m\u001b[1;32m     51\u001b[0m     \u001b[0;31m# By explicitly closing the session, we avoid leaving sockets open which\u001b[0m\u001b[0;34m\u001b[0m\u001b[0;34m\u001b[0m\u001b[0m\n\u001b[1;32m     52\u001b[0m     \u001b[0;31m# can trigger a ResourceWarning in some cases, and look like a memory leak\u001b[0m\u001b[0;34m\u001b[0m\u001b[0;34m\u001b[0m\u001b[0m\n",
        "\u001b[0;32m/Users/Alex/anaconda/lib/python2.7/site-packages/requests/sessions.pyc\u001b[0m in \u001b[0;36mrequest\u001b[0;34m(self, method, url, params, data, headers, cookies, files, auth, timeout, allow_redirects, proxies, hooks, stream, verify, cert, json)\u001b[0m\n\u001b[1;32m    463\u001b[0m         }\n\u001b[1;32m    464\u001b[0m         \u001b[0msend_kwargs\u001b[0m\u001b[0;34m.\u001b[0m\u001b[0mupdate\u001b[0m\u001b[0;34m(\u001b[0m\u001b[0msettings\u001b[0m\u001b[0;34m)\u001b[0m\u001b[0;34m\u001b[0m\u001b[0m\n\u001b[0;32m--> 465\u001b[0;31m         \u001b[0mresp\u001b[0m \u001b[0;34m=\u001b[0m \u001b[0mself\u001b[0m\u001b[0;34m.\u001b[0m\u001b[0msend\u001b[0m\u001b[0;34m(\u001b[0m\u001b[0mprep\u001b[0m\u001b[0;34m,\u001b[0m \u001b[0;34m**\u001b[0m\u001b[0msend_kwargs\u001b[0m\u001b[0;34m)\u001b[0m\u001b[0;34m\u001b[0m\u001b[0m\n\u001b[0m\u001b[1;32m    466\u001b[0m \u001b[0;34m\u001b[0m\u001b[0m\n\u001b[1;32m    467\u001b[0m         \u001b[0;32mreturn\u001b[0m \u001b[0mresp\u001b[0m\u001b[0;34m\u001b[0m\u001b[0m\n",
        "\u001b[0;32m/Users/Alex/anaconda/lib/python2.7/site-packages/requests/sessions.pyc\u001b[0m in \u001b[0;36msend\u001b[0;34m(self, request, **kwargs)\u001b[0m\n\u001b[1;32m    592\u001b[0m \u001b[0;34m\u001b[0m\u001b[0m\n\u001b[1;32m    593\u001b[0m         \u001b[0;31m# Resolve redirects if allowed.\u001b[0m\u001b[0;34m\u001b[0m\u001b[0;34m\u001b[0m\u001b[0m\n\u001b[0;32m--> 594\u001b[0;31m         \u001b[0mhistory\u001b[0m \u001b[0;34m=\u001b[0m \u001b[0;34m[\u001b[0m\u001b[0mresp\u001b[0m \u001b[0;32mfor\u001b[0m \u001b[0mresp\u001b[0m \u001b[0;32min\u001b[0m \u001b[0mgen\u001b[0m\u001b[0;34m]\u001b[0m \u001b[0;32mif\u001b[0m \u001b[0mallow_redirects\u001b[0m \u001b[0;32melse\u001b[0m \u001b[0;34m[\u001b[0m\u001b[0;34m]\u001b[0m\u001b[0;34m\u001b[0m\u001b[0m\n\u001b[0m\u001b[1;32m    595\u001b[0m \u001b[0;34m\u001b[0m\u001b[0m\n\u001b[1;32m    596\u001b[0m         \u001b[0;31m# Shuffle things around if there's history.\u001b[0m\u001b[0;34m\u001b[0m\u001b[0;34m\u001b[0m\u001b[0m\n",
        "\u001b[0;32m/Users/Alex/anaconda/lib/python2.7/site-packages/requests/sessions.pyc\u001b[0m in \u001b[0;36mresolve_redirects\u001b[0;34m(self, resp, req, stream, timeout, verify, cert, proxies, **adapter_kwargs)\u001b[0m\n\u001b[1;32m    194\u001b[0m                 \u001b[0mproxies\u001b[0m\u001b[0;34m=\u001b[0m\u001b[0mproxies\u001b[0m\u001b[0;34m,\u001b[0m\u001b[0;34m\u001b[0m\u001b[0m\n\u001b[1;32m    195\u001b[0m                 \u001b[0mallow_redirects\u001b[0m\u001b[0;34m=\u001b[0m\u001b[0mFalse\u001b[0m\u001b[0;34m,\u001b[0m\u001b[0;34m\u001b[0m\u001b[0m\n\u001b[0;32m--> 196\u001b[0;31m                 \u001b[0;34m**\u001b[0m\u001b[0madapter_kwargs\u001b[0m\u001b[0;34m\u001b[0m\u001b[0m\n\u001b[0m\u001b[1;32m    197\u001b[0m             )\n\u001b[1;32m    198\u001b[0m \u001b[0;34m\u001b[0m\u001b[0m\n",
        "\u001b[0;32m/Users/Alex/anaconda/lib/python2.7/site-packages/requests/sessions.pyc\u001b[0m in \u001b[0;36msend\u001b[0;34m(self, request, **kwargs)\u001b[0m\n\u001b[1;32m    571\u001b[0m \u001b[0;34m\u001b[0m\u001b[0m\n\u001b[1;32m    572\u001b[0m         \u001b[0;31m# Send the request\u001b[0m\u001b[0;34m\u001b[0m\u001b[0;34m\u001b[0m\u001b[0m\n\u001b[0;32m--> 573\u001b[0;31m         \u001b[0mr\u001b[0m \u001b[0;34m=\u001b[0m \u001b[0madapter\u001b[0m\u001b[0;34m.\u001b[0m\u001b[0msend\u001b[0m\u001b[0;34m(\u001b[0m\u001b[0mrequest\u001b[0m\u001b[0;34m,\u001b[0m \u001b[0;34m**\u001b[0m\u001b[0mkwargs\u001b[0m\u001b[0;34m)\u001b[0m\u001b[0;34m\u001b[0m\u001b[0m\n\u001b[0m\u001b[1;32m    574\u001b[0m \u001b[0;34m\u001b[0m\u001b[0m\n\u001b[1;32m    575\u001b[0m         \u001b[0;31m# Total elapsed time of the request (approximately)\u001b[0m\u001b[0;34m\u001b[0m\u001b[0;34m\u001b[0m\u001b[0m\n",
        "\u001b[0;32m/Users/Alex/anaconda/lib/python2.7/site-packages/requests/adapters.pyc\u001b[0m in \u001b[0;36msend\u001b[0;34m(self, request, stream, timeout, verify, cert, proxies)\u001b[0m\n\u001b[1;32m    368\u001b[0m                     \u001b[0mdecode_content\u001b[0m\u001b[0;34m=\u001b[0m\u001b[0mFalse\u001b[0m\u001b[0;34m,\u001b[0m\u001b[0;34m\u001b[0m\u001b[0m\n\u001b[1;32m    369\u001b[0m                     \u001b[0mretries\u001b[0m\u001b[0;34m=\u001b[0m\u001b[0mself\u001b[0m\u001b[0;34m.\u001b[0m\u001b[0mmax_retries\u001b[0m\u001b[0;34m,\u001b[0m\u001b[0;34m\u001b[0m\u001b[0m\n\u001b[0;32m--> 370\u001b[0;31m                     \u001b[0mtimeout\u001b[0m\u001b[0;34m=\u001b[0m\u001b[0mtimeout\u001b[0m\u001b[0;34m\u001b[0m\u001b[0m\n\u001b[0m\u001b[1;32m    371\u001b[0m                 )\n\u001b[1;32m    372\u001b[0m \u001b[0;34m\u001b[0m\u001b[0m\n",
        "\u001b[0;32m/Users/Alex/anaconda/lib/python2.7/site-packages/requests/packages/urllib3/connectionpool.pyc\u001b[0m in \u001b[0;36murlopen\u001b[0;34m(self, method, url, body, headers, retries, redirect, assert_same_host, timeout, pool_timeout, release_conn, **response_kw)\u001b[0m\n\u001b[1;32m    542\u001b[0m             httplib_response = self._make_request(conn, method, url,\n\u001b[1;32m    543\u001b[0m                                                   \u001b[0mtimeout\u001b[0m\u001b[0;34m=\u001b[0m\u001b[0mtimeout_obj\u001b[0m\u001b[0;34m,\u001b[0m\u001b[0;34m\u001b[0m\u001b[0m\n\u001b[0;32m--> 544\u001b[0;31m                                                   body=body, headers=headers)\n\u001b[0m\u001b[1;32m    545\u001b[0m \u001b[0;34m\u001b[0m\u001b[0m\n\u001b[1;32m    546\u001b[0m             \u001b[0;31m# If we're going to release the connection in ``finally:``, then\u001b[0m\u001b[0;34m\u001b[0m\u001b[0;34m\u001b[0m\u001b[0m\n",
        "\u001b[0;32m/Users/Alex/anaconda/lib/python2.7/site-packages/requests/packages/urllib3/connectionpool.pyc\u001b[0m in \u001b[0;36m_make_request\u001b[0;34m(self, conn, method, url, timeout, **httplib_request_kw)\u001b[0m\n\u001b[1;32m    370\u001b[0m         \u001b[0;32mtry\u001b[0m\u001b[0;34m:\u001b[0m\u001b[0;34m\u001b[0m\u001b[0m\n\u001b[1;32m    371\u001b[0m             \u001b[0;32mtry\u001b[0m\u001b[0;34m:\u001b[0m  \u001b[0;31m# Python 2.7, use buffering of HTTP responses\u001b[0m\u001b[0;34m\u001b[0m\u001b[0m\n\u001b[0;32m--> 372\u001b[0;31m                 \u001b[0mhttplib_response\u001b[0m \u001b[0;34m=\u001b[0m \u001b[0mconn\u001b[0m\u001b[0;34m.\u001b[0m\u001b[0mgetresponse\u001b[0m\u001b[0;34m(\u001b[0m\u001b[0mbuffering\u001b[0m\u001b[0;34m=\u001b[0m\u001b[0mTrue\u001b[0m\u001b[0;34m)\u001b[0m\u001b[0;34m\u001b[0m\u001b[0m\n\u001b[0m\u001b[1;32m    373\u001b[0m             \u001b[0;32mexcept\u001b[0m \u001b[0mTypeError\u001b[0m\u001b[0;34m:\u001b[0m  \u001b[0;31m# Python 2.6 and older\u001b[0m\u001b[0;34m\u001b[0m\u001b[0m\n\u001b[1;32m    374\u001b[0m                 \u001b[0mhttplib_response\u001b[0m \u001b[0;34m=\u001b[0m \u001b[0mconn\u001b[0m\u001b[0;34m.\u001b[0m\u001b[0mgetresponse\u001b[0m\u001b[0;34m(\u001b[0m\u001b[0;34m)\u001b[0m\u001b[0;34m\u001b[0m\u001b[0m\n",
        "\u001b[0;32m/Users/Alex/anaconda/lib/python2.7/httplib.pyc\u001b[0m in \u001b[0;36mgetresponse\u001b[0;34m(self, buffering)\u001b[0m\n\u001b[1;32m   1130\u001b[0m \u001b[0;34m\u001b[0m\u001b[0m\n\u001b[1;32m   1131\u001b[0m         \u001b[0;32mtry\u001b[0m\u001b[0;34m:\u001b[0m\u001b[0;34m\u001b[0m\u001b[0m\n\u001b[0;32m-> 1132\u001b[0;31m             \u001b[0mresponse\u001b[0m\u001b[0;34m.\u001b[0m\u001b[0mbegin\u001b[0m\u001b[0;34m(\u001b[0m\u001b[0;34m)\u001b[0m\u001b[0;34m\u001b[0m\u001b[0m\n\u001b[0m\u001b[1;32m   1133\u001b[0m             \u001b[0;32massert\u001b[0m \u001b[0mresponse\u001b[0m\u001b[0;34m.\u001b[0m\u001b[0mwill_close\u001b[0m \u001b[0;34m!=\u001b[0m \u001b[0m_UNKNOWN\u001b[0m\u001b[0;34m\u001b[0m\u001b[0m\n\u001b[1;32m   1134\u001b[0m             \u001b[0mself\u001b[0m\u001b[0;34m.\u001b[0m\u001b[0m__state\u001b[0m \u001b[0;34m=\u001b[0m \u001b[0m_CS_IDLE\u001b[0m\u001b[0;34m\u001b[0m\u001b[0m\n",
        "\u001b[0;32m/Users/Alex/anaconda/lib/python2.7/httplib.pyc\u001b[0m in \u001b[0;36mbegin\u001b[0;34m(self)\u001b[0m\n\u001b[1;32m    451\u001b[0m         \u001b[0;31m# read until we get a non-100 response\u001b[0m\u001b[0;34m\u001b[0m\u001b[0;34m\u001b[0m\u001b[0m\n\u001b[1;32m    452\u001b[0m         \u001b[0;32mwhile\u001b[0m \u001b[0mTrue\u001b[0m\u001b[0;34m:\u001b[0m\u001b[0;34m\u001b[0m\u001b[0m\n\u001b[0;32m--> 453\u001b[0;31m             \u001b[0mversion\u001b[0m\u001b[0;34m,\u001b[0m \u001b[0mstatus\u001b[0m\u001b[0;34m,\u001b[0m \u001b[0mreason\u001b[0m \u001b[0;34m=\u001b[0m \u001b[0mself\u001b[0m\u001b[0;34m.\u001b[0m\u001b[0m_read_status\u001b[0m\u001b[0;34m(\u001b[0m\u001b[0;34m)\u001b[0m\u001b[0;34m\u001b[0m\u001b[0m\n\u001b[0m\u001b[1;32m    454\u001b[0m             \u001b[0;32mif\u001b[0m \u001b[0mstatus\u001b[0m \u001b[0;34m!=\u001b[0m \u001b[0mCONTINUE\u001b[0m\u001b[0;34m:\u001b[0m\u001b[0;34m\u001b[0m\u001b[0m\n\u001b[1;32m    455\u001b[0m                 \u001b[0;32mbreak\u001b[0m\u001b[0;34m\u001b[0m\u001b[0m\n",
        "\u001b[0;32m/Users/Alex/anaconda/lib/python2.7/httplib.pyc\u001b[0m in \u001b[0;36m_read_status\u001b[0;34m(self)\u001b[0m\n\u001b[1;32m    407\u001b[0m     \u001b[0;32mdef\u001b[0m \u001b[0m_read_status\u001b[0m\u001b[0;34m(\u001b[0m\u001b[0mself\u001b[0m\u001b[0;34m)\u001b[0m\u001b[0;34m:\u001b[0m\u001b[0;34m\u001b[0m\u001b[0m\n\u001b[1;32m    408\u001b[0m         \u001b[0;31m# Initialize with Simple-Response defaults\u001b[0m\u001b[0;34m\u001b[0m\u001b[0;34m\u001b[0m\u001b[0m\n\u001b[0;32m--> 409\u001b[0;31m         \u001b[0mline\u001b[0m \u001b[0;34m=\u001b[0m \u001b[0mself\u001b[0m\u001b[0;34m.\u001b[0m\u001b[0mfp\u001b[0m\u001b[0;34m.\u001b[0m\u001b[0mreadline\u001b[0m\u001b[0;34m(\u001b[0m\u001b[0m_MAXLINE\u001b[0m \u001b[0;34m+\u001b[0m \u001b[0;36m1\u001b[0m\u001b[0;34m)\u001b[0m\u001b[0;34m\u001b[0m\u001b[0m\n\u001b[0m\u001b[1;32m    410\u001b[0m         \u001b[0;32mif\u001b[0m \u001b[0mlen\u001b[0m\u001b[0;34m(\u001b[0m\u001b[0mline\u001b[0m\u001b[0;34m)\u001b[0m \u001b[0;34m>\u001b[0m \u001b[0m_MAXLINE\u001b[0m\u001b[0;34m:\u001b[0m\u001b[0;34m\u001b[0m\u001b[0m\n\u001b[1;32m    411\u001b[0m             \u001b[0;32mraise\u001b[0m \u001b[0mLineTooLong\u001b[0m\u001b[0;34m(\u001b[0m\u001b[0;34m\"header line\"\u001b[0m\u001b[0;34m)\u001b[0m\u001b[0;34m\u001b[0m\u001b[0m\n",
        "\u001b[0;32m/Users/Alex/anaconda/lib/python2.7/socket.pyc\u001b[0m in \u001b[0;36mreadline\u001b[0;34m(self, size)\u001b[0m\n\u001b[1;32m    478\u001b[0m             \u001b[0;32mwhile\u001b[0m \u001b[0mTrue\u001b[0m\u001b[0;34m:\u001b[0m\u001b[0;34m\u001b[0m\u001b[0m\n\u001b[1;32m    479\u001b[0m                 \u001b[0;32mtry\u001b[0m\u001b[0;34m:\u001b[0m\u001b[0;34m\u001b[0m\u001b[0m\n\u001b[0;32m--> 480\u001b[0;31m                     \u001b[0mdata\u001b[0m \u001b[0;34m=\u001b[0m \u001b[0mself\u001b[0m\u001b[0;34m.\u001b[0m\u001b[0m_sock\u001b[0m\u001b[0;34m.\u001b[0m\u001b[0mrecv\u001b[0m\u001b[0;34m(\u001b[0m\u001b[0mself\u001b[0m\u001b[0;34m.\u001b[0m\u001b[0m_rbufsize\u001b[0m\u001b[0;34m)\u001b[0m\u001b[0;34m\u001b[0m\u001b[0m\n\u001b[0m\u001b[1;32m    481\u001b[0m                 \u001b[0;32mexcept\u001b[0m \u001b[0merror\u001b[0m\u001b[0;34m,\u001b[0m \u001b[0me\u001b[0m\u001b[0;34m:\u001b[0m\u001b[0;34m\u001b[0m\u001b[0m\n\u001b[1;32m    482\u001b[0m                     \u001b[0;32mif\u001b[0m \u001b[0me\u001b[0m\u001b[0;34m.\u001b[0m\u001b[0margs\u001b[0m\u001b[0;34m[\u001b[0m\u001b[0;36m0\u001b[0m\u001b[0;34m]\u001b[0m \u001b[0;34m==\u001b[0m \u001b[0mEINTR\u001b[0m\u001b[0;34m:\u001b[0m\u001b[0;34m\u001b[0m\u001b[0m\n",
        "\u001b[0;32m/Users/Alex/anaconda/lib/python2.7/ssl.pyc\u001b[0m in \u001b[0;36mrecv\u001b[0;34m(self, buflen, flags)\u001b[0m\n\u001b[1;32m    732\u001b[0m                     \u001b[0;34m\"non-zero flags not allowed in calls to recv() on %s\"\u001b[0m \u001b[0;34m%\u001b[0m\u001b[0;34m\u001b[0m\u001b[0m\n\u001b[1;32m    733\u001b[0m                     self.__class__)\n\u001b[0;32m--> 734\u001b[0;31m             \u001b[0;32mreturn\u001b[0m \u001b[0mself\u001b[0m\u001b[0;34m.\u001b[0m\u001b[0mread\u001b[0m\u001b[0;34m(\u001b[0m\u001b[0mbuflen\u001b[0m\u001b[0;34m)\u001b[0m\u001b[0;34m\u001b[0m\u001b[0m\n\u001b[0m\u001b[1;32m    735\u001b[0m         \u001b[0;32melse\u001b[0m\u001b[0;34m:\u001b[0m\u001b[0;34m\u001b[0m\u001b[0m\n\u001b[1;32m    736\u001b[0m             \u001b[0;32mreturn\u001b[0m \u001b[0mself\u001b[0m\u001b[0;34m.\u001b[0m\u001b[0m_sock\u001b[0m\u001b[0;34m.\u001b[0m\u001b[0mrecv\u001b[0m\u001b[0;34m(\u001b[0m\u001b[0mbuflen\u001b[0m\u001b[0;34m,\u001b[0m \u001b[0mflags\u001b[0m\u001b[0;34m)\u001b[0m\u001b[0;34m\u001b[0m\u001b[0m\n",
        "\u001b[0;32m/Users/Alex/anaconda/lib/python2.7/ssl.pyc\u001b[0m in \u001b[0;36mread\u001b[0;34m(self, len, buffer)\u001b[0m\n\u001b[1;32m    619\u001b[0m                 \u001b[0mv\u001b[0m \u001b[0;34m=\u001b[0m \u001b[0mself\u001b[0m\u001b[0;34m.\u001b[0m\u001b[0m_sslobj\u001b[0m\u001b[0;34m.\u001b[0m\u001b[0mread\u001b[0m\u001b[0;34m(\u001b[0m\u001b[0mlen\u001b[0m\u001b[0;34m,\u001b[0m \u001b[0mbuffer\u001b[0m\u001b[0;34m)\u001b[0m\u001b[0;34m\u001b[0m\u001b[0m\n\u001b[1;32m    620\u001b[0m             \u001b[0;32melse\u001b[0m\u001b[0;34m:\u001b[0m\u001b[0;34m\u001b[0m\u001b[0m\n\u001b[0;32m--> 621\u001b[0;31m                 \u001b[0mv\u001b[0m \u001b[0;34m=\u001b[0m \u001b[0mself\u001b[0m\u001b[0;34m.\u001b[0m\u001b[0m_sslobj\u001b[0m\u001b[0;34m.\u001b[0m\u001b[0mread\u001b[0m\u001b[0;34m(\u001b[0m\u001b[0mlen\u001b[0m \u001b[0;32mor\u001b[0m \u001b[0;36m1024\u001b[0m\u001b[0;34m)\u001b[0m\u001b[0;34m\u001b[0m\u001b[0m\n\u001b[0m\u001b[1;32m    622\u001b[0m             \u001b[0;32mreturn\u001b[0m \u001b[0mv\u001b[0m\u001b[0;34m\u001b[0m\u001b[0m\n\u001b[1;32m    623\u001b[0m         \u001b[0;32mexcept\u001b[0m \u001b[0mSSLError\u001b[0m \u001b[0;32mas\u001b[0m \u001b[0mx\u001b[0m\u001b[0;34m:\u001b[0m\u001b[0;34m\u001b[0m\u001b[0m\n",
        "\u001b[0;31mKeyboardInterrupt\u001b[0m: "
       ]
      }
     ],
     "prompt_number": 4
    },
    {
     "cell_type": "code",
     "collapsed": false,
     "input": [
      "def classify(job, sdf, train_patients, train_patient_idx, validation_patient_idx):\n",
      "    \"\"\"\n",
      "    job is the whetlab params\n",
      "    sdf is the DataFrame\n",
      "    train_patients are the patient names that we're training on (includes validation in folds)\n",
      "    train_idx is what we're training on\n",
      "    validate_idx is what we're testing on\n",
      "    \"\"\"\n",
      "    # Prepare the blood parameter index\n",
      "    all_data = np.vstack(sdf.data.values)\n",
      "    blood_param = sdf['int_blood_type'].values\n",
      "    blood_param_idx = ((sdf.run_time == 2*int(job['centrifugation_time'])) & (sdf.ida == \"IDA%d\" % job['nphase'])).values\n",
      "\n",
      "    # Apply a soft window to the data (better than cropping)\n",
      "    window = stats.norm.pdf(np.arange(all_data.shape[1]), loc=job['softwindow_mean'], scale=job['softwindow_variance'])\n",
      "    window /= window.max()\n",
      "    cropped_data = all_data*window[None,:]\n",
      "\n",
      "    # NOTE: Doing the unsupervised step on all the training data.\n",
      "    # Other options include:\n",
      "    # - all data (it's unsupervised so should be fine)\n",
      "    # - all training data, irrespective of blood parameters (e.g. include all centrifugation times together)\n",
      "    unsupervised_train_idx = np.array([p in train_patients for p in sdf.patient])\n",
      "    all_train_data = cropped_data[unsupervised_train_idx & blood_param_idx].copy()\n",
      "    reduc_method = ['raw','pca','nmf','kernelpca'][job['reduc_method']]\n",
      "    if reduc_method == \"raw\":\n",
      "        processed_data = ndimage.zoom(cropped_data,(1,job['n_dimensions']/cropped_data.shape[1]))\n",
      "    elif reduc_method == \"nmf\":\n",
      "        preprocessor = decomp.NMF(job['n_dimensions']).fit(all_train_data)\n",
      "        processed_data = preprocessor.transform(cropped_data)\n",
      "    elif reduc_method == \"pca\":\n",
      "        preprocessor = decomp.PCA(job['n_dimensions']).fit(all_train_data)\n",
      "        processed_data = preprocessor.transform(cropped_data)\n",
      "    elif reduc_method == \"kernelpca\":\n",
      "        preprocessor = decomp.KernelPCA(job['n_dimensions'],'rbf',gamma=1.0).fit(all_train_data)\n",
      "        processed_data = preprocessor.transform(cropped_data)\n",
      "\n",
      "    # Prepare the indices for this fold (only using the training patients)\n",
      "    train_idx = blood_param_idx & np.array([p in train_patients[train_patient_idx] for p in sdf.patient])\n",
      "    validation_idx = blood_param_idx & np.array([p in train_patients[validation_patient_idx] for p in sdf.patient])\n",
      "\n",
      "    # Get the data and labels\n",
      "    train_data = processed_data[train_idx]\n",
      "    validation_data = processed_data[validation_idx]\n",
      "    train_y = blood_param[train_idx]\n",
      "    validation_y = blood_param[validation_idx]\n",
      "\n",
      "    assert len(train_data) == len(train_y), \"Unequal data and label sizes\"\n",
      "    assert len(validation_data) == len(validation_y), \"Unequal data and label sizes\"\n",
      "\n",
      "    # Train a model\n",
      "    learner = LogisticRegression(penalty=job['penalty'], C=job['C'], fit_intercept=True).fit(train_data,train_y) \n",
      "    scores = learner.decision_function(validation_data).ravel()\n",
      "    pred_y = learner.predict(validation_data)\n",
      "    return validation_y, pred_y, scores, np.argwhere(train_idx)[()], np.argwhere(validation_idx)[()]"
     ],
     "language": "python",
     "metadata": {},
     "outputs": []
    },
    {
     "cell_type": "code",
     "collapsed": false,
     "input": [
      "spdf = pd.DataFrame([sdf[sdf.patient==p].iloc[0] for p in patients]).reset_index()"
     ],
     "language": "python",
     "metadata": {},
     "outputs": []
    },
    {
     "cell_type": "code",
     "collapsed": false,
     "input": [
      "pdf = spdf.copy()\n",
      "pdf['Age'] = pd.cut(spdf['Age'], [0, 5,15,60], right=True, labels=[5,15,60])"
     ],
     "language": "python",
     "metadata": {},
     "outputs": []
    },
    {
     "cell_type": "code",
     "collapsed": false,
     "input": [
      "# ================================================\n",
      "# These discrepancies still need to be resolved\n",
      "# ================================================\n",
      "\n",
      "print len(spdf[spdf.Sex == \"F\"])\n",
      "print len(spdf[spdf.Sex == \"M\"])\n",
      "print len(spdf[(pdf.Age == 5) & (pdf.Sex == \"F\")]) # JWK has 29\n",
      "print len(spdf[(pdf.Age == 5) & (pdf.Sex == \"M\")]) # JWK has 36\n",
      "print len(spdf[(pdf.Age == 15) & (pdf.Sex == \"F\")]) # JWK has 18\n",
      "print len(spdf[(pdf.Age == 15) & (pdf.Sex == \"M\")]) # JWK has 22\n",
      "print len(spdf[(pdf.Age == 60) & (pdf.Sex == \"F\")]) # JWK has 27\n",
      "print len(spdf[(pdf.Age == 60) & (pdf.Sex == \"M\")]) # JWK has 20"
     ],
     "language": "python",
     "metadata": {},
     "outputs": []
    },
    {
     "cell_type": "markdown",
     "metadata": {},
     "source": [
      "### Hypochromia  \n",
      "\n",
      "the condition of having hypochromic RBCs\n",
      "```\n",
      "%hypo \u2265 3.9%\n",
      "```\n",
      "\n",
      "### Micro/Hypo Anemia  \n",
      "\n",
      "micro/hypo anemia\u2014the condition of having hypochromic RBCs and low HGB\n",
      "```\n",
      "%hypo \u2265 3.9% and when \n",
      "HGB < 12.0 g/dl for females over 15 yrs, \n",
      "HGB < 13.0 g/dl for males over 15 yrs, \n",
      "HGB < 11.0 g/dl for children under 5 yrs, and \n",
      "HGB < 11.5 g/dl for children 5 to 15 yrs, and \n",
      "```\n",
      "\n",
      "### IDA  \n",
      "IDA as micro/hypo anemia when \n",
      "```\n",
      "Micro/Hypo anemia AND\n",
      "%micro/%hypo < 1.5\n",
      "```\n",
      "\n",
      "### \u03b2-thalassemia trait\n",
      "\u03b2-thalassemia when\n",
      "\n",
      "```\n",
      "Micro/Hypo anemia AND\n",
      "%micro/%hypo > 1.5\n",
      "```"
     ]
    },
    {
     "cell_type": "markdown",
     "metadata": {},
     "source": [
      "### Performance for calling different anemia subtypes"
     ]
    },
    {
     "cell_type": "code",
     "collapsed": false,
     "input": [
      "this_sdf = sdf.copy()\n",
      "hypochromia_idx = (this_sdf['%Hypo'] >= 3.9).values.astype('int32')\n",
      "microhypoanemia_idx = this_sdf['int_blood_type'].values\n",
      "ida_idx = (this_sdf['%Micro/%Hypo Ratio'] <= 1.5).values & microhypoanemia_idx\n",
      "betatt_idx = (this_sdf['%Micro/%Hypo Ratio'] > 1.5).values & microhypoanemia_idx"
     ],
     "language": "python",
     "metadata": {},
     "outputs": []
    },
    {
     "cell_type": "code",
     "collapsed": false,
     "input": [
      "# NOTE NOTE NOTE\n",
      "# The patient stratification is done based on a micro/hypo anemia diagnosis! "
     ],
     "language": "python",
     "metadata": {},
     "outputs": []
    },
    {
     "cell_type": "code",
     "collapsed": false,
     "input": [
      "colors = sns.color_palette(n_colors=3)"
     ],
     "language": "python",
     "metadata": {},
     "outputs": []
    },
    {
     "cell_type": "code",
     "collapsed": false,
     "input": [
      "this_sdf = sdf.copy()\n",
      "figure()\n",
      "curves = {}\n",
      "for idiagnosis,(this_diagnosis_idx, name) in enumerate(zip([hypochromia_idx, microhypoanemia_idx, ida_idx], \n",
      "                                    [\"Hypochromia\", \"Micro/Hypo Anemia\", \"IDA\"])):\n",
      "    this_sdf = sdf.copy()\n",
      "    this_sdf['int_blood_type'] = this_diagnosis_idx\n",
      "\n",
      "    aucs = []\n",
      "    validation_idxs = []\n",
      "    true_ys = []\n",
      "    pred_ys = []\n",
      "    all_scores = []\n",
      "    for train, validate in cross_validation.StratifiedShuffleSplit(train_patient_blood_type, n_iter=50, test_size=0.5):\n",
      "        true_y, pred_y, scores, train_idx, validation_idx = classify(job, this_sdf, train_patients, train, validate)\n",
      "        auc = roc_auc_score(true_y, scores)\n",
      "        aucs.append(auc)\n",
      "        validation_idxs.extend(validation_idx)\n",
      "        true_ys.extend(true_y)\n",
      "        pred_ys.extend(pred_y)\n",
      "        all_scores.extend(scores)\n",
      "\n",
      "    print(\"\\n\"+name)\n",
      "    print(u\"auc: %2.2f (%2.2f,%2.2f)\"%tuple(np.percentile(aucs, [50,5,95])))\n",
      "    print \"Confusion Matrix:\"\n",
      "    print confusion_matrix(true_ys, pred_ys)\n",
      "    true_ys = np.array(true_ys)\n",
      "    pred_ys = np.array(pred_ys)\n",
      "    all_scores = np.array(all_scores)\n",
      "    validation_idxs = np.array(validation_idxs)\n",
      "    \n",
      "    fpr, tpr, _ = roc_curve(true_ys, all_scores)\n",
      "    plot(fpr, tpr, label=name+ \", AUC: %2.2f\" % np.percentile(aucs,50), color=colors[idiagnosis])\n",
      "    ylabel(\"True Positive Rate\")\n",
      "    xlabel(\"False Positive Rate (1-Specificity)\")\n",
      "    \n",
      "    curves[name] = {}\n",
      "    curves[name]['fpr'] = fpr\n",
      "    curves[name]['tpr'] = tpr\n",
      "    \n",
      "legend()"
     ],
     "language": "python",
     "metadata": {},
     "outputs": []
    },
    {
     "cell_type": "code",
     "collapsed": false,
     "input": [
      "for idiagnosis,(this_diagnosis_idx, name) in enumerate(zip([hypochromia_idx, microhypoanemia_idx, ida_idx], \n",
      "                                    [\"Hypochromia\", \"Micro/Hypo Anemia\", \"IDA\"])):\n",
      "    this_sdf = sdf.copy()\n",
      "    this_sdf['int_blood_type'] = this_diagnosis_idx\n",
      "\n",
      "    aucs = []\n",
      "    validation_idxs = []\n",
      "    true_ys = []\n",
      "    pred_ys = []\n",
      "    all_scores = []\n",
      "    true_y, pred_y, scores, train_idx, validation_idx = classify(job, this_sdf, patients, train_patient_idx, test_patient_idx)\n",
      "    auc = roc_auc_score(true_y, scores)\n",
      "    print(auc)\n",
      "    aucs.append(auc)\n",
      "    validation_idxs.extend(validation_idx)\n",
      "    true_ys.extend(true_y)\n",
      "    pred_ys.extend(pred_y)\n",
      "    all_scores.extend(scores)"
     ],
     "language": "python",
     "metadata": {},
     "outputs": []
    },
    {
     "cell_type": "code",
     "collapsed": false,
     "input": [
      "auc = roc_auc_score(true_y, scores)\n",
      "print(auc)\n",
      "fpr, tpr, _ = roc_curve(true_y, scores)\n",
      "plot(fpr, tpr, label=name+ \", AUC: %2.2f\" % np.percentile(aucs,50), color=colors[idiagnosis])"
     ],
     "language": "python",
     "metadata": {},
     "outputs": []
    },
    {
     "cell_type": "code",
     "collapsed": false,
     "input": [
      "# out = np.zeros((5974,6))\n",
      "# headers = curves.keys()\n",
      "# print headers\n",
      "# for i,key in enumerate(headers):\n",
      "#     out[:,i*2] = curves[key]['fpr'][:len(out)]\n",
      "#     out[:,i*2+1] = curves[key]['tpr'][:len(out)]\n",
      "# headers = [\"IDA FPR\", \"IDA TPR\", \"Hypochromia FPR\", \"Hypochromia TPR\", \"Micro/Hypo FPR\", \"Micro/Hypo TPR\"]\n",
      "# np.savetxt(\"/Users/Alex/Desktop/roc-curves.csv\", out, delimiter=',', header=\",\".join(headers))"
     ],
     "language": "python",
     "metadata": {},
     "outputs": []
    },
    {
     "cell_type": "markdown",
     "metadata": {},
     "source": [
      "### Performance for different Age/Sex groups"
     ]
    },
    {
     "cell_type": "code",
     "collapsed": false,
     "input": [
      "woman_idx = np.argwhere((sdf['Age'] > 15) & (sdf['Sex'] == \"F\")).ravel()\n",
      "man_idx = np.argwhere((sdf['Age'] > 15) & (sdf['Sex'] == \"M\")).ravel()\n",
      "child_idx = np.argwhere((sdf['Age'] >= 5) & (sdf['Age'] < 15)).ravel()\n",
      "infant_idx = np.argwhere((sdf['Age'] < 5)).ravel()\n",
      "all_woman_idx = np.argwhere(sdf['Sex'] == \"F\").ravel()\n",
      "all_man_idx = np.argwhere(sdf['Sex'] == \"M\").ravel()\n",
      "all_adult_idx = np.argwhere(sdf['Age'] > 15).ravel()"
     ],
     "language": "python",
     "metadata": {},
     "outputs": []
    },
    {
     "cell_type": "code",
     "collapsed": false,
     "input": [
      "train_patients"
     ],
     "language": "python",
     "metadata": {},
     "outputs": []
    },
    {
     "cell_type": "code",
     "collapsed": false,
     "input": [
      "aucs = []\n",
      "validation_idxs = []\n",
      "true_ys = []\n",
      "pred_ys = []\n",
      "all_scores = []\n",
      "n_folds = 500\n",
      "for train, validate in cross_validation.StratifiedShuffleSplit(train_patient_blood_type, n_iter=n_folds, test_size=0.5):\n",
      "    true_y, pred_y, scores, train_idx, validation_idx = classify(job, this_sdf, train_patients, train, validate)\n",
      "    auc = roc_auc_score(true_y, scores)\n",
      "    aucs.append(auc)\n",
      "    validation_idxs.append(validation_idx.ravel())\n",
      "    true_ys.append(true_y)\n",
      "    pred_ys.append(pred_y)\n",
      "    all_scores.append(scores)\n",
      "validation_idxs = np.array(validation_idxs)\n",
      "true_ys = np.array(true_ys)\n",
      "pred_ys = np.array(pred_ys)\n",
      "all_scores = np.array(all_scores)"
     ],
     "language": "python",
     "metadata": {},
     "outputs": []
    },
    {
     "cell_type": "code",
     "collapsed": false,
     "input": [
      "validation_idxs"
     ],
     "language": "python",
     "metadata": {},
     "outputs": []
    },
    {
     "cell_type": "code",
     "collapsed": false,
     "input": [
      "np.array([((v in pop_idx) & (v in disease_ind)) for v in validation_idxs[i]])"
     ],
     "language": "python",
     "metadata": {},
     "outputs": []
    },
    {
     "cell_type": "code",
     "collapsed": false,
     "input": [],
     "language": "python",
     "metadata": {},
     "outputs": []
    },
    {
     "cell_type": "code",
     "collapsed": false,
     "input": [
      "test_patient_idx"
     ],
     "language": "python",
     "metadata": {},
     "outputs": []
    },
    {
     "cell_type": "code",
     "collapsed": false,
     "input": [
      "i = 0\n",
      "for disease_name, disease_idx in zip([\"Hypochromia\", \"Micro/Hypo\", \"IDA\"], [hypochromia_idx,microhypoanemia_idx,ida_idx]):\n",
      "    print \"%s\" % disease_name\n",
      "    print \"=\"*50\n",
      "    disease_ind = np.argwhere(disease_idx).ravel()\n",
      "    for pop_idx, pop_name in zip([woman_idx, man_idx, child_idx, infant_idx, all_woman_idx, all_man_idx, all_adult_idx], \n",
      "                                 [\"Women Over 15\", \"Men Over 15\", \"Between 5 and 15\", \"Younger Than 5\", \n",
      "                                  \"All Women\", \"All Men\", \"All Over 15\"]):\n",
      "\n",
      "        pop_auc = []\n",
      "        for i in range(n_folds):\n",
      "            this_idx = np.array([((v in pop_idx) & (v in disease_ind)) for v in validation_idxs[i]])\n",
      "            try:\n",
      "                pop_auc.append(roc_auc_score(true_ys[i][this_idx], all_scores[i][this_idx]))\n",
      "            except:\n",
      "                continue\n",
      "    \n",
      "        try:\n",
      "            print pop_name + \" AUC: %2.2f (%2.2f, %2.2f)\" % tuple(np.percentile(pop_auc, [50,10,90]))\n",
      "        except:\n",
      "            continue"
     ],
     "language": "python",
     "metadata": {},
     "outputs": [
      {
       "output_type": "stream",
       "stream": "stdout",
       "text": [
        "Hypochromia\n",
        "==================================================\n",
        "Women Over 15 AUC: 0.86 (0.50, 1.00)"
       ]
      },
      {
       "output_type": "stream",
       "stream": "stdout",
       "text": [
        "\n",
        "Between 5 and 15 AUC: 0.88 (0.60, 1.00)"
       ]
      },
      {
       "output_type": "stream",
       "stream": "stdout",
       "text": [
        "\n",
        "Younger Than 5 AUC: 0.70 (0.55, 0.82)"
       ]
      },
      {
       "output_type": "stream",
       "stream": "stdout",
       "text": [
        "\n",
        "All Women AUC: 0.75 (0.61, 0.88)"
       ]
      },
      {
       "output_type": "stream",
       "stream": "stdout",
       "text": [
        "\n",
        "All Men AUC: 0.67 (0.50, 0.81)"
       ]
      },
      {
       "output_type": "stream",
       "stream": "stdout",
       "text": [
        "\n",
        "All Over 15 AUC: 0.83 (0.55, 1.00)"
       ]
      },
      {
       "output_type": "stream",
       "stream": "stdout",
       "text": [
        "\n",
        "Micro/Hypo\n",
        "==================================================\n",
        "Younger Than 5 AUC: 0.60 (0.37, 0.83)"
       ]
      },
      {
       "output_type": "stream",
       "stream": "stdout",
       "text": [
        "\n",
        "All Women AUC: 0.83 (0.50, 1.00)"
       ]
      },
      {
       "output_type": "stream",
       "stream": "stdout",
       "text": [
        "\n",
        "All Men AUC: 0.48 (0.29, 0.64)"
       ]
      },
      {
       "output_type": "stream",
       "stream": "stdout",
       "text": [
        "\n",
        "IDA"
       ]
      },
      {
       "output_type": "stream",
       "stream": "stdout",
       "text": [
        "\n",
        "==================================================\n"
       ]
      }
     ],
     "prompt_number": 83
    },
    {
     "cell_type": "markdown",
     "metadata": {},
     "source": [
      "### Performance across number of phases and centrifugation time"
     ]
    },
    {
     "cell_type": "code",
     "collapsed": false,
     "input": [
      "# Do the above cross-validation for nphase=[2,3],centrifugation_time=[2,4,6,8,10]\n",
      "nphases = [2,3]\n",
      "centrifugation_times = [1,2,3,4,5] # these get multiplied by two in the classification function\n",
      "job_copy = dict(job)\n",
      "\n",
      "outcomes = {}\n",
      "for nphase in nphases:\n",
      "    for centrifugation_time in centrifugation_times:\n",
      "        this_job = dict(job)\n",
      "        this_job['centrifugation_time'] = centrifugation_time\n",
      "        this_job['nphase'] = nphase\n",
      "        aucs = []\n",
      "        for train, validate in cross_validation.StratifiedShuffleSplit(train_patient_blood_type, n_iter=500, test_size=0.5):\n",
      "            true_y, pred_y, scores, train_idx, validation_idx = classify(this_job, sdf, train_patients, train, validate)\n",
      "            auc = roc_auc_score(true_y, scores)\n",
      "            aucs.append(auc)\n",
      "        print(u\"auc: %2.2f (%2.2f,%2.2f)\"%tuple(np.percentile(aucs, [50,5,95])))\n",
      "        outcomes[nphase,centrifugation_time] = aucs\n",
      "\n",
      "colors = sns.color_palette(n_colors=2)\n",
      "for i,nphase in enumerate(nphases):\n",
      "    for centrifugation_time in centrifugation_times:\n",
      "        median,lower,upper = np.percentile(outcomes[nphase,centrifugation_time], [50,10,90])\n",
      "        if centrifugation_time == 1:\n",
      "            label = \"IDA-AMPS-%d\"%nphase\n",
      "        else:\n",
      "            label = None\n",
      "        plot(centrifugation_time+i*0.1-0.05, median, 'o', color=colors[nphase-2], label=label)\n",
      "        vlines(centrifugation_time+i*0.1-0.05, lower, upper, linewidth=1, color=colors[nphase-2])\n",
      "xlim(0,6)\n",
      "xticks([1,2,3,4,5], [2,4,6,8,10])\n",
      "xlabel(\"Centrifugation Time (min)\")\n",
      "ylabel(\"AUC\")\n",
      "legend(loc='lower left', fontsize=16)"
     ],
     "language": "python",
     "metadata": {},
     "outputs": [
      {
       "output_type": "stream",
       "stream": "stdout",
       "text": [
        "auc: 0.94 (0.89,0.97)\n",
        "auc: 0.94 (0.89,0.97)"
       ]
      },
      {
       "output_type": "stream",
       "stream": "stdout",
       "text": [
        "\n",
        "auc: 0.94 (0.91,0.98)"
       ]
      },
      {
       "output_type": "stream",
       "stream": "stdout",
       "text": [
        "\n",
        "auc: 0.94 (0.88,0.97)"
       ]
      },
      {
       "output_type": "stream",
       "stream": "stdout",
       "text": [
        "\n",
        "auc: 0.93 (0.88,0.97)"
       ]
      },
      {
       "output_type": "stream",
       "stream": "stdout",
       "text": [
        "\n",
        "auc: 0.94 (0.89,0.97)"
       ]
      },
      {
       "output_type": "stream",
       "stream": "stdout",
       "text": [
        "\n",
        "auc: 0.94 (0.87,0.97)"
       ]
      },
      {
       "output_type": "stream",
       "stream": "stdout",
       "text": [
        "\n",
        "auc: 0.89 (0.81,0.94)"
       ]
      },
      {
       "output_type": "stream",
       "stream": "stdout",
       "text": [
        "\n",
        "auc: 0.87 (0.79,0.92)"
       ]
      },
      {
       "output_type": "stream",
       "stream": "stdout",
       "text": [
        "\n",
        "auc: 0.84 (0.77,0.89)"
       ]
      },
      {
       "output_type": "stream",
       "stream": "stdout",
       "text": [
        "\n"
       ]
      },
      {
       "metadata": {},
       "output_type": "pyout",
       "prompt_number": 18,
       "text": [
        "<matplotlib.legend.Legend at 0x1209ba690>"
       ]
      },
      {
       "metadata": {},
       "output_type": "display_data",
       "png": "[encoded data removed]",
       "text": [
        "<matplotlib.figure.Figure at 0x1209ba6d0>"
       ]
      }
     ],
     "prompt_number": 18
    },
    {
     "cell_type": "code",
     "collapsed": false,
     "input": [
      "# Print out 5,50,95 CI for \n",
      "\n",
      "# phase, run_time, 5, 50, 95 CI\n",
      "headers = [\"nphase\", \"run_time\", \"median\", \"10thpercent\", \"90thpercent\"]\n",
      "print \",\".join(headers)\n",
      "for nphase in nphases:\n",
      "    for centrifugation_time in centrifugation_times:\n",
      "        median,lower,upper = np.percentile(outcomes[nphase,centrifugation_time], [50,10,90])\n",
      "        print \"%s, %d, %2.2f, %2.2f, %2.2f\" % (nphase, centrifugation_time*2, lower, median, upper)"
     ],
     "language": "python",
     "metadata": {},
     "outputs": [
      {
       "output_type": "stream",
       "stream": "stdout",
       "text": [
        "nphase,run_time,median,10thpercent,90thpercent\n",
        "2, 2, 0.91, 0.94, 0.96\n",
        "2, 4, 0.91, 0.94, 0.97\n",
        "2, 6, 0.92, 0.94, 0.97\n",
        "2, 8, 0.90, 0.94, 0.97\n",
        "2, 10, 0.89, 0.93, 0.96\n",
        "3, 2, 0.90, 0.94, 0.96\n",
        "3, 4, 0.90, 0.94, 0.96\n",
        "3, 6, 0.83, 0.89, 0.93\n",
        "3, 8, 0.81, 0.87, 0.91\n",
        "3, 10, 0.78, 0.84, 0.88\n"
       ]
      }
     ],
     "prompt_number": 24
    },
    {
     "cell_type": "code",
     "collapsed": false,
     "input": [
      "print 'hi'"
     ],
     "language": "python",
     "metadata": {},
     "outputs": [
      {
       "output_type": "stream",
       "stream": "stdout",
       "text": [
        "hi\n"
       ]
      }
     ],
     "prompt_number": 19
    },
    {
     "cell_type": "markdown",
     "metadata": {},
     "source": [
      "### How awful are we with IDA vs bTT?"
     ]
    },
    {
     "cell_type": "code",
     "collapsed": false,
     "input": [
      "# Load it up\n",
      "sdf = pd.read_pickle(filename)\n",
      "\n",
      "# Create a unique tag for each patient\n",
      "sdf['patient'] = sdf.sample+\"-\"+sdf.date\n",
      "\n",
      "# Select only good vials\n",
      "sdf = sdf[sdf.good == True]\n",
      "\n",
      "# Fill in the micro/hypo calls based on these criteria (AND THEN MOVE TO THE EXTRACTION NOTEBOOK)\n",
      "# ALL THESE INDICES ARE TO CALL THE MICRO/HYPOCHROMIC ANEMIC POPULATION\n",
      "hypochromia_idx = (sdf['%Hypo'] >= 3.9).values.astype('int32')\n",
      "anemic_woman_idx = (sdf['Age'] > 15) & (sdf['Sex'] == \"F\") & (sdf.HGB < 12.0) & hypochromia_idx\n",
      "anemic_man_idx = (sdf['Age'] > 15) & (sdf['Sex'] == \"M\") & (sdf.HGB < 13.0) & hypochromia_idx\n",
      "anemic_infant_idx = (sdf['Age'] < 5) & (sdf.HGB < 11.0) & hypochromia_idx\n",
      "anemic_child_idx = (sdf['Age'] >= 5) & (sdf['Age'] < 15) & (sdf.HGB < 11.5) & hypochromia_idx\n",
      "microhypoanemia_idx = (anemic_woman_idx | anemic_man_idx | anemic_infant_idx | anemic_child_idx).values.astype('int32')\n",
      "\n",
      "ida_idx = (sdf['%Micro/%Hypo Ratio'] <= 1.5).values & microhypoanemia_idx\n",
      "betatt_idx = (sdf['%Micro/%Hypo Ratio'] > 1.5).values & microhypoanemia_idx\n",
      "\n",
      "blood_type = sdf['blood_type'].values\n",
      "orig_blood_type = blood_type.copy()\n",
      "blood_type[:] = 'normal'\n",
      "blood_type[np.argwhere(ida_idx)] = 'ida'\n",
      "blood_type[np.argwhere(betatt_idx)] = 'tt'\n",
      "# blood_type[hypochromia_idx] = 'hypochromia'\n",
      "# blood_type[microhypoanemia_idx] = 'microhypo'\n",
      "\n",
      "sdf['blood_type'] = blood_type\n",
      "\n",
      "# df = pd.DataFrame([sdf[sdf.patient==patient].iloc[0] for patient in sdf.patient.unique()])\n",
      "# df['blood_type'].value_counts()"
     ],
     "language": "python",
     "metadata": {},
     "outputs": [],
     "prompt_number": 327
    },
    {
     "cell_type": "code",
     "collapsed": false,
     "input": [
      "# For just this section! Filter out everything that's not IDA or tt\n",
      "sdf = sdf[sdf.blood_type!='normal']\n",
      "sdf['int_blood_type'] = label_binarize(sdf.blood_type.values, ['ida', 'tt']).ravel()"
     ],
     "language": "python",
     "metadata": {},
     "outputs": [],
     "prompt_number": 399
    },
    {
     "cell_type": "code",
     "collapsed": false,
     "input": [
      "# For each patient, get the blood-type\n",
      "ida_patient_blood_type = []\n",
      "patients = sdf.patient.unique()\n",
      "for patient in patients:\n",
      "    ida_patient_blood_type.append(sdf[sdf.patient == patient].blood_type.values[0])\n",
      "ida_patient_blood_type = np.array(ida_patient_blood_type)"
     ],
     "language": "python",
     "metadata": {},
     "outputs": [],
     "prompt_number": 400
    },
    {
     "cell_type": "code",
     "collapsed": false,
     "input": [
      "aucs = []\n",
      "validation_idxs = []\n",
      "true_ys = []\n",
      "pred_ys = []\n",
      "all_scores = []\n",
      "for train, validate in cross_validation.StratifiedShuffleSplit(train_patient_blood_type, n_iter=50, test_size=0.5):\n",
      "    true_y, pred_y, scores, train_idx, validation_idx = classify(job, this_sdf, train_patients, train, validate)\n",
      "    auc = roc_auc_score(true_y, scores)\n",
      "    aucs.append(auc)\n",
      "    validation_idxs.extend(validation_idx)\n",
      "    true_ys.extend(true_y)\n",
      "    pred_ys.extend(pred_y)\n",
      "    all_scores.extend(scores)\n"
     ],
     "language": "python",
     "metadata": {},
     "outputs": []
    },
    {
     "cell_type": "code",
     "collapsed": false,
     "input": [
      "aucs = []\n",
      "validation_idxs = []\n",
      "true_ys = []\n",
      "pred_ys = []\n",
      "all_scores = []\n",
      "for train, validate in cross_validation.StratifiedShuffleSplit(ida_patient_blood_type, n_iter=50, test_size=0.5):\n",
      "    true_y, pred_y, scores, train_idx, validation_idx = classify(job, sdf, patients, train, validate)\n",
      "    try:\n",
      "        auc = roc_auc_score(true_y, scores)\n",
      "        aucs.append(auc)\n",
      "        validation_idxs.extend(validation_idx)\n",
      "        true_ys.extend(true_y)\n",
      "        pred_ys.extend(pred_y)\n",
      "        all_scores.extend(scores)\n",
      "    except:\n",
      "        continue\n",
      "    \n",
      "print(u\"auc: %2.2f (%2.2f,%2.2f)\"%tuple(np.percentile(aucs, [50,5,95])))\n",
      "fpr, tpr, _ = roc_curve(true_ys, all_scores)"
     ],
     "language": "python",
     "metadata": {},
     "outputs": [
      {
       "output_type": "stream",
       "stream": "stdout",
       "text": [
        "auc: 0.41 (0.20,0.56)\n"
       ]
      }
     ],
     "prompt_number": 402
    },
    {
     "cell_type": "code",
     "collapsed": false,
     "input": [
      "fpr, tpr, _ = roc_curve(true_ys, all_scores)\n",
      "plot(fpr, tpr, label=\"IDA vs TT, AUC: %2.2f\" % np.percentile(aucs,50))\n",
      "ylabel(\"True Positive Rate\")\n",
      "xlabel(\"False Positive Rate (1-Specificity)\")\n",
      "legend(loc='upper left', fontsize=14)"
     ],
     "language": "python",
     "metadata": {},
     "outputs": []
    },
    {
     "cell_type": "code",
     "collapsed": false,
     "input": [],
     "language": "python",
     "metadata": {},
     "outputs": []
    }
   ],
   "metadata": {}
  }
 ]
}