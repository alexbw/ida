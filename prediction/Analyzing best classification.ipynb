{
 "metadata": {
  "name": "",
  "signature": "sha256:22871c9ed6447216ff444f4eb83649ff23da6672e7da4abbec52176e293be71e"
 },
 "nbformat": 3,
 "nbformat_minor": 0,
 "worksheets": [
  {
   "cells": [
    {
     "cell_type": "code",
     "collapsed": false,
     "input": [
      "import whetlab\n",
      "import pandas as pd\n",
      "import numpy as np\n",
      "from scipy import ndimage\n",
      "from sklearn import cross_validation\n",
      "from sklearn import decomposition as decomp\n",
      "from sklearn.linear_model import LogisticRegression\n",
      "from sklearn.metrics import roc_auc_score\n",
      "from sklearn.metrics import roc_curve\n",
      "from sklearn.metrics import confusion_matrix\n",
      "from sklearn.preprocessing import label_binarize\n",
      "np.set_printoptions(suppress=True, precision=3)\n",
      "from blurd.util import *\n",
      "from scipy import stats\n",
      "from sklearn.metrics import precision_score, recall_score\n",
      "import seaborn as sns"
     ],
     "language": "python",
     "metadata": {},
     "outputs": [],
     "prompt_number": 1
    },
    {
     "cell_type": "code",
     "collapsed": false,
     "input": [
      "#####################################\n",
      "# What experiment are we looking at?\n",
      "#####################################\n",
      "\n",
      "filename = \"/Users/Alex/Dropbox/Science/Side Projects/Blood Testing/data.pandas\"\n",
      "seed = 0\n",
      "n_folds = 5"
     ],
     "language": "python",
     "metadata": {},
     "outputs": [],
     "prompt_number": 2
    },
    {
     "cell_type": "code",
     "collapsed": false,
     "input": [
      "# Load it up\n",
      "sdf = pd.read_pickle(filename)\n",
      "\n",
      "# Create a unique tag for each patient\n",
      "sdf['patient'] = sdf.sample+\"-\"+sdf.date\n",
      "\n",
      "# Select only good vials\n",
      "sdf = sdf[sdf.good == True]\n",
      "\n",
      "# Fill in the micro/hypo calls based on these criteria (AND THEN MOVE TO THE EXTRACTION NOTEBOOK)\n",
      "# ALL THESE INDICES ARE TO CALL THE MICRO/HYPOCHROMIC ANEMIC POPULATION\n",
      "hypo_idx = sdf['%Hypo'] >= 3.9\n",
      "anemic_woman_idx = (sdf['Age'] > 15) & (sdf['Sex'] == \"F\") & (sdf.HGB < 12.0) & hypo_idx\n",
      "anemic_man_idx = (sdf['Age'] > 15) & (sdf['Sex'] == \"M\") & (sdf.HGB < 13.0) & hypo_idx\n",
      "anemic_infant_idx = (sdf['Age'] < 5) & (sdf.HGB < 11.0) & hypo_idx\n",
      "anemic_child_idx = (sdf['Age'] >= 5) & (sdf['Age'] < 15) & (sdf.HGB < 11.5) & hypo_idx\n",
      "anemic_population_idx = anemic_woman_idx | anemic_man_idx | anemic_infant_idx | anemic_child_idx\n",
      "sdf.blood_type.values[np.argwhere(anemic_population_idx)[()]] = 'anemic'\n",
      "sdf.blood_type.values[np.argwhere(anemic_population_idx == False)[()]] = 'normal'\n",
      "\n",
      "# Gather the blood-type for prediction\n",
      "int_y = sdf['blood_type'].values.copy()\n",
      "int_y[int_y == 'anemic'] = 1\n",
      "int_y[int_y == 'normal'] = 0\n",
      "int_y = int_y.astype('int32')\n",
      "sdf['int_blood_type'] = int_y\n",
      "\n",
      "# Get the patients\n",
      "patients = sdf.patient.unique()\n",
      "\n",
      "# For each patient, get the blood-type\n",
      "patient_blood_type = []\n",
      "for patient in patients:\n",
      "    patient_blood_type.append(sdf[sdf.patient == patient].blood_type.values[0])\n",
      "patient_blood_type = np.array(patient_blood_type)\n",
      "\n",
      "# Hold out a final test set\n",
      "np.random.seed(0)\n",
      "train_patient_idx, test_patient_idx = list(cross_validation.StratifiedShuffleSplit(patient_blood_type, n_iter=1, test_size=1.0/n_folds))[0]\n",
      "\n",
      "train_patients = patients[train_patient_idx]\n",
      "test_patients = patients[test_patient_idx]\n",
      "all_train_idx = np.array([p in train_patients for p in sdf.patient])\n",
      "all_test_idx = np.array([p in test_patients for p in sdf.patient])\n",
      "train_patient_blood_type = patient_blood_type[train_patient_idx]\n",
      "test_patient_blood_type = patient_blood_type[test_patient_idx]\n",
      "\n",
      "# Divide the training patients into the remaining folds for K-fold cross-validated training.\n",
      "# This will help us guard a little against overfitting.\n",
      "trainvalidation_folds = list(cross_validation.StratifiedKFold(train_patient_blood_type, n_folds=n_folds-1))"
     ],
     "language": "python",
     "metadata": {},
     "outputs": [],
     "prompt_number": 3
    },
    {
     "cell_type": "code",
     "collapsed": false,
     "input": [
      "# Get the best result, and all results\n",
      "scientist = whetlab.Experiment(name='Classifying IDA (patient-based folds)')\n",
      "job = scientist.best()\n",
      "results, outcomes = scientist.get_all_results()\n",
      "results = results.values()\n",
      "outcomes = outcomes.values()\n",
      "for r,o in zip(results,outcomes):\n",
      "    r['auc'] = o\n",
      "results = pd.DataFrame(results)\n",
      "r2 = results['auc'].values\n",
      "r2[r2=='nan'] = np.nan\n",
      "results['auc'] = r2"
     ],
     "language": "python",
     "metadata": {},
     "outputs": [],
     "prompt_number": 4
    },
    {
     "cell_type": "code",
     "collapsed": false,
     "input": [
      "def classify(job, sdf, train_patients, train_patient_idx, validation_patient_idx):\n",
      "    \"\"\"\n",
      "    job is the whetlab params\n",
      "    sdf is the DataFrame\n",
      "    train_patients are the patient names that we're training on (includes validation in folds)\n",
      "    train_idx is what we're training on\n",
      "    validate_idx is what we're testing on\n",
      "    \"\"\"\n",
      "    # Prepare the blood parameter index\n",
      "    all_data = np.vstack(sdf.data.values)\n",
      "    blood_param = sdf['int_blood_type'].values\n",
      "    blood_param_idx = ((sdf.run_time == 2*int(job['centrifugation_time'])) & (sdf.ida == \"IDA%d\" % job['nphase'])).values\n",
      "\n",
      "    # Apply a soft window to the data (better than cropping)\n",
      "    window = stats.norm.pdf(np.arange(all_data.shape[1]), loc=job['softwindow_mean'], scale=job['softwindow_variance'])\n",
      "    window /= window.max()\n",
      "    cropped_data = all_data*window[None,:]\n",
      "\n",
      "    # NOTE: Doing the unsupervised step on all the training data.\n",
      "    # Other options include:\n",
      "    # - all data (it's unsupervised so should be fine)\n",
      "    # - all training data, irrespective of blood parameters (e.g. include all centrifugation times together)\n",
      "    unsupervised_train_idx = np.array([p in train_patients for p in sdf.patient])\n",
      "    all_train_data = cropped_data[unsupervised_train_idx & blood_param_idx].copy()\n",
      "    reduc_method = ['raw','pca','nmf','kernelpca'][job['reduc_method']]\n",
      "    if reduc_method == \"raw\":\n",
      "        processed_data = ndimage.zoom(cropped_data,(1,job['n_dimensions']/cropped_data.shape[1]))\n",
      "    elif reduc_method == \"nmf\":\n",
      "        preprocessor = decomp.NMF(job['n_dimensions']).fit(all_train_data)\n",
      "        processed_data = preprocessor.transform(cropped_data)\n",
      "    elif reduc_method == \"pca\":\n",
      "        preprocessor = decomp.PCA(job['n_dimensions']).fit(all_train_data)\n",
      "        processed_data = preprocessor.transform(cropped_data)\n",
      "    elif reduc_method == \"kernelpca\":\n",
      "        preprocessor = decomp.KernelPCA(job['n_dimensions'],'rbf',gamma=1.0).fit(all_train_data)\n",
      "        processed_data = preprocessor.transform(cropped_data)\n",
      "\n",
      "    # Prepare the indices for this fold (only using the training patients)\n",
      "    train_idx = blood_param_idx & np.array([p in train_patients[train_patient_idx] for p in sdf.patient])\n",
      "    validation_idx = blood_param_idx & np.array([p in train_patients[validation_patient_idx] for p in sdf.patient])\n",
      "\n",
      "    # Get the data and labels\n",
      "    train_data = processed_data[train_idx]\n",
      "    validation_data = processed_data[validation_idx]\n",
      "    train_y = blood_param[train_idx]\n",
      "    validation_y = blood_param[validation_idx]\n",
      "\n",
      "    assert len(train_data) == len(train_y), \"Unequal data and label sizes\"\n",
      "    assert len(validation_data) == len(validation_y), \"Unequal data and label sizes\"\n",
      "\n",
      "    # Train a model\n",
      "    learner = LogisticRegression(penalty=job['penalty'], C=job['C'], fit_intercept=True).fit(train_data,train_y) \n",
      "    scores = learner.decision_function(validation_data).ravel()\n",
      "    pred_y = learner.predict(validation_data)\n",
      "    return validation_y, pred_y, scores, np.argwhere(train_idx)[()], np.argwhere(validation_idx)[()]"
     ],
     "language": "python",
     "metadata": {},
     "outputs": [],
     "prompt_number": 5
    },
    {
     "cell_type": "code",
     "collapsed": false,
     "input": [
      "spdf = pd.DataFrame([sdf[sdf.patient==p].iloc[0] for p in patients]).reset_index()"
     ],
     "language": "python",
     "metadata": {},
     "outputs": [],
     "prompt_number": 6
    },
    {
     "cell_type": "code",
     "collapsed": false,
     "input": [
      "pdf = spdf.copy()\n",
      "pdf['Age'] = pd.cut(spdf['Age'], [0, 5,15,60], right=True, labels=[5,15,60])"
     ],
     "language": "python",
     "metadata": {},
     "outputs": [],
     "prompt_number": 7
    },
    {
     "cell_type": "code",
     "collapsed": false,
     "input": [
      "# ================================================\n",
      "# These discrepancies still need to be resolved\n",
      "# ================================================\n",
      "\n",
      "print len(spdf[spdf.Sex == \"F\"])\n",
      "print len(spdf[spdf.Sex == \"M\"])\n",
      "print len(spdf[(pdf.Age == 5) & (pdf.Sex == \"F\")]) # JWK has 29\n",
      "print len(spdf[(pdf.Age == 5) & (pdf.Sex == \"M\")]) # JWK has 36\n",
      "print len(spdf[(pdf.Age == 15) & (pdf.Sex == \"F\")]) # JWK has 18\n",
      "print len(spdf[(pdf.Age == 15) & (pdf.Sex == \"M\")]) # JWK has 22\n",
      "print len(spdf[(pdf.Age == 60) & (pdf.Sex == \"F\")]) # JWK has 27\n",
      "print len(spdf[(pdf.Age == 60) & (pdf.Sex == \"M\")]) # JWK has 20"
     ],
     "language": "python",
     "metadata": {},
     "outputs": [
      {
       "output_type": "stream",
       "stream": "stdout",
       "text": [
        "74\n",
        "78\n",
        "34\n",
        "42\n",
        "16\n",
        "19\n",
        "24\n",
        "17\n"
       ]
      }
     ],
     "prompt_number": 8
    },
    {
     "cell_type": "markdown",
     "metadata": {},
     "source": [
      "### Hypochromia  \n",
      "\n",
      "the condition of having hypochromic RBCs\n",
      "```\n",
      "%hypo \u2265 3.9%\n",
      "```\n",
      "\n",
      "### Micro/Hypo Anemia  \n",
      "\n",
      "micro/hypo anemia\u2014the condition of having hypochromic RBCs and low HGB\n",
      "```\n",
      "%hypo \u2265 3.9% and when \n",
      "HGB < 12.0 g/dl for females over 15 yrs, \n",
      "HGB < 13.0 g/dl for males over 15 yrs, \n",
      "HGB < 11.0 g/dl for children under 5 yrs, and \n",
      "HGB < 11.5 g/dl for children 5 to 15 yrs, and \n",
      "```\n",
      "\n",
      "### IDA  \n",
      "IDA as micro/hypo anemia when \n",
      "```\n",
      "Micro/Hypo anemia AND\n",
      "%micro/%hypo < 1.5\n",
      "```\n",
      "\n",
      "### \u03b2-thalassemia trait\n",
      "\u03b2-thalassemia when\n",
      "\n",
      "```\n",
      "Micro/Hypo anemia AND\n",
      "%micro/%hypo > 1.5\n",
      "```"
     ]
    },
    {
     "cell_type": "markdown",
     "metadata": {},
     "source": [
      "### Performance for calling different anemia subtypes"
     ]
    },
    {
     "cell_type": "code",
     "collapsed": false,
     "input": [
      "this_sdf = sdf.copy()\n",
      "hypochromia_idx = (this_sdf['%Hypo'] >= 3.9).values.astype('int32')\n",
      "microhypoanemia_idx = this_sdf['int_blood_type'].values\n",
      "ida_idx = (this_sdf['%Micro/%Hypo Ratio'] <= 1.5).values & microhypoanemia_idx\n",
      "betatt_idx = (this_sdf['%Micro/%Hypo Ratio'] > 1.5).values & microhypoanemia_idx"
     ],
     "language": "python",
     "metadata": {},
     "outputs": [],
     "prompt_number": 9
    },
    {
     "cell_type": "code",
     "collapsed": false,
     "input": [
      "# NOTE NOTE NOTE\n",
      "# The patient stratification is done based on a micro/hypo anemia diagnosis! "
     ],
     "language": "python",
     "metadata": {},
     "outputs": [],
     "prompt_number": 10
    },
    {
     "cell_type": "code",
     "collapsed": false,
     "input": [
      "colors = sns.color_palette(n_colors=3)"
     ],
     "language": "python",
     "metadata": {},
     "outputs": [],
     "prompt_number": 11
    },
    {
     "cell_type": "code",
     "collapsed": false,
     "input": [
      "this_sdf = sdf.copy()\n",
      "figure()\n",
      "curves = {}\n",
      "for idiagnosis,(this_diagnosis_idx, name) in enumerate(zip([hypochromia_idx, microhypoanemia_idx, ida_idx], \n",
      "                                    [\"Hypochromia\", \"Micro/Hypo Anemia\", \"IDA\"])):\n",
      "    this_sdf = sdf.copy()\n",
      "    this_sdf['int_blood_type'] = this_diagnosis_idx\n",
      "\n",
      "    aucs = []\n",
      "    validation_idxs = []\n",
      "    true_ys = []\n",
      "    pred_ys = []\n",
      "    all_scores = []\n",
      "    for train, validate in cross_validation.StratifiedShuffleSplit(train_patient_blood_type, n_iter=50, test_size=0.5):\n",
      "        true_y, pred_y, scores, train_idx, validation_idx = classify(job, this_sdf, train_patients, train, validate)\n",
      "        auc = roc_auc_score(true_y, scores)\n",
      "        aucs.append(auc)\n",
      "        validation_idxs.extend(validation_idx)\n",
      "        true_ys.extend(true_y)\n",
      "        pred_ys.extend(pred_y)\n",
      "        all_scores.extend(scores)\n",
      "\n",
      "    print(\"\\n\"+name)\n",
      "    print(u\"auc: %2.2f (%2.2f,%2.2f)\"%tuple(np.percentile(aucs, [50,5,95])))\n",
      "    print \"Confusion Matrix:\"\n",
      "    print confusion_matrix(true_ys, pred_ys)\n",
      "    true_ys = np.array(true_ys)\n",
      "    pred_ys = np.array(pred_ys)\n",
      "    all_scores = np.array(all_scores)\n",
      "    validation_idxs = np.array(validation_idxs)\n",
      "    \n",
      "    fpr, tpr, _ = roc_curve(true_ys, all_scores)\n",
      "    plot(fpr, tpr, label=name+ \", AUC: %2.2f\" % np.percentile(aucs,50), color=colors[idiagnosis])\n",
      "    ylabel(\"True Positive Rate\")\n",
      "    xlabel(\"False Positive Rate (1-Specificity)\")\n",
      "    \n",
      "    curves[name] = {}\n",
      "    curves[name]['fpr'] = fpr\n",
      "    curves[name]['tpr'] = tpr\n",
      "    \n",
      "legend()"
     ],
     "language": "python",
     "metadata": {},
     "outputs": [
      {
       "output_type": "stream",
       "stream": "stdout",
       "text": [
        "\n",
        "Hypochromia\n",
        "auc: 0.98 (0.97,1.00)\n",
        "Confusion Matrix:\n",
        "[[2897  124]\n",
        " [ 169 2780]]\n",
        "\n",
        "Micro/Hypo Anemia"
       ]
      },
      {
       "output_type": "stream",
       "stream": "stdout",
       "text": [
        "\n",
        "auc: 0.94 (0.89,0.97)\n",
        "Confusion Matrix:\n",
        "[[3185  464]\n",
        " [ 350 1982]]\n",
        "\n",
        "IDA"
       ]
      },
      {
       "output_type": "stream",
       "stream": "stdout",
       "text": [
        "\n",
        "auc: 0.91 (0.87,0.93)\n",
        "Confusion Matrix:\n",
        "[[3317  532]\n",
        " [ 476 1645]]\n"
       ]
      },
      {
       "metadata": {},
       "output_type": "pyout",
       "prompt_number": 12,
       "text": [
        "<matplotlib.legend.Legend at 0x1177939d0>"
       ]
      },
      {
       "metadata": {},
       "output_type": "display_data",
       "png": "[encoded data removed]",
       "text": [
        "<matplotlib.figure.Figure at 0x11d113f90>"
       ]
      }
     ],
     "prompt_number": 12
    },
    {
     "cell_type": "code",
     "collapsed": false,
     "input": [
      "# out = np.zeros((5974,6))\n",
      "# headers = curves.keys()\n",
      "# print headers\n",
      "# for i,key in enumerate(headers):\n",
      "#     out[:,i*2] = curves[key]['fpr'][:len(out)]\n",
      "#     out[:,i*2+1] = curves[key]['tpr'][:len(out)]\n",
      "# headers = [\"IDA FPR\", \"IDA TPR\", \"Hypochromia FPR\", \"Hypochromia TPR\", \"Micro/Hypo FPR\", \"Micro/Hypo TPR\"]\n",
      "# np.savetxt(\"/Users/Alex/Desktop/roc-curves.csv\", out, delimiter=',', header=\",\".join(headers))"
     ],
     "language": "python",
     "metadata": {},
     "outputs": [],
     "prompt_number": 14
    },
    {
     "cell_type": "markdown",
     "metadata": {},
     "source": [
      "### Performance for different Age/Sex groups"
     ]
    },
    {
     "cell_type": "code",
     "collapsed": false,
     "input": [
      "woman_idx = np.argwhere((sdf['Age'] > 15) & (sdf['Sex'] == \"F\")).ravel()\n",
      "man_idx = np.argwhere((sdf['Age'] > 15) & (sdf['Sex'] == \"M\")).ravel()\n",
      "child_idx = np.argwhere((sdf['Age'] >= 5) & (sdf['Age'] < 15)).ravel()\n",
      "infant_idx = np.argwhere((sdf['Age'] < 5)).ravel()\n",
      "all_woman_idx = np.argwhere(sdf['Sex'] == \"F\").ravel()\n",
      "all_man_idx = np.argwhere(sdf['Sex'] == \"M\").ravel()\n",
      "all_adult_idx = np.argwhere(sdf['Age'] > 15).ravel()"
     ],
     "language": "python",
     "metadata": {},
     "outputs": [],
     "prompt_number": 20
    },
    {
     "cell_type": "code",
     "collapsed": false,
     "input": [
      "aucs = []\n",
      "validation_idxs = []\n",
      "true_ys = []\n",
      "pred_ys = []\n",
      "all_scores = []\n",
      "n_folds = 500\n",
      "for train, validate in cross_validation.StratifiedShuffleSplit(train_patient_blood_type, n_iter=n_folds, test_size=0.5):\n",
      "    true_y, pred_y, scores, train_idx, validation_idx = classify(job, this_sdf, train_patients, train, validate)\n",
      "    auc = roc_auc_score(true_y, scores)\n",
      "    aucs.append(auc)\n",
      "    validation_idxs.append(validation_idx.ravel())\n",
      "    true_ys.append(true_y)\n",
      "    pred_ys.append(pred_y)\n",
      "    all_scores.append(scores)\n",
      "validation_idxs = np.array(validation_idxs)\n",
      "true_ys = np.array(true_ys)\n",
      "pred_ys = np.array(pred_ys)\n",
      "all_scores = np.array(all_scores)"
     ],
     "language": "python",
     "metadata": {},
     "outputs": [],
     "prompt_number": 16
    },
    {
     "cell_type": "code",
     "collapsed": false,
     "input": [
      "i = 0\n",
      "for pop_idx, pop_name in zip([woman_idx, man_idx, child_idx, infant_idx, all_woman_idx, all_man_idx, all_adult_idx], \n",
      "                             [\"Women Over 15\", \"Men Over 15\", \"Between 5 and 15\", \"Younger Than 5\",\n",
      "                              \"All Women\", \"All Men\", \"All Over 15\"]):\n",
      "\n",
      "    pop_auc = []\n",
      "    for i in range(n_folds):\n",
      "        this_idx = np.array([v in pop_idx for v in validation_idxs[i]])\n",
      "        try:\n",
      "            pop_auc.append(roc_auc_score(true_ys[i][this_idx], all_scores[i][this_idx]))\n",
      "        except:\n",
      "            continue\n",
      "            \n",
      "    \n",
      "    print pop_name + \" AUC: %2.2f (%2.2f, %2.2f)\" % tuple(np.percentile(pop_auc, [50,10,90]))"
     ],
     "language": "python",
     "metadata": {},
     "outputs": [
      {
       "output_type": "stream",
       "stream": "stdout",
       "text": [
        "Women Over 15 AUC: 1.00 (0.87, 1.00)\n",
        "Men Over 15 AUC: 1.00 (0.95, 1.00)"
       ]
      },
      {
       "output_type": "stream",
       "stream": "stdout",
       "text": [
        "\n",
        "Between 5 and 15 AUC: 0.95 (0.89, 1.00)"
       ]
      },
      {
       "output_type": "stream",
       "stream": "stdout",
       "text": [
        "\n",
        "Younger Than 5 AUC: 0.84 (0.76, 0.90)"
       ]
      },
      {
       "output_type": "stream",
       "stream": "stdout",
       "text": [
        "\n",
        "All Women AUC: 0.94 (0.88, 0.98)"
       ]
      },
      {
       "output_type": "stream",
       "stream": "stdout",
       "text": [
        "\n",
        "All Men AUC: 0.89 (0.82, 0.94)"
       ]
      },
      {
       "output_type": "stream",
       "stream": "stdout",
       "text": [
        "\n",
        "All Over 15 AUC: 0.99 (0.94, 1.00)"
       ]
      },
      {
       "output_type": "stream",
       "stream": "stdout",
       "text": [
        "\n"
       ]
      }
     ],
     "prompt_number": 25
    },
    {
     "cell_type": "markdown",
     "metadata": {},
     "source": [
      "### Performance across number of phases and centrifugation time"
     ]
    },
    {
     "cell_type": "code",
     "collapsed": false,
     "input": [
      "# Do the above cross-validation for nphase=[2,3],centrifugation_time=[2,4,6,8,10]\n",
      "nphases = [2,3]\n",
      "centrifugation_times = [1,2,3,4,5] # these get multiplied by two in the classification function\n",
      "job_copy = dict(job)\n",
      "\n",
      "outcomes = {}\n",
      "for nphase in nphases:\n",
      "    for centrifugation_time in centrifugation_times:\n",
      "        this_job = dict(job)\n",
      "        this_job['centrifugation_time'] = centrifugation_time\n",
      "        this_job['nphase'] = nphase\n",
      "        aucs = []\n",
      "        for train, validate in cross_validation.StratifiedShuffleSplit(train_patient_blood_type, n_iter=500, test_size=0.5):\n",
      "            true_y, pred_y, scores, train_idx, validation_idx = classify(this_job, sdf, train_patients, train, validate)\n",
      "            auc = roc_auc_score(true_y, scores)\n",
      "            aucs.append(auc)\n",
      "        print(u\"auc: %2.2f (%2.2f,%2.2f)\"%tuple(np.percentile(aucs, [50,5,95])))\n",
      "        outcomes[nphase,centrifugation_time] = aucs\n",
      "\n",
      "colors = sns.color_palette(n_colors=2)\n",
      "for i,nphase in enumerate(nphases):\n",
      "    for centrifugation_time in centrifugation_times:\n",
      "        median,lower,upper = np.percentile(outcomes[nphase,centrifugation_time], [50,10,90])\n",
      "        if centrifugation_time == 1:\n",
      "            label = \"IDA-AMPS-%d\"%nphase\n",
      "        else:\n",
      "            label = None\n",
      "        plot(centrifugation_time+i*0.1-0.05, median, 'o', color=colors[nphase-2], label=label)\n",
      "        vlines(centrifugation_time+i*0.1-0.05, lower, upper, linewidth=1, color=colors[nphase-2])\n",
      "xlim(0,6)\n",
      "xticks([1,2,3,4,5], [2,4,6,8,10])\n",
      "xlabel(\"Centrifugation Time (min)\")\n",
      "ylabel(\"AUC\")\n",
      "legend(loc='lower left', fontsize=16)"
     ],
     "language": "python",
     "metadata": {},
     "outputs": [
      {
       "output_type": "stream",
       "stream": "stdout",
       "text": [
        "auc: 0.94 (0.89,0.97)\n",
        "auc: 0.94 (0.89,0.97)"
       ]
      },
      {
       "output_type": "stream",
       "stream": "stdout",
       "text": [
        "\n",
        "auc: 0.94 (0.91,0.98)"
       ]
      },
      {
       "output_type": "stream",
       "stream": "stdout",
       "text": [
        "\n",
        "auc: 0.94 (0.88,0.97)"
       ]
      },
      {
       "output_type": "stream",
       "stream": "stdout",
       "text": [
        "\n",
        "auc: 0.93 (0.88,0.97)"
       ]
      },
      {
       "output_type": "stream",
       "stream": "stdout",
       "text": [
        "\n",
        "auc: 0.94 (0.89,0.97)"
       ]
      },
      {
       "output_type": "stream",
       "stream": "stdout",
       "text": [
        "\n",
        "auc: 0.94 (0.87,0.97)"
       ]
      },
      {
       "output_type": "stream",
       "stream": "stdout",
       "text": [
        "\n",
        "auc: 0.89 (0.81,0.94)"
       ]
      },
      {
       "output_type": "stream",
       "stream": "stdout",
       "text": [
        "\n",
        "auc: 0.87 (0.79,0.92)"
       ]
      },
      {
       "output_type": "stream",
       "stream": "stdout",
       "text": [
        "\n",
        "auc: 0.84 (0.77,0.89)"
       ]
      },
      {
       "output_type": "stream",
       "stream": "stdout",
       "text": [
        "\n"
       ]
      },
      {
       "metadata": {},
       "output_type": "pyout",
       "prompt_number": 18,
       "text": [
        "<matplotlib.legend.Legend at 0x1209ba690>"
       ]
      },
      {
       "metadata": {},
       "output_type": "display_data",
       "png": "[encoded data removed]",
       "text": [
        "<matplotlib.figure.Figure at 0x1209ba6d0>"
       ]
      }
     ],
     "prompt_number": 18
    },
    {
     "cell_type": "code",
     "collapsed": false,
     "input": [
      "# Print out 5,50,95 CI for \n",
      "\n",
      "# phase, run_time, 5, 50, 95 CI\n",
      "headers = [\"nphase\", \"run_time\", \"median\", \"10thpercent\", \"90thpercent\"]\n",
      "print \",\".join(headers)\n",
      "for nphase in nphases:\n",
      "    for centrifugation_time in centrifugation_times:\n",
      "        median,lower,upper = np.percentile(outcomes[nphase,centrifugation_time], [50,10,90])\n",
      "        print \"%s, %d, %2.2f, %2.2f, %2.2f\" % (nphase, centrifugation_time*2, lower, median, upper)"
     ],
     "language": "python",
     "metadata": {},
     "outputs": [
      {
       "output_type": "stream",
       "stream": "stdout",
       "text": [
        "nphase,run_time,median,10thpercent,90thpercent\n",
        "2, 2, 0.91, 0.94, 0.96\n",
        "2, 4, 0.91, 0.94, 0.97\n",
        "2, 6, 0.92, 0.94, 0.97\n",
        "2, 8, 0.90, 0.94, 0.97\n",
        "2, 10, 0.89, 0.93, 0.96\n",
        "3, 2, 0.90, 0.94, 0.96\n",
        "3, 4, 0.90, 0.94, 0.96\n",
        "3, 6, 0.83, 0.89, 0.93\n",
        "3, 8, 0.81, 0.87, 0.91\n",
        "3, 10, 0.78, 0.84, 0.88\n"
       ]
      }
     ],
     "prompt_number": 24
    },
    {
     "cell_type": "code",
     "collapsed": false,
     "input": [
      "print 'hi'"
     ],
     "language": "python",
     "metadata": {},
     "outputs": [
      {
       "output_type": "stream",
       "stream": "stdout",
       "text": [
        "hi\n"
       ]
      }
     ],
     "prompt_number": 19
    },
    {
     "cell_type": "markdown",
     "metadata": {},
     "source": [
      "### How awful are we with IDA vs bTT?"
     ]
    },
    {
     "cell_type": "code",
     "collapsed": false,
     "input": [
      "# Load it up\n",
      "sdf = pd.read_pickle(filename)\n",
      "\n",
      "# Create a unique tag for each patient\n",
      "sdf['patient'] = sdf.sample+\"-\"+sdf.date\n",
      "\n",
      "# Select only good vials\n",
      "sdf = sdf[sdf.good == True]\n",
      "\n",
      "# Fill in the micro/hypo calls based on these criteria (AND THEN MOVE TO THE EXTRACTION NOTEBOOK)\n",
      "# ALL THESE INDICES ARE TO CALL THE MICRO/HYPOCHROMIC ANEMIC POPULATION\n",
      "hypochromia_idx = (sdf['%Hypo'] >= 3.9).values.astype('int32')\n",
      "anemic_woman_idx = (sdf['Age'] > 15) & (sdf['Sex'] == \"F\") & (sdf.HGB < 12.0) & hypochromia_idx\n",
      "anemic_man_idx = (sdf['Age'] > 15) & (sdf['Sex'] == \"M\") & (sdf.HGB < 13.0) & hypochromia_idx\n",
      "anemic_infant_idx = (sdf['Age'] < 5) & (sdf.HGB < 11.0) & hypochromia_idx\n",
      "anemic_child_idx = (sdf['Age'] >= 5) & (sdf['Age'] < 15) & (sdf.HGB < 11.5) & hypochromia_idx\n",
      "microhypoanemia_idx = (anemic_woman_idx | anemic_man_idx | anemic_infant_idx | anemic_child_idx).values.astype('int32')\n",
      "\n",
      "ida_idx = (sdf['%Micro/%Hypo Ratio'] <= 1.5).values & microhypoanemia_idx\n",
      "betatt_idx = (sdf['%Micro/%Hypo Ratio'] > 1.5).values & microhypoanemia_idx\n",
      "\n",
      "blood_type = sdf['blood_type'].values\n",
      "orig_blood_type = blood_type.copy()\n",
      "blood_type[:] = 'normal'\n",
      "blood_type[np.argwhere(ida_idx)] = 'ida'\n",
      "blood_type[np.argwhere(betatt_idx)] = 'tt'\n",
      "# blood_type[hypochromia_idx] = 'hypochromia'\n",
      "# blood_type[microhypoanemia_idx] = 'microhypo'\n",
      "\n",
      "sdf['blood_type'] = blood_type\n",
      "\n",
      "# df = pd.DataFrame([sdf[sdf.patient==patient].iloc[0] for patient in sdf.patient.unique()])\n",
      "# df['blood_type'].value_counts()"
     ],
     "language": "python",
     "metadata": {},
     "outputs": [],
     "prompt_number": 327
    },
    {
     "cell_type": "code",
     "collapsed": false,
     "input": [
      "# For just this section! Filter out everything that's not IDA or tt\n",
      "sdf = sdf[sdf.blood_type!='normal']\n",
      "sdf['int_blood_type'] = label_binarize(sdf.blood_type.values, ['ida', 'tt']).ravel()"
     ],
     "language": "python",
     "metadata": {},
     "outputs": [],
     "prompt_number": 399
    },
    {
     "cell_type": "code",
     "collapsed": false,
     "input": [
      "# For each patient, get the blood-type\n",
      "ida_patient_blood_type = []\n",
      "patients = sdf.patient.unique()\n",
      "for patient in patients:\n",
      "    ida_patient_blood_type.append(sdf[sdf.patient == patient].blood_type.values[0])\n",
      "ida_patient_blood_type = np.array(ida_patient_blood_type)"
     ],
     "language": "python",
     "metadata": {},
     "outputs": [],
     "prompt_number": 400
    },
    {
     "cell_type": "code",
     "collapsed": false,
     "input": [
      "aucs = []\n",
      "validation_idxs = []\n",
      "true_ys = []\n",
      "pred_ys = []\n",
      "all_scores = []\n",
      "for train, validate in cross_validation.StratifiedShuffleSplit(train_patient_blood_type, n_iter=50, test_size=0.5):\n",
      "    true_y, pred_y, scores, train_idx, validation_idx = classify(job, this_sdf, train_patients, train, validate)\n",
      "    auc = roc_auc_score(true_y, scores)\n",
      "    aucs.append(auc)\n",
      "    validation_idxs.extend(validation_idx)\n",
      "    true_ys.extend(true_y)\n",
      "    pred_ys.extend(pred_y)\n",
      "    all_scores.extend(scores)\n"
     ],
     "language": "python",
     "metadata": {},
     "outputs": []
    },
    {
     "cell_type": "code",
     "collapsed": false,
     "input": [
      "aucs = []\n",
      "validation_idxs = []\n",
      "true_ys = []\n",
      "pred_ys = []\n",
      "all_scores = []\n",
      "for train, validate in cross_validation.StratifiedShuffleSplit(ida_patient_blood_type, n_iter=50, test_size=0.5):\n",
      "    true_y, pred_y, scores, train_idx, validation_idx = classify(job, sdf, patients, train, validate)\n",
      "    try:\n",
      "        auc = roc_auc_score(true_y, scores)\n",
      "        aucs.append(auc)\n",
      "        validation_idxs.extend(validation_idx)\n",
      "        true_ys.extend(true_y)\n",
      "        pred_ys.extend(pred_y)\n",
      "        all_scores.extend(scores)\n",
      "    except:\n",
      "        continue\n",
      "    \n",
      "print(u\"auc: %2.2f (%2.2f,%2.2f)\"%tuple(np.percentile(aucs, [50,5,95])))\n",
      "fpr, tpr, _ = roc_curve(true_ys, all_scores)"
     ],
     "language": "python",
     "metadata": {},
     "outputs": [
      {
       "output_type": "stream",
       "stream": "stdout",
       "text": [
        "auc: 0.41 (0.20,0.56)\n"
       ]
      }
     ],
     "prompt_number": 402
    },
    {
     "cell_type": "code",
     "collapsed": false,
     "input": [
      "fpr, tpr, _ = roc_curve(true_ys, all_scores)\n",
      "plot(fpr, tpr, label=\"IDA vs TT, AUC: %2.2f\" % np.percentile(aucs,50))\n",
      "ylabel(\"True Positive Rate\")\n",
      "xlabel(\"False Positive Rate (1-Specificity)\")\n",
      "legend(loc='upper left', fontsize=14)"
     ],
     "language": "python",
     "metadata": {},
     "outputs": [
      {
       "metadata": {},
       "output_type": "pyout",
       "prompt_number": 409,
       "text": [
        "<matplotlib.legend.Legend at 0x131a68310>"
       ]
      },
      {
       "metadata": {},
       "output_type": "display_data",
       "png": "[encoded data removed]",
       "text": [
        "<matplotlib.figure.Figure at 0x131a68150>"
       ]
      }
     ],
     "prompt_number": 409
    },
    {
     "cell_type": "code",
     "collapsed": false,
     "input": [],
     "language": "python",
     "metadata": {},
     "outputs": []
    }
   ],
   "metadata": {}
  }
 ]
}