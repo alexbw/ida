{
 "metadata": {
  "name": "",
  "signature": "sha256:a3a0a36cf77fbe651ca1583f60efe9caaa9f71d5e6bae043e9f0fe457d455782"
 },
 "nbformat": 3,
 "nbformat_minor": 0,
 "worksheets": [
  {
   "cells": [
    {
     "cell_type": "code",
     "collapsed": false,
     "input": [
      "import pandas as pd\n",
      "import numpy as np\n",
      "from scipy import ndimage\n",
      "from sklearn import svm, cross_validation\n",
      "from sklearn import decomposition as decomp\n",
      "from sklearn.svm import SVR\n",
      "from sklearn.metrics import mean_squared_error\n",
      "np.set_printoptions(suppress=True, precision=3)\n",
      "from blurd.util import *"
     ],
     "language": "python",
     "metadata": {},
     "outputs": [],
     "prompt_number": 1
    },
    {
     "cell_type": "markdown",
     "metadata": {},
     "source": [
      "### Load the data"
     ]
    },
    {
     "cell_type": "code",
     "collapsed": false,
     "input": [
      "param_to_predict = \"MCHC\""
     ],
     "language": "python",
     "metadata": {},
     "outputs": [],
     "prompt_number": 2
    },
    {
     "cell_type": "code",
     "collapsed": false,
     "input": [
      "# Load it up\n",
      "sdf = pd.load(\"/Users/Alex/Code/blurd/data.pandas\")\n",
      "\n",
      "# Create a unique tag for each patient\n",
      "sdf['patient'] = sdf.sample+\"-\"+sdf.date\n",
      "\n",
      "# Select only good vials\n",
      "sdf = sdf[sdf.good==True]\n",
      "\n",
      "# Get the patients\n",
      "patients = sdf.patient.unique()\n",
      "\n",
      "# For each patient, get the blood-type\n",
      "patient_blood_type = []\n",
      "for patient in patients:\n",
      "    patient_blood_type.append(sdf[sdf.patient==patient].blood_type.values[0])\n",
      "    \n",
      "# Divide the patients up into 5 stratified folds (strata by blood type)\n",
      "skf = cross_validation.StratifiedKFold(patient_blood_type, 5)\n",
      "\n",
      "# Hold out the last fold for verification, and use the first 4 for K-fold train/test\n",
      "patient_folds = list(skf)\n",
      "trainvalidation_folds, test_fold = patient_folds[:-1],patient_folds[-1]\n",
      "\n",
      "# Stack all data and labels for indexing in a moment\n",
      "all_data = np.vstack(sdf.data.values)\n",
      "blood_param = sdf[param_to_predict].values"
     ],
     "language": "python",
     "metadata": {},
     "outputs": [
      {
       "output_type": "stream",
       "stream": "stderr",
       "text": [
        "/Users/Alex/anaconda/lib/python2.7/site-packages/pandas/core/common.py:2905: FutureWarning: load is deprecated, use read_pickle\n",
        "  warnings.warn(\"load is deprecated, use read_pickle\", FutureWarning)\n"
       ]
      }
     ]
    },
    {
     "cell_type": "code",
     "collapsed": false,
     "input": [
      "import whetlab\n",
      "# Define parameters to optimize\n",
      "n_runs = 100\n",
      "parameters = dict(nphase=dict(type='integer', min=2, max=3),\n",
      "#                     centrifugation_time=dict(type='enum', options=['2','4','6','8','10']),\n",
      "                    centrifugation_time = dict(type='integer', min=1, max=5),\n",
      "                    n_dimensions=dict(type='int', min=2, max=184),\n",
      "                    start=dict(type='float', min=0, max=119),\n",
      "                    stop=dict(type='float',min=120, max=184),\n",
      "                    reduc_method=dict(type='int', min=0,max=3),\n",
      "#                     reduc_method=dict(type='enum', options=['raw','pca','nmf','kernelpca']),\n",
      "                    C=dict(type='float', min=1e-2, max=1e2),\n",
      "                    gamma=dict(type='float', min=1e-2, max=1e2),\n",
      "                    epsilon=dict(type='float', min=1e-2, max=1e2))\n",
      "# method=dict(type='enum', options=['svr'])\n",
      "\n",
      "name = 'Predicting %s (patient-based folds)' % (param_to_predict)\n",
      "description = 'Predicting %s from blood test' % (param_to_predict)\n",
      "outcome = dict(name=\"Negative RMSE\")\n",
      "scientist = whetlab.Experiment(name=name, access_token=None, \n",
      "                               description=description,\n",
      "                               parameters=parameters, \n",
      "                               outcome=outcome)"
     ],
     "language": "python",
     "metadata": {},
     "outputs": []
    },
    {
     "cell_type": "code",
     "collapsed": false,
     "input": [
      "for i in range(n_runs):\n",
      "    pendings = scientist.pending()\n",
      "    if len(pendings) > 0:\n",
      "        job = pendings[0]\n",
      "    else:\n",
      "        job = scientist.suggest()\n",
      "    print job\n",
      "\n",
      "    # Prepare the data based on the job (cropping and dimensionality reduction)\n",
      "    cropped_data = all_data[:,job['start']:job['stop']]\n",
      "    reduc_method = ['raw','pca','nmf','kernelpca'][job['reduc_method']]\n",
      "    if reduc_method == \"raw\":\n",
      "        x = ndimage.zoom(cropped_data,(1,job['n_dimensions']/cropped_data.shape[1]))\n",
      "    elif reduc_method == \"nmf\":\n",
      "        x = decomp.NMF(job['n_dimensions']).fit_transform(cropped_data)\n",
      "    elif reduc_method == \"pca\":\n",
      "        x = decomp.PCA(job['n_dimensions']).fit_transform(cropped_data)\n",
      "    elif reduc_method == \"kernelpca\":\n",
      "        x = decomp.KernelPCA(job['n_dimensions'],'rbf',gamma=1.0).fit_transform(cropped_data)\n",
      "        \n",
      "    # Prepare the blood parameter index\n",
      "    blood_param_idx = ((sdf.run_time == 2*int(job['centrifugation_time'])) & (sdf.ida == \"IDA%d\"%job['nphase'])).values\n",
      "    \n",
      "    rmse_across_folds = []\n",
      "    for train, validation in trainvalidation_folds:\n",
      "        \n",
      "        # Prepare the indices for this fold\n",
      "        train_idx = blood_param_idx&np.array([p in patients[train] for p in sdf.patient])\n",
      "        validation_idx = blood_param_idx&np.array([p in patients[validation] for p in sdf.patient])\n",
      "        \n",
      "        # Get the data and labels\n",
      "        train_data = cropped_data[train_idx]\n",
      "        validation_data = cropped_data[validation_idx]\n",
      "        train_y = blood_param[train_idx]\n",
      "        validation_y = blood_param[validation_idx]\n",
      "        \n",
      "        # Train a model\n",
      "        learner = SVR('rbf', C=job['C'], gamma=job['gamma'], epsilon=job['epsilon']).fit(train_data, train_y)\n",
      "        pred_y = learner.predict(validation_data).ravel()\n",
      "        this_rmse = np.sqrt(mean_squared_error(validation_y, pred_y))\n",
      "        rmse_across_folds.append(this_rmse)\n",
      "        \n",
      "    rmse = np.mean(rmse_across_folds)\n",
      "\n",
      "    print rmse\n",
      "\n",
      "    # Tell Whetlab about the result\n",
      "    scientist.update(job, -rmse)"
     ],
     "language": "python",
     "metadata": {},
     "outputs": []
    }
   ],
   "metadata": {}
  }
 ]
}