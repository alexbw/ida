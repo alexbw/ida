{
 "metadata": {
  "name": "",
  "signature": "sha256:bb61b3ea0d0c62b33f44f6901cfc4b3ef9096d3dfd4005bb1f16c4234a6f1fd0"
 },
 "nbformat": 3,
 "nbformat_minor": 0,
 "worksheets": [
  {
   "cells": [
    {
     "cell_type": "code",
     "collapsed": false,
     "input": [
      "# Hold-two-out cross validation technique"
     ],
     "language": "python",
     "metadata": {},
     "outputs": [],
     "prompt_number": 1
    },
    {
     "cell_type": "code",
     "collapsed": false,
     "input": [
      "import pandas as pd\n",
      "import numpy as np\n",
      "from scipy import ndimage\n",
      "from sklearn import cross_validation\n",
      "from sklearn import decomposition as decomp\n",
      "from sklearn.linear_model import LogisticRegression\n",
      "from sklearn.metrics import roc_auc_score\n",
      "from sklearn.metrics import roc_curve\n",
      "from sklearn.metrics import confusion_matrix\n",
      "from sklearn.preprocessing import label_binarize\n",
      "np.set_printoptions(suppress=True, precision=3)\n",
      "from blurd.util import *\n",
      "from scipy import stats\n",
      "from sklearn.metrics import precision_score, recall_score\n",
      "import seaborn as sns\n",
      "sns.set_style(\"ticks\")\n",
      "%pylab inline\n",
      "\n",
      "def SlidingKFold(n,fold_size):\n",
      "    full_train = set(range(n))\n",
      "    for i in range(n-fold_size):\n",
      "        valid = np.arange(i,i+fold_size)\n",
      "        train = np.array(list(full_train.difference(valid)))\n",
      "        yield train,valid"
     ],
     "language": "python",
     "metadata": {},
     "outputs": [
      {
       "output_type": "stream",
       "stream": "stdout",
       "text": [
        "Populating the interactive namespace from numpy and matplotlib\n"
       ]
      }
     ],
     "prompt_number": 2
    },
    {
     "cell_type": "code",
     "collapsed": false,
     "input": [
      "#####################################\n",
      "# What experiment are we looking at?\n",
      "#####################################\n",
      "\n",
      "filename = \"/Users/Alex/Dropbox/Science/Side Projects/Blood Testing/data.pandas\""
     ],
     "language": "python",
     "metadata": {},
     "outputs": [],
     "prompt_number": 3
    },
    {
     "cell_type": "code",
     "collapsed": false,
     "input": [
      "## Load the data and calculate strata\n",
      "\n",
      "sdf = pd.read_pickle(filename)\n",
      "\n",
      "# Create a unique tag for each patient\n",
      "sdf['patient'] = sdf.sample+\"-\"+sdf.date\n",
      "\n",
      "# Select only good vials\n",
      "sdf = sdf[sdf.good == True]\n",
      "\n",
      "# Fill in the micro/hypo calls based on these criteria (AND THEN MOVE TO THE EXTRACTION NOTEBOOK)\n",
      "# ALL THESE INDICES ARE TO CALL THE MICRO/HYPOCHROMIC ANEMIC POPULATION\n",
      "hypo_idx = sdf['%Hypo'] >= 3.9\n",
      "anemic_woman_idx = (sdf['Age'] > 15) & (sdf['Sex'] == \"F\") & (sdf.HGB < 12.0) & hypo_idx\n",
      "anemic_man_idx = (sdf['Age'] > 15) & (sdf['Sex'] == \"M\") & (sdf.HGB < 13.0) & hypo_idx\n",
      "anemic_infant_idx = (sdf['Age'] < 5) & (sdf.HGB < 11.0) & hypo_idx\n",
      "anemic_child_idx = (sdf['Age'] >= 5) & (sdf['Age'] < 15) & (sdf.HGB < 11.5) & hypo_idx\n",
      "anemic_population_idx = anemic_woman_idx | anemic_man_idx | anemic_infant_idx | anemic_child_idx\n",
      "sdf.blood_type.values[np.argwhere(anemic_population_idx)[()]] = 'anemic'\n",
      "sdf.blood_type.values[np.argwhere(anemic_population_idx == False)[()]] = 'normal'\n",
      "\n",
      "# Gather the blood-type for prediction\n",
      "int_y = sdf['blood_type'].values.copy()\n",
      "int_y[int_y == 'anemic'] = 1\n",
      "int_y[int_y == 'normal'] = 0\n",
      "int_y = int_y.astype('int32')\n",
      "sdf['int_blood_type'] = int_y\n",
      "\n",
      "# Get the patients\n",
      "patients = sdf.patient.unique()\n",
      "\n",
      "# For each patient, get the blood-type\n",
      "patient_blood_type = []\n",
      "for patient in patients:\n",
      "    this_patient = sdf[sdf.patient == patient]\n",
      "    patient_blood_type.append(sdf[sdf.patient == patient].blood_type.values[0])\n",
      "patient_blood_type = np.array(patient_blood_type)\n",
      "\n",
      "# Eliminate the duplicates\n",
      "sdf.drop_duplicates([\"patient\",\"ida\",\"run_time\"], inplace=True, take_last=False)"
     ],
     "language": "python",
     "metadata": {},
     "outputs": [],
     "prompt_number": 4
    },
    {
     "cell_type": "code",
     "collapsed": false,
     "input": [
      "# Apply PCA to the data ahead of time"
     ],
     "language": "python",
     "metadata": {},
     "outputs": [],
     "prompt_number": 5
    },
    {
     "cell_type": "code",
     "collapsed": false,
     "input": [
      "# # Get the best result, and all results\n",
      "# scientist = whetlab.Experiment(name='Classifying IDA (patient-based folds)')\n",
      "# job = scientist.best()\n",
      "job = {u'C': 31.75,\n",
      " u'centrifugation_time': 2,\n",
      " u'n_dimensions': 23,\n",
      " u'nphase': 3,\n",
      " u'penalty': 'l2',\n",
      " u'reduc_method': 3,\n",
      " u'softwindow_mean': 45,\n",
      " u'softwindow_variance': 25}"
     ],
     "language": "python",
     "metadata": {},
     "outputs": [],
     "prompt_number": 19
    },
    {
     "cell_type": "code",
     "collapsed": false,
     "input": [
      "# Prepare the data ahead of time\n",
      "all_data = np.vstack(sdf.data.values)\n",
      "window = stats.norm.pdf(np.arange(all_data.shape[1]), loc=job['softwindow_mean'], scale=job['softwindow_variance'])\n",
      "window /= window.max()\n",
      "cropped_data = all_data*window[None,:]\n",
      "preprocessor = decomp.KernelPCA(job['n_dimensions'], kernel='rbf', gamma=1).fit(cropped_data)\n",
      "sdf['processed_data'] = [d for d in preprocessor.transform(cropped_data)]\n",
      "\n",
      "nruntimes = len(np.unique(sdf.run_time))\n",
      "augmented_data = np.zeros((len(all_data),nruntimes*all_data.shape[1]))\n",
      "for patient in patients:\n",
      "    for ida in [\"IDA2\",\"IDA3\"]:\n",
      "        idx = np.argwhere((sdf.patient==patient) & (sdf.ida == ida)).ravel()\n",
      "        augmented_data[idx] = cropped_data[idx].ravel()\n",
      "aug_preprocessor = decomp.KernelPCA(job['n_dimensions'], kernel='rbf', gamma=1).fit(augmented_data)\n",
      "# aug_preprocessor = decomp.PCA(100).fit(augmented_data)\n",
      "sdf['augmented_data'] = [d for d in aug_preprocessor.transform(augmented_data)]"
     ],
     "language": "python",
     "metadata": {},
     "outputs": [],
     "prompt_number": 20
    },
    {
     "cell_type": "code",
     "collapsed": false,
     "input": [
      "def classify(job, sdf, train_patients, train_patient_idx, validation_patient_idx):\n",
      "    \"\"\"\n",
      "    job is the whetlab params\n",
      "    sdf is the DataFrame\n",
      "    train_patients are the patient names that we're training on (includes validation in folds)\n",
      "    train_idx is what we're training on\n",
      "    validate_idx is what we're testing on\n",
      "    \"\"\"\n",
      "    # Grab the data\n",
      "    processed_data = np.vstack(sdf.processed_data.values)\n",
      "    \n",
      "    # Prepare the blood parameter index\n",
      "    blood_param = sdf['int_blood_type'].values\n",
      "    blood_param_idx = ((sdf.run_time == 2*int(job['centrifugation_time'])) & (sdf.ida == \"IDA%d\" % job['nphase'])).values\n",
      "\n",
      "    # Prepare the indices for this fold (only using the training patients)\n",
      "    train_idx = blood_param_idx & np.array([p in train_patients[train_patient_idx] for p in sdf.patient])\n",
      "    validation_idx = blood_param_idx & np.array([p in train_patients[validation_patient_idx] for p in sdf.patient])\n",
      "\n",
      "    # Get the data and labels\n",
      "    train_data = processed_data[train_idx]\n",
      "    validation_data = processed_data[validation_idx]\n",
      "    train_y = blood_param[train_idx]\n",
      "    validation_y = blood_param[validation_idx]\n",
      "\n",
      "    assert len(train_data) == len(train_y), \"Unequal data and label sizes\"\n",
      "    assert len(validation_data) == len(validation_y), \"Unequal data and label sizes\"\n",
      "\n",
      "    # Train a model\n",
      "    learner = LogisticRegression(penalty=job['penalty'], C=job['C'], fit_intercept=True).fit(train_data,train_y) \n",
      "    scores = learner.decision_function(validation_data).ravel()\n",
      "    pred_y = learner.predict(validation_data)\n",
      "    return validation_y, pred_y, scores, np.argwhere(train_idx)[()], np.argwhere(validation_idx)[()]"
     ],
     "language": "python",
     "metadata": {},
     "outputs": [],
     "prompt_number": 21
    },
    {
     "cell_type": "code",
     "collapsed": false,
     "input": [
      "spdf = pd.DataFrame([sdf[sdf.patient==p].iloc[0] for p in patients]).reset_index()\n",
      "pdf = spdf.copy()\n",
      "pdf['Age'] = pd.cut(spdf['Age'], [0, 5,15,60], right=True, labels=[5,15,60])\n",
      "# ================================================\n",
      "# These discrepancies still need to be resolved\n",
      "# ================================================\n",
      "\n",
      "print len(spdf[spdf.Sex == \"F\"])\n",
      "print len(spdf[spdf.Sex == \"M\"])\n",
      "print len(spdf[(pdf.Age == 5) & (pdf.Sex == \"F\")]) # JWK has 29\n",
      "print len(spdf[(pdf.Age == 5) & (pdf.Sex == \"M\")]) # JWK has 36\n",
      "print len(spdf[(pdf.Age == 15) & (pdf.Sex == \"F\")]) # JWK has 18\n",
      "print len(spdf[(pdf.Age == 15) & (pdf.Sex == \"M\")]) # JWK has 22\n",
      "print len(spdf[(pdf.Age == 60) & (pdf.Sex == \"F\")]) # JWK has 27\n",
      "print len(spdf[(pdf.Age == 60) & (pdf.Sex == \"M\")]) # JWK has 20"
     ],
     "language": "python",
     "metadata": {},
     "outputs": [
      {
       "output_type": "stream",
       "stream": "stdout",
       "text": [
        "74\n",
        "78\n",
        "34\n",
        "42\n",
        "16\n",
        "19\n",
        "24\n",
        "17\n"
       ]
      }
     ],
     "prompt_number": 22
    },
    {
     "cell_type": "markdown",
     "metadata": {},
     "source": [
      "### Hypochromia  \n",
      "\n",
      "the condition of having hypochromic RBCs\n",
      "```\n",
      "%hypo \u2265 3.9%\n",
      "```\n",
      "\n",
      "### Micro/Hypo Anemia  \n",
      "\n",
      "micro/hypo anemia\u2014the condition of having hypochromic RBCs and low HGB\n",
      "```\n",
      "%hypo \u2265 3.9% and when \n",
      "HGB < 12.0 g/dl for females over 15 yrs, \n",
      "HGB < 13.0 g/dl for males over 15 yrs, \n",
      "HGB < 11.0 g/dl for children under 5 yrs, and \n",
      "HGB < 11.5 g/dl for children 5 to 15 yrs, and \n",
      "```\n",
      "\n",
      "### IDA  \n",
      "IDA as micro/hypo anemia when \n",
      "```\n",
      "Micro/Hypo anemia AND\n",
      "%micro/%hypo < 1.5\n",
      "```\n",
      "\n",
      "### \u03b2-thalassemia trait\n",
      "\u03b2-thalassemia when\n",
      "\n",
      "```\n",
      "Micro/Hypo anemia AND\n",
      "%micro/%hypo > 1.5\n",
      "```"
     ]
    },
    {
     "cell_type": "markdown",
     "metadata": {},
     "source": [
      "### Performance for calling different anemia subtypes"
     ]
    },
    {
     "cell_type": "code",
     "collapsed": false,
     "input": [
      "this_sdf = sdf.copy()\n",
      "hypochromia_idx = np.argwhere((this_sdf['%Hypo'] >= 3.9).values.astype('int32')).ravel()\n",
      "microhypoanemia_idx = this_sdf['int_blood_type'].values\n",
      "ida_idx = np.argwhere((this_sdf['%Micro/%Hypo Ratio'] <= 1.5).values & microhypoanemia_idx).ravel()\n",
      "betatt_idx = np.argwhere((this_sdf['%Micro/%Hypo Ratio'] > 1.5).values & microhypoanemia_idx).ravel()\n",
      "microhypoanemia_idx = np.argwhere(microhypoanemia_idx).ravel()\n",
      "normal_idx = np.setdiff1d(range(len(this_sdf)), np.intersect1d(hypochromia_idx,microhypoanemia_idx))\n",
      "\n",
      "woman_idx = np.argwhere((sdf['Age'] >= 15) & (sdf['Sex'] == \"F\")).ravel()\n",
      "man_idx = np.argwhere((sdf['Age'] >= 15) & (sdf['Sex'] == \"M\")).ravel()\n",
      "child_idx = np.argwhere((sdf['Age'] >= 5) & (sdf['Age'] < 15)).ravel()\n",
      "infant_idx = np.argwhere((sdf['Age'] < 5)).ravel()\n",
      "all_woman_idx = np.argwhere(sdf['Sex'] == \"F\").ravel()\n",
      "all_man_idx = np.argwhere(sdf['Sex'] == \"M\").ravel()\n",
      "all_adult_idx = np.argwhere(sdf['Age'] > 15).ravel()\n",
      "all_idx = np.argwhere(sdf['Age']>0).ravel()\n",
      "labels = np.empty((len(this_sdf)), dtype='|S30')\n",
      "labels[:] = ''\n",
      "# labels[woman_idx] = 'woman'\n",
      "# labels[man_idx] = 'man'\n",
      "# labels[child_idx] = 'child'\n",
      "# labels[infant_idx] = 'infant'\n",
      "\n",
      "for disease_idx,disease_idx_label in zip((ida_idx,normal_idx,hypochromia_idx),(\"ida\",\"normal\",\"hypochromia\")):\n",
      "    for pop_idx,pop_idx_label in zip((woman_idx,man_idx,child_idx,infant_idx),(\"woman\", \"man\",\"child\",\"infant\")):\n",
      "        labels[np.intersect1d(disease_idx,pop_idx)] = pop_idx_label#+\"-\"+disease_idx_label\n",
      "\n",
      "# For each patient, get the blood-type\n",
      "patient_label = []\n",
      "for patient in patients:\n",
      "    this_patient = np.argwhere(sdf.patient == patient).ravel()[0]\n",
      "    patient_label.append(labels[this_patient])\n",
      "patient_label = np.array(patient_label)"
     ],
     "language": "python",
     "metadata": {},
     "outputs": [],
     "prompt_number": 23
    },
    {
     "cell_type": "code",
     "collapsed": false,
     "input": [
      "this_sdf = sdf.copy()\n",
      "figure()\n",
      "curves = {}\n",
      "n_patients = len(patients)\n",
      "colors = sns.color_palette(n_colors=3)\n",
      "\n",
      "for idiagnosis,(this_diagnosis_idx, name) in enumerate(zip([hypochromia_idx, microhypoanemia_idx, ida_idx], \n",
      "                                    [\"Hypochromia\", \"Micro/Hypo Anemia\", \"IDA\"])):\n",
      "    this_sdf = sdf.copy()\n",
      "    this_labels = np.zeros((len(this_sdf)))\n",
      "    this_labels[this_diagnosis_idx] = 1\n",
      "    this_sdf['int_blood_type'] = this_labels\n",
      "\n",
      "    aucs = []\n",
      "    validation_idxs = []\n",
      "    true_ys = []\n",
      "    pred_ys = []\n",
      "    all_scores = []\n",
      "    ii = 0\n",
      "#     for train, validate_and_test in cross_validation.LeavePOut(n_patients, 2):\n",
      "    for train,validate_and_test in SlidingKFold(n_patients,2):\n",
      "        validate = validate_and_test[0:1]\n",
      "        test = validate_and_test[1:2]\n",
      "#         true_y, pred_y, scores, train_idx, validation_idx = classify(job, this_sdf, patients, train, validate)\n",
      "        true_y, pred_y, scores, train_idx, validation_idx = classify(job, this_sdf, patients, train, test)\n",
      "        validation_idxs.append(validation_idx.ravel())\n",
      "        true_ys.append(true_y)\n",
      "        pred_ys.append(pred_y)\n",
      "        all_scores.append(scores)\n",
      "\n",
      "    print(\"\\n\"+name)\n",
      "    print(\"=\"*50)\n",
      "    print \"Confusion Matrix:\"\n",
      "    print confusion_matrix(true_ys,pred_ys)\n",
      "    true_ys = np.array(true_ys)\n",
      "    pred_ys = np.array(pred_ys)\n",
      "    all_scores = np.array(all_scores)\n",
      "    validation_idxs = np.array(validation_idxs)\n",
      "    auc = roc_auc_score(true_ys, all_scores)\n",
      "    \n",
      "    fpr, tpr, _ = roc_curve(np.hstack(true_ys), np.hstack(all_scores))\n",
      "    plot(fpr, tpr, label=name+ \", AUC: %2.2f\" % auc, color=colors[idiagnosis])\n",
      "    ylabel(\"True Positive Rate\")\n",
      "    xlabel(\"False Positive Rate (1-Specificity)\")\n",
      "    \n",
      "    curves[name] = {}\n",
      "    curves[name]['fpr'] = fpr\n",
      "    curves[name]['tpr'] = tpr\n",
      "    \n",
      "    for pop_idx,pop_name in (\\\n",
      "             (all_idx, \"General\"),\n",
      "             (all_man_idx,\"All Men\"),\n",
      "             (all_woman_idx,\"All Women\"),\n",
      "             (all_adult_idx,\"All Over 15\"),\n",
      "             (child_idx,\"Between 5 and 15\"),\n",
      "             (infant_idx,\"Younger Than 5\")):\n",
      "            # (woman_idx,\"Women Over 15\"),\n",
      "            # (man_idx,\"Men Over 15\"),\n",
      "\n",
      "        this_idx = np.array([v in pop_idx for v in validation_idxs.ravel()])\n",
      "        pop_auc = roc_auc_score(true_ys.ravel()[this_idx], all_scores.ravel()[this_idx])\n",
      "        print pop_name + \" AUC: %2.2f\" % pop_auc    \n",
      "\n",
      "legend()"
     ],
     "language": "python",
     "metadata": {},
     "outputs": [
      {
       "output_type": "stream",
       "stream": "stdout",
       "text": [
        "\n",
        "Hypochromia\n",
        "==================================================\n",
        "Confusion Matrix:\n",
        "[[69  3]\n",
        " [ 6 72]]\n",
        "General AUC: 0.98\n",
        "All Men AUC: 0.97\n",
        "All Women AUC: 0.99\n",
        "All Over 15 AUC: 1.00\n",
        "Between 5 and 15 AUC: 0.95\n",
        "Younger Than 5 AUC: 0.98\n",
        "\n",
        "Micro/Hypo Anemia"
       ]
      },
      {
       "output_type": "stream",
       "stream": "stdout",
       "text": [
        "\n",
        "==================================================\n",
        "Confusion Matrix:\n",
        "[[80  9]\n",
        " [12 49]]\n",
        "General AUC: 0.93\n",
        "All Men AUC: 0.91\n",
        "All Women AUC: 0.95\n",
        "All Over 15 AUC: 1.00\n",
        "Between 5 and 15 AUC: 0.93\n",
        "Younger Than 5 AUC: 0.92\n",
        "\n",
        "IDA"
       ]
      },
      {
       "output_type": "stream",
       "stream": "stdout",
       "text": [
        "\n",
        "==================================================\n",
        "Confusion Matrix:\n",
        "[[85  9]\n",
        " [13 43]]\n",
        "General AUC: 0.90\n",
        "All Men AUC: 0.86\n",
        "All Women AUC: 0.95\n",
        "All Over 15 AUC: 1.00\n",
        "Between 5 and 15 AUC: 0.91\n",
        "Younger Than 5 AUC: 0.86\n"
       ]
      },
      {
       "metadata": {},
       "output_type": "pyout",
       "prompt_number": 24,
       "text": [
        "<matplotlib.legend.Legend at 0x1177b0e10>"
       ]
      },
      {
       "metadata": {},
       "output_type": "display_data",
       "png": "[encoded data removed]",
       "text": [
        "<matplotlib.figure.Figure at 0x1177ca910>"
       ]
      }
     ],
     "prompt_number": 24
    },
    {
     "cell_type": "code",
     "collapsed": false,
     "input": [
      "name = curves.keys()[2]\n",
      "print(name)\n",
      "pd.DataFrame(np.hstack((curves[name]['fpr'][:,None],curves[name]['tpr'][:,None]))).to_clipboard(excel=True, index=False, header=False)"
     ],
     "language": "python",
     "metadata": {},
     "outputs": [
      {
       "output_type": "stream",
       "stream": "stdout",
       "text": [
        "Micro/Hypo Anemia\n"
       ]
      }
     ],
     "prompt_number": 32
    },
    {
     "cell_type": "markdown",
     "metadata": {},
     "source": [
      "### Performance across number of phases and centrifugation time for Micro/Hypo"
     ]
    },
    {
     "cell_type": "code",
     "collapsed": false,
     "input": [
      "this_sdf = sdf.copy()\n",
      "this_labels = np.zeros((len(this_sdf)))\n",
      "this_labels[microhypoanemia_idx] = 1\n",
      "this_sdf['int_blood_type'] = this_labels\n",
      "\n",
      "# Do the above cross-validation for nphase=[2,3],centrifugation_time=[2,4,6,8,10]\n",
      "nphases = [2,3]\n",
      "centrifugation_times = [1,2,3,4,5] # these get multiplied by two in the classification function\n",
      "job_copy = dict(job)\n",
      "\n",
      "outcomes = {}\n",
      "for nphase in nphases:\n",
      "    for centrifugation_time in centrifugation_times:\n",
      "        this_job = dict(job)\n",
      "        this_job['centrifugation_time'] = centrifugation_time\n",
      "        this_job['nphase'] = nphase\n",
      "        aucs = []\n",
      "        \n",
      "        true_ys = []\n",
      "        all_scores = []\n",
      "        pred_ys = []\n",
      "#         for train, validate_and_test in cross_validation.LeavePOut(n_patients, 2):\n",
      "        for train, validate_and_test in SlidingKFold(n_patients, 2):\n",
      "            validate = validate_and_test[0:1]\n",
      "            test = validate_and_test[1:2]\n",
      "#             true_y, pred_y, scores, train_idx, validation_idx = classify(this_job, this_sdf, patients, train, validate)\n",
      "            true_y, pred_y, scores, train_idx, validation_idx = classify(this_job, this_sdf, patients, train, test)\n",
      "            true_ys.append(true_y)\n",
      "            pred_ys.append(pred_y)\n",
      "            all_scores.append(scores)\n",
      "\n",
      "        auc = roc_auc_score(true_ys, all_scores)\n",
      "        print(\"AUC: %2.2f\" % auc)\n",
      "        outcomes[nphase,centrifugation_time] = auc"
     ],
     "language": "python",
     "metadata": {},
     "outputs": [
      {
       "output_type": "stream",
       "stream": "stdout",
       "text": [
        "AUC: 0.94\n",
        "AUC: 0.95"
       ]
      },
      {
       "output_type": "stream",
       "stream": "stdout",
       "text": [
        "\n",
        "AUC: 0.95"
       ]
      },
      {
       "output_type": "stream",
       "stream": "stdout",
       "text": [
        "\n",
        "AUC: 0.95"
       ]
      },
      {
       "output_type": "stream",
       "stream": "stdout",
       "text": [
        "\n",
        "AUC: 0.93"
       ]
      },
      {
       "output_type": "stream",
       "stream": "stdout",
       "text": [
        "\n",
        "AUC: 0.93"
       ]
      },
      {
       "output_type": "stream",
       "stream": "stdout",
       "text": [
        "\n",
        "AUC: 0.93"
       ]
      },
      {
       "output_type": "stream",
       "stream": "stdout",
       "text": [
        "\n",
        "AUC: 0.89"
       ]
      },
      {
       "output_type": "stream",
       "stream": "stdout",
       "text": [
        "\n",
        "AUC: 0.87"
       ]
      },
      {
       "output_type": "stream",
       "stream": "stdout",
       "text": [
        "\n",
        "AUC: 0.83"
       ]
      },
      {
       "output_type": "stream",
       "stream": "stdout",
       "text": [
        "\n"
       ]
      }
     ],
     "prompt_number": 33
    },
    {
     "cell_type": "code",
     "collapsed": false,
     "input": [
      "colors = sns.color_palette(n_colors=2)\n",
      "for i,nphase in enumerate(nphases):\n",
      "    for centrifugation_time in centrifugation_times:\n",
      "#         median,lower,upper = np.percentile(outcomes[nphase,centrifugation_time], [50,10,90])\n",
      "        median = outcomes[nphase,centrifugation_time]\n",
      "        if centrifugation_time == 1:\n",
      "            label = \"IDA-AMPS-%d\"%nphase\n",
      "        else:\n",
      "            label = None\n",
      "        plot(centrifugation_time+i*0.1-0.05, median, 'o', color=colors[nphase-2], label=label)\n",
      "#         vlines(centrifugation_time+i*0.1-0.05, lower, upper, linewidth=1, color=colors[nphase-2])\n",
      "xlim(0,6)\n",
      "xticks([1,2,3,4,5], [2,4,6,8,10])\n",
      "xlabel(\"Centrifugation Time (min)\")\n",
      "ylabel(\"AUC\")\n",
      "legend(loc='upper left', fontsize=16, bbox_to_anchor=(1,1))"
     ],
     "language": "python",
     "metadata": {},
     "outputs": [
      {
       "metadata": {},
       "output_type": "pyout",
       "prompt_number": 34,
       "text": [
        "<matplotlib.legend.Legend at 0x10356a510>"
       ]
      },
      {
       "metadata": {},
       "output_type": "display_data",
       "png": "[encoded data removed]",
       "text": [
        "<matplotlib.figure.Figure at 0x10356a410>"
       ]
      }
     ],
     "prompt_number": 34
    }
   ],
   "metadata": {}
  }
 ]
}