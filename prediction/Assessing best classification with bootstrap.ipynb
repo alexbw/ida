{
 "cells": [
  {
   "cell_type": "code",
   "execution_count": 1,
   "metadata": {
    "collapsed": false
   },
   "outputs": [],
   "source": [
    "import whetlab\n",
    "import pandas as pd\n",
    "import numpy as np\n",
    "from scipy import ndimage\n",
    "from sklearn import cross_validation\n",
    "from sklearn import decomposition as decomp\n",
    "from sklearn.linear_model import LogisticRegression\n",
    "from sklearn.metrics import roc_auc_score\n",
    "from sklearn.metrics import roc_curve\n",
    "from sklearn.metrics import confusion_matrix\n",
    "from sklearn.preprocessing import label_binarize\n",
    "np.set_printoptions(suppress=True, precision=3)\n",
    "from blurd.util import *\n",
    "from scipy import stats\n",
    "from sklearn.metrics import precision_score, recall_score\n",
    "import seaborn as sns"
   ]
  },
  {
   "cell_type": "code",
   "execution_count": 2,
   "metadata": {
    "collapsed": false
   },
   "outputs": [],
   "source": [
    "#####################################\n",
    "# What experiment are we looking at?\n",
    "#####################################\n",
    "\n",
    "filename = \"/Users/Alex/Dropbox/Science/Side Projects/Blood Testing/data.pandas\""
   ]
  },
  {
   "cell_type": "code",
   "execution_count": 3,
   "metadata": {
    "collapsed": false
   },
   "outputs": [],
   "source": [
    "## Load the data and calculate strata\n",
    "\n",
    "sdf = pd.read_pickle(filename)\n",
    "\n",
    "# Create a unique tag for each patient\n",
    "sdf['patient'] = sdf.sample+\"-\"+sdf.date\n",
    "\n",
    "# Select only good vials\n",
    "sdf = sdf[sdf.good == True]\n",
    "\n",
    "# Fill in the micro/hypo calls based on these criteria (AND THEN MOVE TO THE EXTRACTION NOTEBOOK)\n",
    "# ALL THESE INDICES ARE TO CALL THE MICRO/HYPOCHROMIC ANEMIC POPULATION\n",
    "hypo_idx = sdf['%Hypo'] >= 3.9\n",
    "anemic_woman_idx = (sdf['Age'] > 15) & (sdf['Sex'] == \"F\") & (sdf.HGB < 12.0) & hypo_idx\n",
    "anemic_man_idx = (sdf['Age'] > 15) & (sdf['Sex'] == \"M\") & (sdf.HGB < 13.0) & hypo_idx\n",
    "anemic_infant_idx = (sdf['Age'] < 5) & (sdf.HGB < 11.0) & hypo_idx\n",
    "anemic_child_idx = (sdf['Age'] >= 5) & (sdf['Age'] < 15) & (sdf.HGB < 11.5) & hypo_idx\n",
    "anemic_population_idx = anemic_woman_idx | anemic_man_idx | anemic_infant_idx | anemic_child_idx\n",
    "sdf.blood_type.values[np.argwhere(anemic_population_idx)[()]] = 'anemic'\n",
    "sdf.blood_type.values[np.argwhere(anemic_population_idx == False)[()]] = 'normal'\n",
    "\n",
    "# Gather the blood-type for prediction\n",
    "int_y = sdf['blood_type'].values.copy()\n",
    "int_y[int_y == 'anemic'] = 1\n",
    "int_y[int_y == 'normal'] = 0\n",
    "int_y = int_y.astype('int32')\n",
    "sdf['int_blood_type'] = int_y\n",
    "\n",
    "# Get the patients\n",
    "patients = sdf.patient.unique()\n",
    "\n",
    "# For each patient, get the blood-type\n",
    "patient_blood_type = []\n",
    "for patient in patients:\n",
    "    this_patient = sdf[sdf.patient == patient]\n",
    "    patient_blood_type.append(sdf[sdf.patient == patient].blood_type.values[0])\n",
    "patient_blood_type = np.array(patient_blood_type)"
   ]
  },
  {
   "cell_type": "code",
   "execution_count": 4,
   "metadata": {
    "collapsed": false
   },
   "outputs": [],
   "source": [
    "# # Get the best result, and all results\n",
    "# scientist = whetlab.Experiment(name='Classifying IDA (patient-based folds)')\n",
    "# job = scientist.best()\n",
    "job = {u'C': 31.751086256664323,\n",
    " u'centrifugation_time': 2,\n",
    " u'n_dimensions': 23,\n",
    " u'nphase': 3,\n",
    " u'penalty': u'l2',\n",
    " u'reduc_method': 3,\n",
    " u'softwindow_mean': 46.21489821548001,\n",
    " u'softwindow_variance': 26.09274863908755}"
   ]
  },
  {
   "cell_type": "code",
   "execution_count": 5,
   "metadata": {
    "collapsed": false
   },
   "outputs": [],
   "source": [
    "def classify(job, sdf, train_patients, train_patient_idx, validation_patient_idx):\n",
    "    \"\"\"\n",
    "    job is the whetlab params\n",
    "    sdf is the DataFrame\n",
    "    train_patients are the patient names that we're training on (includes validation in folds)\n",
    "    train_idx is what we're training on\n",
    "    validate_idx is what we're testing on\n",
    "    \"\"\"\n",
    "    # Prepare the blood parameter index\n",
    "    all_data = np.vstack(sdf.data.values)\n",
    "    blood_param = sdf['int_blood_type'].values\n",
    "    blood_param_idx = ((sdf.run_time == 2*int(job['centrifugation_time'])) & (sdf.ida == \"IDA%d\" % job['nphase'])).values\n",
    "\n",
    "    # Apply a soft window to the data (better than cropping)\n",
    "    window = stats.norm.pdf(np.arange(all_data.shape[1]), loc=job['softwindow_mean'], scale=job['softwindow_variance'])\n",
    "    window /= window.max()\n",
    "    cropped_data = all_data*window[None,:]\n",
    "\n",
    "    # NOTE: Doing the unsupervised step on all the training data.\n",
    "    # Other options include:\n",
    "    # - all data (it's unsupervised so should be fine)\n",
    "    # - all training data, irrespective of blood parameters (e.g. include all centrifugation times together)\n",
    "    unsupervised_train_idx = np.array([p in train_patients for p in sdf.patient])\n",
    "    all_train_data = cropped_data[unsupervised_train_idx & blood_param_idx].copy()\n",
    "    reduc_method = ['raw','pca','nmf','kernelpca'][job['reduc_method']]\n",
    "    if reduc_method == \"raw\":\n",
    "        processed_data = ndimage.zoom(cropped_data,(1,job['n_dimensions']/cropped_data.shape[1]))\n",
    "    elif reduc_method == \"nmf\":\n",
    "        preprocessor = decomp.NMF(job['n_dimensions']).fit(all_train_data)\n",
    "        processed_data = preprocessor.transform(cropped_data)\n",
    "    elif reduc_method == \"pca\":\n",
    "        preprocessor = decomp.PCA(job['n_dimensions']).fit(all_train_data)\n",
    "        processed_data = preprocessor.transform(cropped_data)\n",
    "    elif reduc_method == \"kernelpca\":\n",
    "        preprocessor = decomp.KernelPCA(job['n_dimensions'],'rbf',gamma=1.0).fit(all_train_data)\n",
    "        processed_data = preprocessor.transform(cropped_data)\n",
    "\n",
    "    # Prepare the indices for this fold (only using the training patients)\n",
    "    train_idx = blood_param_idx & np.array([p in train_patients[train_patient_idx] for p in sdf.patient])\n",
    "    validation_idx = blood_param_idx & np.array([p in train_patients[validation_patient_idx] for p in sdf.patient])\n",
    "\n",
    "    # Get the data and labels\n",
    "    train_data = processed_data[train_idx]\n",
    "    validation_data = processed_data[validation_idx]\n",
    "    train_y = blood_param[train_idx]\n",
    "    validation_y = blood_param[validation_idx]\n",
    "\n",
    "    assert len(train_data) == len(train_y), \"Unequal data and label sizes\"\n",
    "    assert len(validation_data) == len(validation_y), \"Unequal data and label sizes\"\n",
    "\n",
    "    # Train a model\n",
    "    learner = LogisticRegression(penalty=job['penalty'], C=job['C'], fit_intercept=True).fit(train_data,train_y) \n",
    "    scores = learner.decision_function(validation_data).ravel()\n",
    "    pred_y = learner.predict(validation_data)\n",
    "    return validation_y, pred_y, scores, np.argwhere(train_idx)[()], np.argwhere(validation_idx)[()]"
   ]
  },
  {
   "cell_type": "code",
   "execution_count": 6,
   "metadata": {
    "collapsed": false
   },
   "outputs": [
    {
     "name": "stdout",
     "output_type": "stream",
     "text": [
      "74\n",
      "78\n",
      "34\n",
      "42\n",
      "16\n",
      "19\n",
      "24\n",
      "17\n"
     ]
    }
   ],
   "source": [
    "spdf = pd.DataFrame([sdf[sdf.patient==p].iloc[0] for p in patients]).reset_index()\n",
    "pdf = spdf.copy()\n",
    "pdf['Age'] = pd.cut(spdf['Age'], [0, 5,15,60], right=True, labels=[5,15,60])\n",
    "# ================================================\n",
    "# These discrepancies still need to be resolved\n",
    "# ================================================\n",
    "\n",
    "print len(spdf[spdf.Sex == \"F\"])\n",
    "print len(spdf[spdf.Sex == \"M\"])\n",
    "print len(spdf[(pdf.Age == 5) & (pdf.Sex == \"F\")]) # JWK has 29\n",
    "print len(spdf[(pdf.Age == 5) & (pdf.Sex == \"M\")]) # JWK has 36\n",
    "print len(spdf[(pdf.Age == 15) & (pdf.Sex == \"F\")]) # JWK has 18\n",
    "print len(spdf[(pdf.Age == 15) & (pdf.Sex == \"M\")]) # JWK has 22\n",
    "print len(spdf[(pdf.Age == 60) & (pdf.Sex == \"F\")]) # JWK has 27\n",
    "print len(spdf[(pdf.Age == 60) & (pdf.Sex == \"M\")]) # JWK has 20"
   ]
  },
  {
   "cell_type": "markdown",
   "metadata": {},
   "source": [
    "### Hypochromia  \n",
    "\n",
    "the condition of having hypochromic RBCs\n",
    "```\n",
    "%hypo ≥ 3.9%\n",
    "```\n",
    "\n",
    "### Micro/Hypo Anemia  \n",
    "\n",
    "micro/hypo anemia—the condition of having hypochromic RBCs and low HGB\n",
    "```\n",
    "%hypo ≥ 3.9% and when \n",
    "HGB < 12.0 g/dl for females over 15 yrs, \n",
    "HGB < 13.0 g/dl for males over 15 yrs, \n",
    "HGB < 11.0 g/dl for children under 5 yrs, and \n",
    "HGB < 11.5 g/dl for children 5 to 15 yrs, and \n",
    "```\n",
    "\n",
    "### IDA  \n",
    "IDA as micro/hypo anemia when \n",
    "```\n",
    "Micro/Hypo anemia AND\n",
    "%micro/%hypo < 1.5\n",
    "```\n",
    "\n",
    "### β-thalassemia trait\n",
    "β-thalassemia when\n",
    "\n",
    "```\n",
    "Micro/Hypo anemia AND\n",
    "%micro/%hypo > 1.5\n",
    "```"
   ]
  },
  {
   "cell_type": "markdown",
   "metadata": {},
   "source": [
    "### Performance for calling different anemia subtypes"
   ]
  },
  {
   "cell_type": "code",
   "execution_count": 7,
   "metadata": {
    "collapsed": false
   },
   "outputs": [],
   "source": [
    "this_sdf = sdf.copy()\n",
    "hypochromia_idx = np.argwhere((this_sdf['%Hypo'] >= 3.9).values.astype('int32')).ravel()\n",
    "microhypoanemia_idx = this_sdf['int_blood_type'].values\n",
    "ida_idx = np.argwhere((this_sdf['%Micro/%Hypo Ratio'] <= 1.5).values & microhypoanemia_idx).ravel()\n",
    "betatt_idx = np.argwhere((this_sdf['%Micro/%Hypo Ratio'] > 1.5).values & microhypoanemia_idx).ravel()\n",
    "microhypoanemia_idx = np.argwhere(microhypoanemia_idx).ravel()\n",
    "normal_idx = np.setdiff1d(range(len(this_sdf)), np.intersect1d(hypochromia_idx,microhypoanemia_idx))\n",
    "\n",
    "woman_idx = np.argwhere((sdf['Age'] >= 15) & (sdf['Sex'] == \"F\")).ravel()\n",
    "man_idx = np.argwhere((sdf['Age'] >= 15) & (sdf['Sex'] == \"M\")).ravel()\n",
    "child_idx = np.argwhere((sdf['Age'] >= 5) & (sdf['Age'] < 15)).ravel()\n",
    "infant_idx = np.argwhere((sdf['Age'] < 5)).ravel()\n",
    "all_woman_idx = np.argwhere(sdf['Sex'] == \"F\").ravel()\n",
    "all_man_idx = np.argwhere(sdf['Sex'] == \"M\").ravel()\n",
    "all_adult_idx = np.argwhere(sdf['Age'] > 15).ravel()\n",
    "\n",
    "labels = np.empty((len(this_sdf)), dtype='|S30')\n",
    "labels[:] = ''\n",
    "# labels[woman_idx] = 'woman'\n",
    "# labels[man_idx] = 'man'\n",
    "# labels[child_idx] = 'child'\n",
    "# labels[infant_idx] = 'infant'\n",
    "\n",
    "for disease_idx,disease_idx_label in zip((ida_idx,normal_idx,hypochromia_idx),(\"ida\",\"normal\",\"hypochromia\")):\n",
    "    for pop_idx,pop_idx_label in zip((woman_idx,man_idx,child_idx,infant_idx),(\"woman\", \"man\",\"child\",\"infant\")):\n",
    "        labels[np.intersect1d(disease_idx,pop_idx)] = pop_idx_label#+\"-\"+disease_idx_label\n",
    "\n",
    "# For each patient, get the blood-type\n",
    "patient_label = []\n",
    "for patient in patients:\n",
    "    this_patient = np.argwhere(sdf.patient == patient).ravel()[0]\n",
    "    patient_label.append(labels[this_patient])\n",
    "patient_label = np.array(patient_label)"
   ]
  },
  {
   "cell_type": "code",
   "execution_count": 8,
   "metadata": {
    "collapsed": false
   },
   "outputs": [],
   "source": [
    "colors = sns.color_palette(n_colors=3)"
   ]
  },
  {
   "cell_type": "code",
   "execution_count": 42,
   "metadata": {
    "collapsed": false
   },
   "outputs": [
    {
     "name": "stdout",
     "output_type": "stream",
     "text": [
      "\n",
      "Hypochromia\n",
      "==================================================\n",
      "General: 0.99 (0.97,1.00)\n",
      "Confusion Matrix:\n",
      "[[68  3]\n",
      " [ 5 70]]\n",
      "Between 5 and 15 AUC: 0.98 (0.94, 1.00)\n",
      "Younger Than 5 AUC: 0.98 (0.96, 1.00)\n",
      "All Women AUC: 1.00 (0.99, 1.00)\n",
      "All Men AUC: 0.98 (0.96, 1.00)\n",
      "All Over 15 AUC: 1.00 (1.00, 1.00)\n",
      "\n",
      "Micro/Hypo Anemia\n",
      "==================================================\n",
      "General: 0.93 (0.88,0.96)\n",
      "Confusion Matrix:\n",
      "[[78 10]\n",
      " [12 46]]\n",
      "Between 5 and 15 AUC: 0.95 (0.89, 0.99)\n",
      "Younger Than 5 AUC: 0.91 (0.87, 0.96)\n",
      "All Women AUC: 0.94 (0.90, 0.98)\n",
      "All Men AUC: 0.91 (0.86, 0.95)\n",
      "All Over 15 AUC: 1.00 (0.97, 1.00)\n",
      "\n",
      "IDA\n",
      "==================================================\n",
      "General: 0.89 (0.84,0.94)\n",
      "Confusion Matrix:\n",
      "[[81 12]\n",
      " [13 40]]\n",
      "Between 5 and 15 AUC: 0.93 (0.86, 0.98)\n",
      "Younger Than 5 AUC: 0.86 (0.79, 0.91)\n",
      "All Women AUC: 0.93 (0.89, 0.97)\n",
      "All Men AUC: 0.85 (0.79, 0.90)\n",
      "All Over 15 AUC: 0.99 (0.97, 1.00)\n"
     ]
    },
    {
     "data": {
      "text/plain": [
       "<matplotlib.legend.Legend at 0x11da7f050>"
      ]
     },
     "execution_count": 42,
     "metadata": {},
     "output_type": "execute_result"
    },
    {
     "data": {
      "image/png": "[encoded data removed]",
      "text/plain": [
       "<matplotlib.figure.Figure at 0x119bd3d10>"
      ]
     },
     "metadata": {},
     "output_type": "display_data"
    }
   ],
   "source": [
    "this_sdf = sdf.copy()\n",
    "figure()\n",
    "curves = {}\n",
    "n_folds = 500\n",
    "for idiagnosis,(this_diagnosis_idx, name) in enumerate(zip([hypochromia_idx, microhypoanemia_idx, ida_idx], \n",
    "                                    [\"Hypochromia\", \"Micro/Hypo Anemia\", \"IDA\"])):\n",
    "    this_sdf = sdf.copy()\n",
    "    this_labels = np.zeros((len(this_sdf)))\n",
    "    this_labels[this_diagnosis_idx] = 1\n",
    "    this_sdf['int_blood_type'] = this_labels\n",
    "    \n",
    "\n",
    "    aucs = []\n",
    "    validation_idxs = []\n",
    "    true_ys = []\n",
    "    pred_ys = []\n",
    "    all_scores = []\n",
    "    for train, validate in cross_validation.StratifiedShuffleSplit(patient_label, n_iter=n_folds, test_size=0.5):\n",
    "        true_y, pred_y, scores, train_idx, validation_idx = classify(job, this_sdf, patients, train, validate)\n",
    "        auc = roc_auc_score(true_y, scores)\n",
    "        aucs.append(auc)\n",
    "        validation_idxs.append(validation_idx.ravel())\n",
    "        true_ys.append(true_y)\n",
    "        pred_ys.append(pred_y)\n",
    "        all_scores.append(scores)\n",
    "\n",
    "    print(\"\\n\"+name)\n",
    "    print(\"=\"*50)\n",
    "    print(u\"General: %2.2f (%2.2f,%2.2f)\"%tuple(np.percentile(aucs, [50,2.5,97.5])))\n",
    "    print \"Confusion Matrix:\"\n",
    "    confusion_matrices = np.array([confusion_matrix(true_ys[i], pred_ys[i]) for i in range(n_folds)])\n",
    "    print confusion_matrices.mean(0).astype('int32')\n",
    "    true_ys = np.array(true_ys)\n",
    "    pred_ys = np.array(pred_ys)\n",
    "    all_scores = np.array(all_scores)\n",
    "    validation_idxs = np.array(validation_idxs)\n",
    "    \n",
    "    fpr, tpr, _ = roc_curve(np.hstack(true_ys), np.hstack(all_scores))\n",
    "    plot(fpr, tpr, label=name+ \", AUC: %2.2f\" % np.percentile(np.hstack(aucs),50), color=colors[idiagnosis])\n",
    "    ylabel(\"True Positive Rate\")\n",
    "    xlabel(\"False Positive Rate (1-Specificity)\")\n",
    "    \n",
    "    curves[name] = {}\n",
    "    curves[name]['fpr'] = fpr\n",
    "    curves[name]['tpr'] = tpr\n",
    "    \n",
    "    for pop_idx,pop_name in ((child_idx,\"Between 5 and 15\"),\n",
    "            (infant_idx,\"Younger Than 5\"),\n",
    "            (all_woman_idx,\"All Women\"),\n",
    "            (all_man_idx,\"All Men\"),\n",
    "            # (woman_idx,\"Women Over 15\"),\n",
    "            # (man_idx,\"Men Over 15\"),\n",
    "            (all_adult_idx,\"All Over 15\")):\n",
    "\n",
    "        pop_auc = []\n",
    "        for i in range(n_folds):\n",
    "            this_idx = np.array([v in pop_idx for v in validation_idxs[i]])\n",
    "            if len(set(true_ys[i][this_idx])) <= 1:\n",
    "                continue # we only have one class in this fold,disease and population tuple\n",
    "            pop_auc.append(roc_auc_score(true_ys[i][this_idx], all_scores[i][this_idx]))\n",
    "        \n",
    "        if len(pop_auc) > 0:\n",
    "            print pop_name + \" AUC: %2.2f (%2.2f, %2.2f)\" % tuple(np.percentile(pop_auc, [50,10,90]))\n",
    "    \n",
    "legend()"
   ]
  },
  {
   "cell_type": "markdown",
   "metadata": {},
   "source": [
    "### Performance across number of phases and centrifugation time"
   ]
  },
  {
   "cell_type": "code",
   "execution_count": 64,
   "metadata": {
    "collapsed": false
   },
   "outputs": [
    {
     "ename": "NameError",
     "evalue": "name 'train_patient_blood_type' is not defined",
     "output_type": "error",
     "traceback": [
      "\u001b[0;31m---------------------------------------------------------------------------\u001b[0m\n\u001b[0;31mNameError\u001b[0m                                 Traceback (most recent call last)",
      "\u001b[0;32m<ipython-input-64-6b626aad0e73>\u001b[0m in \u001b[0;36m<module>\u001b[0;34m()\u001b[0m\n\u001b[1;32m     11\u001b[0m         \u001b[0mthis_job\u001b[0m\u001b[0;34m[\u001b[0m\u001b[0;34m'nphase'\u001b[0m\u001b[0;34m]\u001b[0m \u001b[0;34m=\u001b[0m \u001b[0mnphase\u001b[0m\u001b[0;34m\u001b[0m\u001b[0m\n\u001b[1;32m     12\u001b[0m         \u001b[0maucs\u001b[0m \u001b[0;34m=\u001b[0m \u001b[0;34m[\u001b[0m\u001b[0;34m]\u001b[0m\u001b[0;34m\u001b[0m\u001b[0m\n\u001b[0;32m---> 13\u001b[0;31m         \u001b[0;32mfor\u001b[0m \u001b[0mtrain\u001b[0m\u001b[0;34m,\u001b[0m \u001b[0mvalidate\u001b[0m \u001b[0;32min\u001b[0m \u001b[0mcross_validation\u001b[0m\u001b[0;34m.\u001b[0m\u001b[0mStratifiedShuffleSplit\u001b[0m\u001b[0;34m(\u001b[0m\u001b[0mtrain_patient_blood_type\u001b[0m\u001b[0;34m,\u001b[0m \u001b[0mn_iter\u001b[0m\u001b[0;34m=\u001b[0m\u001b[0;36m500\u001b[0m\u001b[0;34m,\u001b[0m \u001b[0mtest_size\u001b[0m\u001b[0;34m=\u001b[0m\u001b[0;36m0.5\u001b[0m\u001b[0;34m)\u001b[0m\u001b[0;34m:\u001b[0m\u001b[0;34m\u001b[0m\u001b[0m\n\u001b[0m\u001b[1;32m     14\u001b[0m             \u001b[0mtrue_y\u001b[0m\u001b[0;34m,\u001b[0m \u001b[0mpred_y\u001b[0m\u001b[0;34m,\u001b[0m \u001b[0mscores\u001b[0m\u001b[0;34m,\u001b[0m \u001b[0mtrain_idx\u001b[0m\u001b[0;34m,\u001b[0m \u001b[0mvalidation_idx\u001b[0m \u001b[0;34m=\u001b[0m \u001b[0mclassify\u001b[0m\u001b[0;34m(\u001b[0m\u001b[0mthis_job\u001b[0m\u001b[0;34m,\u001b[0m \u001b[0msdf\u001b[0m\u001b[0;34m,\u001b[0m \u001b[0mtrain_patients\u001b[0m\u001b[0;34m,\u001b[0m \u001b[0mtrain\u001b[0m\u001b[0;34m,\u001b[0m \u001b[0mvalidate\u001b[0m\u001b[0;34m)\u001b[0m\u001b[0;34m\u001b[0m\u001b[0m\n\u001b[1;32m     15\u001b[0m             \u001b[0mauc\u001b[0m \u001b[0;34m=\u001b[0m \u001b[0mroc_auc_score\u001b[0m\u001b[0;34m(\u001b[0m\u001b[0mtrue_y\u001b[0m\u001b[0;34m,\u001b[0m \u001b[0mscores\u001b[0m\u001b[0;34m)\u001b[0m\u001b[0;34m\u001b[0m\u001b[0m\n",
      "\u001b[0;31mNameError\u001b[0m: name 'train_patient_blood_type' is not defined"
     ]
    }
   ],
   "source": [
    "# Do the above cross-validation for nphase=[2,3],centrifugation_time=[2,4,6,8,10]\n",
    "nphases = [2,3]\n",
    "centrifugation_times = [1,2,3,4,5] # these get multiplied by two in the classification function\n",
    "job_copy = dict(job)\n",
    "\n",
    "outcomes = {}\n",
    "for nphase in nphases:\n",
    "    for centrifugation_time in centrifugation_times:\n",
    "        this_job = dict(job)\n",
    "        this_job['centrifugation_time'] = centrifugation_time\n",
    "        this_job['nphase'] = nphase\n",
    "        aucs = []\n",
    "        for train, validate in cross_validation.StratifiedShuffleSplit(train_patient_blood_type, n_iter=500, test_size=0.5):\n",
    "            true_y, pred_y, scores, train_idx, validation_idx = classify(this_job, sdf, train_patients, train, validate)\n",
    "            auc = roc_auc_score(true_y, scores)\n",
    "            aucs.append(auc)\n",
    "        print(u\"auc: %2.2f (%2.2f,%2.2f)\"%tuple(np.percentile(aucs, [50,5,95])))\n",
    "        outcomes[nphase,centrifugation_time] = aucs\n",
    "\n",
    "colors = sns.color_palette(n_colors=2)\n",
    "for i,nphase in enumerate(nphases):\n",
    "    for centrifugation_time in centrifugation_times:\n",
    "        median,lower,upper = np.percentile(outcomes[nphase,centrifugation_time], [50,10,90])\n",
    "        if centrifugation_time == 1:\n",
    "            label = \"IDA-AMPS-%d\"%nphase\n",
    "        else:\n",
    "            label = None\n",
    "        plot(centrifugation_time+i*0.1-0.05, median, 'o', color=colors[nphase-2], label=label)\n",
    "        vlines(centrifugation_time+i*0.1-0.05, lower, upper, linewidth=1, color=colors[nphase-2])\n",
    "xlim(0,6)\n",
    "xticks([1,2,3,4,5], [2,4,6,8,10])\n",
    "xlabel(\"Centrifugation Time (min)\")\n",
    "ylabel(\"AUC\")\n",
    "legend(loc='lower left', fontsize=16)"
   ]
  },
  {
   "cell_type": "code",
   "execution_count": null,
   "metadata": {
    "collapsed": false
   },
   "outputs": [],
   "source": [
    "# Print out 5,50,95 CI for \n",
    "\n",
    "# phase, run_time, 5, 50, 95 CI\n",
    "headers = [\"nphase\", \"run_time\", \"median\", \"10thpercent\", \"90thpercent\"]\n",
    "print \",\".join(headers)\n",
    "for nphase in nphases:\n",
    "    for centrifugation_time in centrifugation_times:\n",
    "        median,lower,upper = np.percentile(outcomes[nphase,centrifugation_time], [50,10,90])\n",
    "        print \"%s, %d, %2.2f, %2.2f, %2.2f\" % (nphase, centrifugation_time*2, lower, median, upper)"
   ]
  },
  {
   "cell_type": "markdown",
   "metadata": {},
   "source": [
    "### How awful are we with IDA vs bTT?"
   ]
  },
  {
   "cell_type": "code",
   "execution_count": 327,
   "metadata": {
    "collapsed": false
   },
   "outputs": [],
   "source": [
    "# Load it up\n",
    "sdf = pd.read_pickle(filename)\n",
    "\n",
    "# Create a unique tag for each patient\n",
    "sdf['patient'] = sdf.sample+\"-\"+sdf.date\n",
    "\n",
    "# Select only good vials\n",
    "sdf = sdf[sdf.good == True]\n",
    "\n",
    "# Fill in the micro/hypo calls based on these criteria (AND THEN MOVE TO THE EXTRACTION NOTEBOOK)\n",
    "# ALL THESE INDICES ARE TO CALL THE MICRO/HYPOCHROMIC ANEMIC POPULATION\n",
    "hypochromia_idx = (sdf['%Hypo'] >= 3.9).values.astype('int32')\n",
    "anemic_woman_idx = (sdf['Age'] > 15) & (sdf['Sex'] == \"F\") & (sdf.HGB < 12.0) & hypochromia_idx\n",
    "anemic_man_idx = (sdf['Age'] > 15) & (sdf['Sex'] == \"M\") & (sdf.HGB < 13.0) & hypochromia_idx\n",
    "anemic_infant_idx = (sdf['Age'] < 5) & (sdf.HGB < 11.0) & hypochromia_idx\n",
    "anemic_child_idx = (sdf['Age'] >= 5) & (sdf['Age'] < 15) & (sdf.HGB < 11.5) & hypochromia_idx\n",
    "microhypoanemia_idx = (anemic_woman_idx | anemic_man_idx | anemic_infant_idx | anemic_child_idx).values.astype('int32')\n",
    "\n",
    "ida_idx = (sdf['%Micro/%Hypo Ratio'] <= 1.5).values & microhypoanemia_idx\n",
    "betatt_idx = (sdf['%Micro/%Hypo Ratio'] > 1.5).values & microhypoanemia_idx\n",
    "\n",
    "blood_type = sdf['blood_type'].values\n",
    "orig_blood_type = blood_type.copy()\n",
    "blood_type[:] = 'normal'\n",
    "blood_type[np.argwhere(ida_idx)] = 'ida'\n",
    "blood_type[np.argwhere(betatt_idx)] = 'tt'\n",
    "# blood_type[hypochromia_idx] = 'hypochromia'\n",
    "# blood_type[microhypoanemia_idx] = 'microhypo'\n",
    "\n",
    "sdf['blood_type'] = blood_type\n",
    "\n",
    "# df = pd.DataFrame([sdf[sdf.patient==patient].iloc[0] for patient in sdf.patient.unique()])\n",
    "# df['blood_type'].value_counts()"
   ]
  },
  {
   "cell_type": "code",
   "execution_count": 399,
   "metadata": {
    "collapsed": false
   },
   "outputs": [],
   "source": [
    "# For just this section! Filter out everything that's not IDA or tt\n",
    "sdf = sdf[sdf.blood_type!='normal']\n",
    "sdf['int_blood_type'] = label_binarize(sdf.blood_type.values, ['ida', 'tt']).ravel()"
   ]
  },
  {
   "cell_type": "code",
   "execution_count": 400,
   "metadata": {
    "collapsed": false
   },
   "outputs": [],
   "source": [
    "# For each patient, get the blood-type\n",
    "ida_patient_blood_type = []\n",
    "patients = sdf.patient.unique()\n",
    "for patient in patients:\n",
    "    ida_patient_blood_type.append(sdf[sdf.patient == patient].blood_type.values[0])\n",
    "ida_patient_blood_type = np.array(ida_patient_blood_type)"
   ]
  },
  {
   "cell_type": "code",
   "execution_count": null,
   "metadata": {
    "collapsed": false
   },
   "outputs": [],
   "source": [
    "aucs = []\n",
    "validation_idxs = []\n",
    "true_ys = []\n",
    "pred_ys = []\n",
    "all_scores = []\n",
    "for train, validate in cross_validation.StratifiedShuffleSplit(train_patient_blood_type, n_iter=50, test_size=0.5):\n",
    "    true_y, pred_y, scores, train_idx, validation_idx = classify(job, this_sdf, train_patients, train, validate)\n",
    "    auc = roc_auc_score(true_y, scores)\n",
    "    aucs.append(auc)\n",
    "    validation_idxs.extend(validation_idx)\n",
    "    true_ys.extend(true_y)\n",
    "    pred_ys.extend(pred_y)\n",
    "    all_scores.extend(scores)\n"
   ]
  },
  {
   "cell_type": "code",
   "execution_count": 402,
   "metadata": {
    "collapsed": false
   },
   "outputs": [
    {
     "name": "stdout",
     "output_type": "stream",
     "text": [
      "auc: 0.41 (0.20,0.56)\n"
     ]
    }
   ],
   "source": [
    "aucs = []\n",
    "validation_idxs = []\n",
    "true_ys = []\n",
    "pred_ys = []\n",
    "all_scores = []\n",
    "for train, validate in cross_validation.StratifiedShuffleSplit(ida_patient_blood_type, n_iter=50, test_size=0.5):\n",
    "    true_y, pred_y, scores, train_idx, validation_idx = classify(job, sdf, patients, train, validate)\n",
    "    try:\n",
    "        auc = roc_auc_score(true_y, scores)\n",
    "        aucs.append(auc)\n",
    "        validation_idxs.extend(validation_idx)\n",
    "        true_ys.extend(true_y)\n",
    "        pred_ys.extend(pred_y)\n",
    "        all_scores.extend(scores)\n",
    "    except:\n",
    "        continue\n",
    "    \n",
    "print(u\"auc: %2.2f (%2.2f,%2.2f)\"%tuple(np.percentile(aucs, [50,5,95])))\n",
    "fpr, tpr, _ = roc_curve(true_ys, all_scores)"
   ]
  },
  {
   "cell_type": "code",
   "execution_count": 409,
   "metadata": {
    "collapsed": false
   },
   "outputs": [
    {
     "data": {
      "text/plain": [
       "<matplotlib.legend.Legend at 0x131a68310>"
      ]
     },
     "execution_count": 409,
     "metadata": {},
     "output_type": "execute_result"
    },
    {
     "data": {
      "image/png": "[encoded data removed]",
      "text/plain": [
       "<matplotlib.figure.Figure at 0x131a68150>"
      ]
     },
     "metadata": {},
     "output_type": "display_data"
    }
   ],
   "source": [
    "fpr, tpr, _ = roc_curve(true_ys, all_scores)\n",
    "plot(fpr, tpr, label=\"IDA vs TT, AUC: %2.2f\" % np.percentile(aucs,50))\n",
    "ylabel(\"True Positive Rate\")\n",
    "xlabel(\"False Positive Rate (1-Specificity)\")\n",
    "legend(loc='upper left', fontsize=14)"
   ]
  },
  {
   "cell_type": "code",
   "execution_count": null,
   "metadata": {
    "collapsed": false
   },
   "outputs": [],
   "source": []
  }
 ],
 "metadata": {
  "kernelspec": {
   "display_name": "Python 3",
   "language": "python",
   "name": "python3"
  },
  "language_info": {
   "codemirror_mode": {
    "name": "ipython",
    "version": 3
   },
   "file_extension": ".py",
   "mimetype": "text/x-python",
   "name": "python",
   "nbconvert_exporter": "python",
   "pygments_lexer": "ipython3",
   "version": "3.5.1"
  }
 },
 "nbformat": 4,
 "nbformat_minor": 0
}
