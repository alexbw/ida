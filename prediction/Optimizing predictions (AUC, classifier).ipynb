{
 "metadata": {
  "name": "",
  "signature": "sha256:e94c438b948ff1bf629ec7f296d726a1c0d221afe467d7c5c296281b3f52ccda"
 },
 "nbformat": 3,
 "nbformat_minor": 0,
 "worksheets": [
  {
   "cells": [
    {
     "cell_type": "raw",
     "metadata": {},
     "source": [
      "# TODO\n",
      "class_weight = 'auto'\n",
      "5 stratified folds\n",
      "whetlab on cross-validation on first 4\n",
      "report performance on heldout"
     ]
    },
    {
     "cell_type": "code",
     "collapsed": false,
     "input": [
      "import pandas as pd\n",
      "import numpy as np\n",
      "from scipy import ndimage\n",
      "from sklearn import svm, cross_validation\n",
      "from sklearn import decomposition as decomp\n",
      "from sklearn.linear_model import LogisticRegression\n",
      "from sklearn.metrics import roc_auc_score\n",
      "np.set_printoptions(suppress=True, precision=3)\n",
      "from blurd.util import *"
     ],
     "language": "python",
     "metadata": {},
     "outputs": [],
     "prompt_number": 2
    },
    {
     "cell_type": "markdown",
     "metadata": {},
     "source": [
      "### Load the data"
     ]
    },
    {
     "cell_type": "code",
     "collapsed": false,
     "input": [
      "# Load it up\n",
      "sdf = pd.load(\"/Users/Alex/Code/blurd/data.pandas\")\n",
      "\n",
      "# Ignore anemic sub-types\n",
      "y = sdf['blood_type'].values.copy()\n",
      "y[y!='normal'] = 'anemic'\n",
      "y[y=='normal'] = 'normal'\n",
      "sdf['blood_type'] = y\n",
      "\n",
      "# Gather the blood-type for prediction\n",
      "int_y = sdf['blood_type'].values.copy()\n",
      "int_y[int_y=='anemic'] = 1\n",
      "int_y[int_y=='normal'] = 0\n",
      "int_y = int_y.astype('int32')\n",
      "sdf['int_blood_type'] = int_y\n",
      "\n",
      "# Create a unique tag for each patient\n",
      "sdf['patient'] = sdf.sample+\"-\"+sdf.date\n",
      "\n",
      "# Select only good vials\n",
      "sdf = sdf[sdf.good==True]\n",
      "\n",
      "# Get the patients\n",
      "patients = sdf.patient.unique()\n",
      "\n",
      "# For each patient, get the blood-type\n",
      "patient_blood_type = []\n",
      "for patient in patients:\n",
      "    patient_blood_type.append(sdf[sdf.patient==patient].int_blood_type.values[0])\n",
      "    \n",
      "# Divide the patients up into 5 stratified folds (strata by blood type)\n",
      "skf = cross_validation.StratifiedKFold(patient_blood_type, 5)\n",
      "\n",
      "# Hold out the last fold for verification, and use the first 4 for K-fold train/test\n",
      "patient_folds = list(skf)\n",
      "trainvalidation_folds, test_fold = patient_folds[:-1],patient_folds[-1]\n",
      "\n",
      "# Stack all data and labels for indexing in a moment\n",
      "all_data = np.vstack(sdf.data.values)\n",
      "blood_type = sdf.int_blood_type.values"
     ],
     "language": "python",
     "metadata": {},
     "outputs": [],
     "prompt_number": 10
    },
    {
     "cell_type": "code",
     "collapsed": false,
     "input": [
      "import whetlab\n",
      "# Define parameters to optimize\n",
      "n_runs = 100\n",
      "parameters = dict(nphase=dict(type='integer', min=2, max=3),\n",
      "                    centrifugation_time = dict(type='integer', min=1, max=5),\n",
      "                    n_dimensions=dict(type='int', min=2, max=184),\n",
      "                    start=dict(type='float', min=0, max=119),\n",
      "                    stop=dict(type='float',min=120, max=184),\n",
      "                    reduc_method=dict(type='int', min=0,max=3),\n",
      "                    C=dict(type='float', min=1e-2, max=1e2),\n",
      "                    penalty=dict(type='enum', options=['l2', 'l1']))\n",
      "\n",
      "name = 'Classifying blood type (with patient-based folds)'\n",
      "description = 'Classifying blood type from IDA blood test (anemic or not)'\n",
      "outcome = dict(name=\"AUC\")\n",
      "scientist = whetlab.Experiment(name=name, access_token=None, \n",
      "                               description=description,\n",
      "                               parameters=parameters, \n",
      "                               outcome=outcome)\n",
      "\n",
      "for i in range(n_runs):\n",
      "    pendings = scientist.pending()\n",
      "    if len(pendings) > 0:\n",
      "        job = pendings[0]\n",
      "    else:\n",
      "        job = scientist.suggest()\n",
      "    print job\n",
      "\n",
      "    # Prepare the data based on the job (cropping and dimensionality reduction)\n",
      "    cropped_data = all_data[:,job['start']:job['stop']]\n",
      "    reduc_method = ['raw','pca','nmf','kernelpca'][job['reduc_method']]\n",
      "    if reduc_method == \"raw\":\n",
      "        x = ndimage.zoom(cropped_data,(1,job['n_dimensions']/cropped_data.shape[1]))\n",
      "    elif reduc_method == \"nmf\":\n",
      "        x = decomp.NMF(job['n_dimensions']).fit_transform(cropped_data)\n",
      "    elif reduc_method == \"pca\":\n",
      "        x = decomp.PCA(job['n_dimensions']).fit_transform(cropped_data)\n",
      "    elif reduc_method == \"kernelpca\":\n",
      "        x = decomp.KernelPCA(job['n_dimensions'],'rbf',gamma=1.0).fit_transform(cropped_data)\n",
      "        \n",
      "    # Prepare the blood parameter index\n",
      "    blood_param_idx = ((sdf.run_time == 2*int(job['centrifugation_time'])) & (sdf.ida == \"IDA%d\"%job['nphase'])).values\n",
      "    \n",
      "    auc_across_folds = []\n",
      "    for train, validation in trainvalidation_folds:\n",
      "        \n",
      "        # Prepare the indices for this fold\n",
      "        train_idx = blood_param_idx&np.array([p in patients[train] for p in sdf.patient])\n",
      "        validation_idx = blood_param_idx&np.array([p in patients[validation] for p in sdf.patient])\n",
      "        \n",
      "        # Get the data and labels\n",
      "        train_data = cropped_data[train_idx]\n",
      "        validation_data = cropped_data[validation_idx]\n",
      "        train_y = blood_type[train_idx]\n",
      "        validation_y = blood_type[validation_idx]\n",
      "        \n",
      "        learner = LogisticRegression(penalty=job['penalty'], C=job['C'], fit_intercept=True).fit(train_data,train_y)\n",
      "        pred_y = learner.predict(validation_data).ravel()\n",
      "        this_auc = roc_auc_score(validation_y, learner.decision_function(validation_data).ravel())\n",
      "        auc_across_folds.append(this_auc)\n",
      "    auc = np.mean(auc_across_folds)\n",
      "\n",
      "    print auc\n",
      "\n",
      "    # Tell Whetlab about the result\n",
      "    scientist.update(job, auc)"
     ],
     "language": "python",
     "metadata": {},
     "outputs": [
      {
       "output_type": "stream",
       "stream": "stdout",
       "text": [
        "INFO: this experiment currently has 1 jobs (results) that are pending.\n",
        "{u'C': 50.004999999999995, u'reduc_method': 1, u'centrifugation_time': 3, u'stop': 152.0, u'penalty': u'l2', u'start': 59.5, u'n_dimensions': 93, u'nphase': 2}"
       ]
      },
      {
       "output_type": "stream",
       "stream": "stderr",
       "text": [
        "-c:30: DeprecationWarning: using a non-integer number instead of an integer will result in an error in the future\n",
        "-c:30: DeprecationWarning: using a non-integer number instead of an integer will result in an error in the future\n"
       ]
      },
      {
       "output_type": "stream",
       "stream": "stdout",
       "text": [
        "\n",
        "0.956591141833"
       ]
      },
      {
       "output_type": "stream",
       "stream": "stdout",
       "text": [
        "\n",
        "{u'C': 0.01, u'reduc_method': 0, u'centrifugation_time': 1, u'stop': 184.0, u'penalty': 'l1', u'start': 119.0, u'n_dimensions': 184, u'nphase': 3}"
       ]
      },
      {
       "output_type": "stream",
       "stream": "stdout",
       "text": [
        "\n",
        "0.5"
       ]
      },
      {
       "output_type": "stream",
       "stream": "stdout",
       "text": [
        "\n",
        "{u'C': 100.0, u'reduc_method': 3, u'centrifugation_time': 5, u'stop': 120.0, u'penalty': 'l2', u'start': 30.351854887342824, u'n_dimensions': 2, u'nphase': 2}"
       ]
      },
      {
       "output_type": "stream",
       "stream": "stderr",
       "text": [
        "-c:30: DeprecationWarning: using a non-integer number instead of an integer will result in an error in the future\n",
        "-c:30: DeprecationWarning: using a non-integer number instead of an integer will result in an error in the future\n",
        "-c:30: DeprecationWarning: using a non-integer number instead of an integer will result in an error in the future\n"
       ]
      },
      {
       "output_type": "stream",
       "stream": "stdout",
       "text": [
        "\n",
        "0.983228388686"
       ]
      },
      {
       "output_type": "stream",
       "stream": "stdout",
       "text": [
        "\n",
        "{u'C': 0.01, u'reduc_method': 0, u'centrifugation_time': 4, u'stop': 184.0, u'penalty': 'l2', u'start': 0.0, u'n_dimensions': 2, u'nphase': 3}"
       ]
      },
      {
       "output_type": "stream",
       "stream": "stderr",
       "text": [
        "-c:30: DeprecationWarning: using a non-integer number instead of an integer will result in an error in the future\n",
        "-c:30: DeprecationWarning: using a non-integer number instead of an integer will result in an error in the future\n"
       ]
      },
      {
       "output_type": "stream",
       "stream": "stdout",
       "text": [
        "\n",
        "0.874843723332"
       ]
      },
      {
       "output_type": "stream",
       "stream": "stdout",
       "text": [
        "\n",
        "{u'C': 92.34404508543058, u'reduc_method': 1, u'centrifugation_time': 2, u'stop': 120.0, u'penalty': 'l2', u'start': 119.0, u'n_dimensions': 9, u'nphase': 2}"
       ]
      },
      {
       "output_type": "stream",
       "stream": "stderr",
       "text": [
        "-c:30: DeprecationWarning: using a non-integer number instead of an integer will result in an error in the future\n",
        "-c:30: DeprecationWarning: using a non-integer number instead of an integer will result in an error in the future\n"
       ]
      },
      {
       "output_type": "stream",
       "stream": "stdout",
       "text": [
        "\n",
        "0.579330561294"
       ]
      },
      {
       "output_type": "stream",
       "stream": "stdout",
       "text": [
        "\n",
        "{u'C': 100.0, u'reduc_method': 3, u'centrifugation_time': 5, u'stop': 184.0, u'penalty': 'l1', u'start': 38.719647907815755, u'n_dimensions': 184, u'nphase': 3}"
       ]
      },
      {
       "output_type": "stream",
       "stream": "stderr",
       "text": [
        "-c:30: DeprecationWarning: using a non-integer number instead of an integer will result in an error in the future\n",
        "-c:30: DeprecationWarning: using a non-integer number instead of an integer will result in an error in the future\n"
       ]
      },
      {
       "output_type": "stream",
       "stream": "stdout",
       "text": [
        "\n",
        "0.909894633257"
       ]
      },
      {
       "output_type": "stream",
       "stream": "stdout",
       "text": [
        "\n",
        "{u'C': 100.0, u'reduc_method': 3, u'centrifugation_time': 5, u'stop': 175.49122805579475, u'penalty': 'l2', u'start': 30.414952218550855, u'n_dimensions': 184, u'nphase': 3}"
       ]
      },
      {
       "output_type": "stream",
       "stream": "stderr",
       "text": [
        "-c:30: DeprecationWarning: using a non-integer number instead of an integer will result in an error in the future\n",
        "-c:30: DeprecationWarning: using a non-integer number instead of an integer will result in an error in the future\n"
       ]
      },
      {
       "output_type": "stream",
       "stream": "stdout",
       "text": [
        "\n",
        "0.907795965608"
       ]
      },
      {
       "output_type": "stream",
       "stream": "stdout",
       "text": [
        "\n",
        "{u'C': 0.01, u'reduc_method': 3, u'centrifugation_time': 5, u'stop': 120.0, u'penalty': 'l2', u'start': 0.0, u'n_dimensions': 2, u'nphase': 3}"
       ]
      },
      {
       "output_type": "stream",
       "stream": "stderr",
       "text": [
        "-c:30: DeprecationWarning: using a non-integer number instead of an integer will result in an error in the future\n",
        "-c:30: DeprecationWarning: using a non-integer number instead of an integer will result in an error in the future\n"
       ]
      },
      {
       "output_type": "stream",
       "stream": "stdout",
       "text": [
        "\n",
        "0.834563345387"
       ]
      },
      {
       "output_type": "stream",
       "stream": "stdout",
       "text": [
        "\n",
        "{u'C': 100.0, u'reduc_method': 2, u'centrifugation_time': 1, u'stop': 120.0, u'penalty': 'l2', u'start': 0.0, u'n_dimensions': 158, u'nphase': 2}"
       ]
      },
      {
       "output_type": "stream",
       "stream": "stderr",
       "text": [
        "-c:30: DeprecationWarning: using a non-integer number instead of an integer will result in an error in the future\n",
        "-c:30: DeprecationWarning: using a non-integer number instead of an integer will result in an error in the future\n"
       ]
      },
      {
       "output_type": "stream",
       "stream": "stdout",
       "text": [
        "\n",
        "0.963490518566"
       ]
      },
      {
       "output_type": "stream",
       "stream": "stdout",
       "text": [
        "\n",
        "{u'C': 100.0, u'reduc_method': 0, u'centrifugation_time': 5, u'stop': 146.6935656853413, u'penalty': 'l2', u'start': 8.278782085767885, u'n_dimensions': 67, u'nphase': 2}"
       ]
      },
      {
       "output_type": "stream",
       "stream": "stderr",
       "text": [
        "-c:30: DeprecationWarning: using a non-integer number instead of an integer will result in an error in the future\n",
        "-c:30: DeprecationWarning: using a non-integer number instead of an integer will result in an error in the future\n"
       ]
      },
      {
       "output_type": "stream",
       "stream": "stdout",
       "text": [
        "\n",
        "0.978623735367"
       ]
      },
      {
       "output_type": "stream",
       "stream": "stdout",
       "text": [
        "\n",
        "{u'C': 100.0, u'reduc_method': 0, u'centrifugation_time': 5, u'stop': 120.0, u'penalty': 'l1', u'start': 59.617297791678304, u'n_dimensions': 2, u'nphase': 2}"
       ]
      },
      {
       "output_type": "stream",
       "stream": "stderr",
       "text": [
        "-c:30: DeprecationWarning: using a non-integer number instead of an integer will result in an error in the future\n",
        "-c:30: DeprecationWarning: using a non-integer number instead of an integer will result in an error in the future\n"
       ]
      },
      {
       "output_type": "stream",
       "stream": "stdout",
       "text": [
        "\n",
        "0.907602031358"
       ]
      },
      {
       "output_type": "stream",
       "stream": "stdout",
       "text": [
        "\n",
        "{u'C': 100.0, u'reduc_method': 2, u'centrifugation_time': 1, u'stop': 184.0, u'penalty': 'l2', u'start': 21.1417947754344, u'n_dimensions': 2, u'nphase': 2}"
       ]
      },
      {
       "output_type": "stream",
       "stream": "stderr",
       "text": [
        "-c:30: DeprecationWarning: using a non-integer number instead of an integer will result in an error in the future\n",
        "-c:30: DeprecationWarning: using a non-integer number instead of an integer will result in an error in the future\n"
       ]
      },
      {
       "output_type": "stream",
       "stream": "stdout",
       "text": [
        "\n",
        "0.967140738387"
       ]
      },
      {
       "output_type": "stream",
       "stream": "stdout",
       "text": [
        "\n",
        "{u'C': 100.0, u'reduc_method': 1, u'centrifugation_time': 5, u'stop': 120.0, u'penalty': 'l2', u'start': 79.17705532301747, u'n_dimensions': 2, u'nphase': 2}"
       ]
      },
      {
       "output_type": "stream",
       "stream": "stderr",
       "text": [
        "-c:30: DeprecationWarning: using a non-integer number instead of an integer will result in an error in the future\n",
        "-c:30: DeprecationWarning: using a non-integer number instead of an integer will result in an error in the future\n"
       ]
      },
      {
       "output_type": "stream",
       "stream": "stdout",
       "text": [
        "\n",
        "0.925497907728"
       ]
      },
      {
       "output_type": "stream",
       "stream": "stdout",
       "text": [
        "\n",
        "{u'C': 100.0, u'reduc_method': 3, u'centrifugation_time': 2, u'stop': 120.0, u'penalty': 'l2', u'start': 51.319082208145524, u'n_dimensions': 75, u'nphase': 2}"
       ]
      },
      {
       "output_type": "stream",
       "stream": "stderr",
       "text": [
        "-c:30: DeprecationWarning: using a non-integer number instead of an integer will result in an error in the future\n",
        "-c:30: DeprecationWarning: using a non-integer number instead of an integer will result in an error in the future\n"
       ]
      },
      {
       "output_type": "stream",
       "stream": "stdout",
       "text": [
        "\n",
        "0.961884722002"
       ]
      },
      {
       "output_type": "stream",
       "stream": "stdout",
       "text": [
        "\n",
        "{u'C': 82.17782078479246, u'reduc_method': 1, u'centrifugation_time': 5, u'stop': 184.0, u'penalty': 'l2', u'start': 55.75308408788434, u'n_dimensions': 184, u'nphase': 2}"
       ]
      },
      {
       "output_type": "stream",
       "stream": "stderr",
       "text": [
        "-c:30: DeprecationWarning: using a non-integer number instead of an integer will result in an error in the future\n",
        "-c:30: DeprecationWarning: using a non-integer number instead of an integer will result in an error in the future\n"
       ]
      },
      {
       "output_type": "stream",
       "stream": "stdout",
       "text": [
        "\n",
        "0.933489922665"
       ]
      },
      {
       "output_type": "stream",
       "stream": "stdout",
       "text": [
        "\n",
        "{u'C': 100.0, u'reduc_method': 0, u'centrifugation_time': 3, u'stop': 126.6447849733008, u'penalty': 'l2', u'start': 26.664423817814527, u'n_dimensions': 2, u'nphase': 2}"
       ]
      },
      {
       "output_type": "stream",
       "stream": "stderr",
       "text": [
        "-c:30: DeprecationWarning: using a non-integer number instead of an integer will result in an error in the future\n",
        "-c:30: DeprecationWarning: using a non-integer number instead of an integer will result in an error in the future\n"
       ]
      },
      {
       "output_type": "stream",
       "stream": "stdout",
       "text": [
        "\n",
        "0.988767281106"
       ]
      },
      {
       "output_type": "stream",
       "stream": "stdout",
       "text": [
        "\n",
        "{u'C': 74.14252341169168, u'reduc_method': 1, u'centrifugation_time': 3, u'stop': 129.73372802130396, u'penalty': 'l2', u'start': 0.0, u'n_dimensions': 2, u'nphase': 2}"
       ]
      },
      {
       "output_type": "stream",
       "stream": "stderr",
       "text": [
        "-c:30: DeprecationWarning: using a non-integer number instead of an integer will result in an error in the future\n",
        "-c:30: DeprecationWarning: using a non-integer number instead of an integer will result in an error in the future\n"
       ]
      },
      {
       "output_type": "stream",
       "stream": "stdout",
       "text": [
        "\n",
        "0.982729134665"
       ]
      },
      {
       "output_type": "stream",
       "stream": "stdout",
       "text": [
        "\n",
        "{u'C': 100.0, u'reduc_method': 0, u'centrifugation_time': 5, u'stop': 120.0, u'penalty': 'l2', u'start': 0.0, u'n_dimensions': 2, u'nphase': 2}"
       ]
      },
      {
       "output_type": "stream",
       "stream": "stderr",
       "text": [
        "-c:30: DeprecationWarning: using a non-integer number instead of an integer will result in an error in the future\n",
        "-c:30: DeprecationWarning: using a non-integer number instead of an integer will result in an error in the future\n"
       ]
      },
      {
       "output_type": "stream",
       "stream": "stdout",
       "text": [
        "\n",
        "0.974258104243"
       ]
      },
      {
       "output_type": "stream",
       "stream": "stdout",
       "text": [
        "\n",
        "{u'C': 29.029119138795757, u'reduc_method': 0, u'centrifugation_time': 1, u'stop': 120.0, u'penalty': 'l2', u'start': 17.76357309300354, u'n_dimensions': 2, u'nphase': 2}"
       ]
      },
      {
       "output_type": "stream",
       "stream": "stderr",
       "text": [
        "-c:30: DeprecationWarning: using a non-integer number instead of an integer will result in an error in the future\n",
        "-c:30: DeprecationWarning: using a non-integer number instead of an integer will result in an error in the future\n"
       ]
      },
      {
       "output_type": "stream",
       "stream": "stdout",
       "text": [
        "\n",
        "0.976203056306"
       ]
      },
      {
       "output_type": "stream",
       "stream": "stdout",
       "text": [
        "\n",
        "{u'C': 100.0, u'reduc_method': 0, u'centrifugation_time': 1, u'stop': 120.0, u'penalty': 'l2', u'start': 0.0, u'n_dimensions': 2, u'nphase': 2}"
       ]
      },
      {
       "output_type": "stream",
       "stream": "stderr",
       "text": [
        "-c:30: DeprecationWarning: using a non-integer number instead of an integer will result in an error in the future\n",
        "-c:30: DeprecationWarning: using a non-integer number instead of an integer will result in an error in the future\n"
       ]
      },
      {
       "output_type": "stream",
       "stream": "stdout",
       "text": [
        "\n",
        "0.963490518566"
       ]
      },
      {
       "output_type": "stream",
       "stream": "stdout",
       "text": [
        "\n",
        "{u'C': 33.03234876722988, u'reduc_method': 0, u'centrifugation_time': 5, u'stop': 123.44424606505933, u'penalty': 'l2', u'start': 31.402307955383375, u'n_dimensions': 33, u'nphase': 2}"
       ]
      },
      {
       "output_type": "stream",
       "stream": "stderr",
       "text": [
        "-c:30: DeprecationWarning: using a non-integer number instead of an integer will result in an error in the future\n",
        "-c:30: DeprecationWarning: using a non-integer number instead of an integer will result in an error in the future\n"
       ]
      },
      {
       "output_type": "stream",
       "stream": "stdout",
       "text": [
        "\n",
        "0.984329479845"
       ]
      },
      {
       "output_type": "stream",
       "stream": "stdout",
       "text": [
        "\n",
        "{u'C': 100.0, u'reduc_method': 1, u'centrifugation_time': 2, u'stop': 126.66495285151501, u'penalty': 'l2', u'start': 0.0, u'n_dimensions': 17, u'nphase': 2}"
       ]
      },
      {
       "output_type": "stream",
       "stream": "stderr",
       "text": [
        "-c:30: DeprecationWarning: using a non-integer number instead of an integer will result in an error in the future\n",
        "-c:30: DeprecationWarning: using a non-integer number instead of an integer will result in an error in the future\n"
       ]
      },
      {
       "output_type": "stream",
       "stream": "stdout",
       "text": [
        "\n",
        "0.978240946731"
       ]
      },
      {
       "output_type": "stream",
       "stream": "stdout",
       "text": [
        "\n",
        "{u'C': 41.51165935523462, u'reduc_method': 2, u'centrifugation_time': 5, u'stop': 138.72449484297803, u'penalty': 'l2', u'start': 0.0, u'n_dimensions': 97, u'nphase': 2}"
       ]
      },
      {
       "output_type": "stream",
       "stream": "stderr",
       "text": [
        "-c:30: DeprecationWarning: using a non-integer number instead of an integer will result in an error in the future\n",
        "-c:30: DeprecationWarning: using a non-integer number instead of an integer will result in an error in the future\n"
       ]
      }
     ]
    },
    {
     "cell_type": "code",
     "collapsed": false,
     "input": [
      "#"
     ],
     "language": "python",
     "metadata": {},
     "outputs": []
    },
    {
     "cell_type": "code",
     "collapsed": false,
     "input": [
      "figure(figsize=(5,5))\n",
      "plot(np.hstack(all_true_y), np.hstack(all_pred_y), '.')\n",
      "axis('equal')\n",
      "xlabel(\"True %s values\" % data_type)\n",
      "ylabel(\"Predicted %s values\" % data_type)\n",
      "axis('equal')"
     ],
     "language": "python",
     "metadata": {},
     "outputs": []
    }
   ],
   "metadata": {}
  }
 ]
}