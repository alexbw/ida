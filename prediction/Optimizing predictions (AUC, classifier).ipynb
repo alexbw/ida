{
 "metadata": {
  "name": "",
  "signature": "sha256:f3b2ffdadf9c89c9189cb0c43a72b7ea7e446016dd95a5708c25595795899c30"
 },
 "nbformat": 3,
 "nbformat_minor": 0,
 "worksheets": [
  {
   "cells": [
    {
     "cell_type": "raw",
     "metadata": {},
     "source": [
      "# TODO\n",
      "class_weight = 'auto'\n",
      "5 stratified folds\n",
      "whetlab on cross-validation on first 4\n",
      "report performance on heldout"
     ]
    },
    {
     "cell_type": "code",
     "collapsed": false,
     "input": [
      "import pandas as pd\n",
      "import numpy as np\n",
      "from scipy import ndimage\n",
      "from sklearn import svm, cross_validation\n",
      "from sklearn import decomposition as decomp\n",
      "from sklearn.linear_model import LogisticRegression\n",
      "from sklearn.metrics import roc_auc_score\n",
      "np.set_printoptions(suppress=True, precision=3)\n",
      "from blurd.util import *"
     ],
     "language": "python",
     "metadata": {},
     "outputs": [],
     "prompt_number": 2
    },
    {
     "cell_type": "markdown",
     "metadata": {},
     "source": [
      "### Load the data"
     ]
    },
    {
     "cell_type": "code",
     "collapsed": false,
     "input": [
      "# Load it up\n",
      "sdf = pd.load(\"/Users/Alex/Code/blurd/data.pandas\")\n",
      "\n",
      "# Ignore anemic sub-types\n",
      "y = sdf['blood_type'].values.copy()\n",
      "y[y!='normal'] = 'anemic'\n",
      "y[y=='normal'] = 'normal'\n",
      "sdf['blood_type'] = y\n",
      "\n",
      "# Gather the blood-type for prediction\n",
      "int_y = sdf['blood_type'].values.copy()\n",
      "int_y[int_y=='anemic'] = 1\n",
      "int_y[int_y=='normal'] = 0\n",
      "int_y = int_y.astype('int32')\n",
      "sdf['int_blood_type'] = int_y\n",
      "\n",
      "# Create a unique tag for each patient\n",
      "sdf['patient'] = sdf.sample+\"-\"+sdf.date\n",
      "\n",
      "# Select only good vials\n",
      "sdf = sdf[sdf.good==True]\n",
      "\n",
      "# Get the patients\n",
      "patients = sdf.patient.unique()\n",
      "\n",
      "# For each patient, get the blood-type\n",
      "patient_blood_type = []\n",
      "for patient in patients:\n",
      "    patient_blood_type.append(sdf[sdf.patient==patient].int_blood_type.values[0])\n",
      "    \n",
      "# Divide the patients up into 5 stratified folds (strata by blood type)\n",
      "skf = cross_validation.StratifiedKFold(patient_blood_type, 5)\n",
      "\n",
      "# Hold out the last fold for verification, and use the first 4 for K-fold train/test\n",
      "patient_folds = list(skf)\n",
      "traintest_folds, validation_fold = patient_folds[:-1],patient_folds[-1]\n",
      "\n",
      "# Stack all data and labels for indexing in a moment\n",
      "all_data = np.vstack(sdf.data.values)\n",
      "blood_type = sdf.int_blood_type.values"
     ],
     "language": "python",
     "metadata": {},
     "outputs": [],
     "prompt_number": 10
    },
    {
     "cell_type": "code",
     "collapsed": false,
     "input": [
      "import whetlab\n",
      "# Define parameters to optimize\n",
      "n_runs = 100\n",
      "parameters = dict(nphase=dict(type='integer', min=2, max=3),\n",
      "                    centrifugation_time = dict(type='integer', min=1, max=5),\n",
      "                    n_dimensions=dict(type='int', min=2, max=184),\n",
      "                    start=dict(type='float', min=0, max=119),\n",
      "                    stop=dict(type='float',min=120, max=184),\n",
      "                    reduc_method=dict(type='int', min=0,max=3),\n",
      "                    C=dict(type='float', min=1e-2, max=1e2),\n",
      "                    penalty=dict(type='enum', options=['l2', 'l1']))\n",
      "\n",
      "name = 'Classifying blood type (with patient-based folds)'\n",
      "description = 'Classifying blood type from IDA blood test (anemic or not)'\n",
      "outcome = dict(name=\"AUC\")\n",
      "scientist = whetlab.Experiment(name=name, access_token=None, \n",
      "                               description=description,\n",
      "                               parameters=parameters, \n",
      "                               outcome=outcome)\n",
      "\n",
      "for i in range(n_runs):\n",
      "    pendings = scientist.pending()\n",
      "    if len(pendings) > 0:\n",
      "        job = pendings[0]\n",
      "    else:\n",
      "        job = scientist.suggest()\n",
      "    print job\n",
      "\n",
      "    # Prepare the data based on the job (cropping and dimensionality reduction)\n",
      "    cropped_data = all_data[:,job['start']:job['stop']]\n",
      "    reduc_method = ['raw','pca','nmf','kernelpca'][job['reduc_method']]\n",
      "    if reduc_method == \"raw\":\n",
      "        x = ndimage.zoom(cropped_data,(1,job['n_dimensions']/cropped_data.shape[1]))\n",
      "    elif reduc_method == \"nmf\":\n",
      "        x = decomp.NMF(job['n_dimensions']).fit_transform(cropped_data)\n",
      "    elif reduc_method == \"pca\":\n",
      "        x = decomp.PCA(job['n_dimensions']).fit_transform(cropped_data)\n",
      "    elif reduc_method == \"kernelpca\":\n",
      "        x = decomp.KernelPCA(job['n_dimensions'],'rbf',gamma=1.0).fit_transform(cropped_data)\n",
      "        \n",
      "    # Prepare the blood parameter index\n",
      "    blood_param_idx = ((sdf.run_time == 2*int(job['centrifugation_time'])) & (sdf.ida == \"IDA%d\"%job['nphase'])).values\n",
      "    \n",
      "    auc_across_folds = []\n",
      "    for train, test in traintest_folds:\n",
      "        \n",
      "        # Prepare the indices for this fold\n",
      "        train_idx = blood_param_idx&np.array([p in patients[train] for p in sdf.patient])\n",
      "        test_idx = blood_param_idx&np.array([p in patients[test] for p in sdf.patient])\n",
      "        \n",
      "        # Get the data and labels\n",
      "        train_data = cropped_data[train_idx]\n",
      "        test_data = cropped_data[test_idx]\n",
      "        train_y = blood_type[train_idx]\n",
      "        test_y = blood_type[test_idx]\n",
      "        \n",
      "        learner = LogisticRegression(penalty=job['penalty'], C=job['C'], fit_intercept=True).fit(train_data,train_y)\n",
      "        pred_y = learner.predict(test_data).ravel()\n",
      "        this_auc = roc_auc_score(test_y, learner.decision_function(test_data).ravel())\n",
      "        auc_across_folds.append(this_auc)\n",
      "    auc = np.mean(auc_across_folds)\n",
      "\n",
      "    print auc\n",
      "\n",
      "    # Tell Whetlab about the result\n",
      "    scientist.update(job, auc)"
     ],
     "language": "python",
     "metadata": {},
     "outputs": [
      {
       "output_type": "stream",
       "stream": "stdout",
       "text": [
        "INFO: this experiment currently has 1 jobs (results) that are pending.\n",
        "{u'C': 50.004999999999995, u'reduc_method': 1, u'centrifugation_time': 3, u'stop': 152.0, u'penalty': u'l2', u'start': 59.5, u'n_dimensions': 93, u'nphase': 2}"
       ]
      },
      {
       "output_type": "stream",
       "stream": "stderr",
       "text": [
        "-c:30: DeprecationWarning: using a non-integer number instead of an integer will result in an error in the future\n",
        "-c:30: DeprecationWarning: using a non-integer number instead of an integer will result in an error in the future\n"
       ]
      },
      {
       "output_type": "stream",
       "stream": "stdout",
       "text": [
        "\n",
        "0.956591141833"
       ]
      },
      {
       "output_type": "stream",
       "stream": "stdout",
       "text": [
        "\n",
        "{u'C': 0.01, u'reduc_method': 0, u'centrifugation_time': 1, u'stop': 184.0, u'penalty': 'l1', u'start': 119.0, u'n_dimensions': 184, u'nphase': 3}"
       ]
      },
      {
       "output_type": "stream",
       "stream": "stdout",
       "text": [
        "\n",
        "0.5"
       ]
      },
      {
       "output_type": "stream",
       "stream": "stdout",
       "text": [
        "\n",
        "{u'C': 100.0, u'reduc_method': 3, u'centrifugation_time': 5, u'stop': 120.0, u'penalty': 'l2', u'start': 30.351854887342824, u'n_dimensions': 2, u'nphase': 2}"
       ]
      },
      {
       "output_type": "stream",
       "stream": "stderr",
       "text": [
        "-c:30: DeprecationWarning: using a non-integer number instead of an integer will result in an error in the future\n",
        "-c:30: DeprecationWarning: using a non-integer number instead of an integer will result in an error in the future\n",
        "-c:30: DeprecationWarning: using a non-integer number instead of an integer will result in an error in the future\n"
       ]
      },
      {
       "output_type": "stream",
       "stream": "stdout",
       "text": [
        "\n",
        "0.983228388686"
       ]
      }
     ]
    },
    {
     "cell_type": "code",
     "collapsed": false,
     "input": [
      "figure(figsize=(5,5))\n",
      "plot(np.hstack(all_true_y), np.hstack(all_pred_y), '.')\n",
      "axis('equal')\n",
      "xlabel(\"True %s values\" % data_type)\n",
      "ylabel(\"Predicted %s values\" % data_type)\n",
      "axis('equal')"
     ],
     "language": "python",
     "metadata": {},
     "outputs": []
    }
   ],
   "metadata": {}
  }
 ]
}