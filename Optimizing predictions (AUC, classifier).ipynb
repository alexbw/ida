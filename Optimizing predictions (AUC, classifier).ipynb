{
 "metadata": {
  "name": "",
  "signature": "sha256:90be2313ac00017c04a978652dc1e6ef5edb35e279bc04db16cb46f053604e48"
 },
 "nbformat": 3,
 "nbformat_minor": 0,
 "worksheets": [
  {
   "cells": [
    {
     "cell_type": "code",
     "collapsed": false,
     "input": [
      "import pandas as pd\n",
      "import numpy as np\n",
      "from scipy import ndimage\n",
      "from sklearn import svm, cross_validation\n",
      "from sklearn import tree, preprocessing\n",
      "from sklearn import decomposition as decomp\n",
      "from sklearn import linear_model\n",
      "from sklearn import metrics\n",
      "np.set_printoptions(suppress=True, precision=3)\n",
      "from util import *\n",
      "\n",
      "def classify(data, y, n_folds=50, C=1.0, gamma=1.0, penalty='l2', method='svc'):\n",
      "    from sklearn.linear_model import LogisticRegression\n",
      "    from sklearn.svm import SVC\n",
      "    from sklearn.metrics import roc_auc_score\n",
      "\n",
      "    if method == 'logit':\n",
      "        learner = LogisticRegression(penalty=penalty, C=C, fit_intercept=True)\n",
      "    elif method == 'svc':\n",
      "        learner = SVC(kernel='rbf', gamma=gamma, C=C)\n",
      "    else:\n",
      "        raise ValueError(\"Only logit and svc available\")\n",
      "        \n",
      "    all_test_idx = []\n",
      "    all_pred_y = []\n",
      "    aucs = []\n",
      "    for train_idx, test_idx in cross_validation.KFold(len(data), shuffle=False, n_folds=n_folds):\n",
      "        # Fit the learner\n",
      "        learner.fit(data[train_idx], y[train_idx])\n",
      "        # Make predictions\n",
      "        pred_y = learner.predict(data[test_idx]).ravel()\n",
      "        # Get decision scores\n",
      "        y_scores = learner.decision_function(data[test_idx]).ravel()\n",
      "        # Calculate RMSE\n",
      "        this_auc = roc_auc_score(y[test_idx], y_scores)\n",
      "        \n",
      "        # Save reuslts out\n",
      "        aucs.append(this_auc)\n",
      "        all_test_idx.append(test_idx)\n",
      "        all_pred_y.append(pred_y)\n",
      "        \n",
      "    all_true_y = [y[test_idx].ravel() for test_idx in all_test_idx]\n",
      "    print \"AUC: %2.2f\" % np.mean(aucs)\n",
      "    return all_pred_y, all_true_y, aucs"
     ],
     "language": "python",
     "metadata": {},
     "outputs": [],
     "prompt_number": 44
    },
    {
     "cell_type": "markdown",
     "metadata": {},
     "source": [
      "### Load the data"
     ]
    },
    {
     "cell_type": "code",
     "collapsed": false,
     "input": [
      "# Load it up\n",
      "sdf = pd.load(\"/Users/Alex/Code/blurd/data.pandas\")\n",
      "sdf = sdf[sdf.good==True]"
     ],
     "language": "python",
     "metadata": {},
     "outputs": [],
     "prompt_number": 33
    },
    {
     "cell_type": "code",
     "collapsed": false,
     "input": [
      "n_folds = 5"
     ],
     "language": "python",
     "metadata": {},
     "outputs": [],
     "prompt_number": 71
    },
    {
     "cell_type": "code",
     "collapsed": false,
     "input": [
      "import whetlab\n",
      "# Define parameters to optimize\n",
      "n_runs = 100\n",
      "parameters = dict(nphase=dict(type='integer', min=2, max=3),\n",
      "                    centrifugation_time = dict(type='integer', min=1, max=5),\n",
      "                    n_dimensions=dict(type='int', min=2, max=184),\n",
      "                    start=dict(type='float', min=0, max=119),\n",
      "                    stop=dict(type='float',min=120, max=184),\n",
      "                    reduc_method=dict(type='int', min=0,max=3),\n",
      "                    C=dict(type='float', min=1e-2, max=1e2),\n",
      "                    penalty=dict(type='enum', options=['l2', 'l1']))\n",
      "\n",
      "name = 'Classifying blood type'\n",
      "description = 'Classifying blood type from IDA blood test (anemic or not)'\n",
      "outcome = dict(name=\"AUC\")\n",
      "scientist = whetlab.Experiment(name=name, access_token=None, \n",
      "                               description=description,\n",
      "                               parameters=parameters, \n",
      "                               outcome=outcome)\n",
      "\n",
      "for i in range(n_runs):\n",
      "    pendings = scientist.pending()\n",
      "    if len(pendings) > 0:\n",
      "        job = pendings[0]\n",
      "    else:\n",
      "        job = scientist.suggest()\n",
      "    print job\n",
      "\n",
      "    isdf = sdf[(sdf.run_time == 2*int(job['centrifugation_time'])) & (sdf.ida == \"IDA%d\"%job['nphase'])]\n",
      "    data = np.vstack(isdf.data.values)\n",
      "\n",
      "    # Gather the output variables\n",
      "    y = isdf['blood_type'].values.copy()\n",
      "    y[y=='tt'] = 1\n",
      "    y[y=='ida'] = 1\n",
      "    y[y=='normal'] = 0\n",
      "    y = y.astype('int32')\n",
      "\n",
      "    # Crop and reduce the data\n",
      "    cropped_data = data[:,job['start']:job['stop']]\n",
      "\n",
      "    reduc_method = ['raw','pca','nmf','kernelpca'][job['reduc_method']]\n",
      "    if reduc_method == \"raw\":\n",
      "        x = ndimage.zoom(cropped_data,(1,job['n_dimensions']/cropped_data.shape[1]))\n",
      "    elif reduc_method == \"nmf\":\n",
      "        x = decomp.NMF(job['n_dimensions']).fit_transform(cropped_data)\n",
      "    elif reduc_method == \"pca\":\n",
      "        x = decomp.PCA(job['n_dimensions']).fit_transform(cropped_data)\n",
      "    elif reduc_method == \"kernelpca\":\n",
      "        x = decomp.KernelPCA(job['n_dimensions'],'rbf',gamma=1.0).fit_transform(cropped_data)\n",
      "\n",
      "    try:\n",
      "        all_pred_y, all_true_y, all_auc = classify(x, y, n_folds=n_folds, C=job['C'], penalty=job['penalty'], gamma=np.nan, epsilon=np.nan, method='logit')\n",
      "        auc = np.mean(all_auc)\n",
      "    except ValueError:\n",
      "        print 'crap'\n",
      "        auc = np.nan\n",
      "\n",
      "    print auc\n",
      "\n",
      "    # Tell Whetlab about the result\n",
      "    scientist.update(job, auc)"
     ],
     "language": "python",
     "metadata": {},
     "outputs": [
      {
       "output_type": "stream",
       "stream": "stdout",
       "text": [
        "{u'C': 50.004999999999995, u'reduc_method': 1, u'centrifugation_time': 3, u'stop': 152.0, u'penalty': 'l2', u'start': 59.5, u'n_dimensions': 93, u'nphase': 2}\n",
        "AUC: 0.96"
       ]
      },
      {
       "output_type": "stream",
       "stream": "stdout",
       "text": [
        "\n",
        "0.960390650456\n",
        "{u'C': 0.01, u'reduc_method': 0, u'centrifugation_time': 1, u'stop': 184.0, u'penalty': 'l1', u'start': 119.0, u'n_dimensions': 184, u'nphase': 3}"
       ]
      },
      {
       "output_type": "stream",
       "stream": "stderr",
       "text": [
        "-c:41: DeprecationWarning: using a non-integer number instead of an integer will result in an error in the future\n",
        "-c:41: DeprecationWarning: using a non-integer number instead of an integer will result in an error in the future\n",
        "-c:41: DeprecationWarning: using a non-integer number instead of an integer will result in an error in the future\n"
       ]
      },
      {
       "output_type": "stream",
       "stream": "stdout",
       "text": [
        "\n",
        "AUC: 0.50"
       ]
      },
      {
       "output_type": "stream",
       "stream": "stdout",
       "text": [
        "\n",
        "0.5\n",
        "{u'C': 100.0, u'reduc_method': 3, u'centrifugation_time': 3, u'stop': 148.72927069785587, u'penalty': 'l2', u'start': 56.52836457296053, u'n_dimensions': 62, u'nphase': 2}"
       ]
      },
      {
       "output_type": "stream",
       "stream": "stderr",
       "text": [
        "-c:41: DeprecationWarning: using a non-integer number instead of an integer will result in an error in the future\n",
        "-c:41: DeprecationWarning: using a non-integer number instead of an integer will result in an error in the future\n"
       ]
      },
      {
       "output_type": "stream",
       "stream": "stdout",
       "text": [
        "\n",
        "AUC: 0.95"
       ]
      },
      {
       "output_type": "stream",
       "stream": "stdout",
       "text": [
        "\n",
        "0.950956447967\n",
        "{u'C': 47.96049666184562, u'reduc_method': 0, u'centrifugation_time': 5, u'stop': 120.0, u'penalty': 'l2', u'start': 0.0, u'n_dimensions': 106, u'nphase': 2}"
       ]
      },
      {
       "output_type": "stream",
       "stream": "stderr",
       "text": [
        "-c:41: DeprecationWarning: using a non-integer number instead of an integer will result in an error in the future\n",
        "-c:41: DeprecationWarning: using a non-integer number instead of an integer will result in an error in the future\n"
       ]
      },
      {
       "output_type": "stream",
       "stream": "stdout",
       "text": [
        "\n",
        "AUC: 0.50"
       ]
      },
      {
       "output_type": "stream",
       "stream": "stdout",
       "text": [
        "\n",
        "0.5\n",
        "{u'C': 55.829517026504064, u'reduc_method': 2, u'centrifugation_time': 2, u'stop': 148.85886400515864, u'penalty': 'l1', u'start': 9.05050746330012, u'n_dimensions': 181, u'nphase': 2}"
       ]
      },
      {
       "output_type": "stream",
       "stream": "stderr",
       "text": [
        "-c:41: DeprecationWarning: using a non-integer number instead of an integer will result in an error in the future\n",
        "-c:41: DeprecationWarning: using a non-integer number instead of an integer will result in an error in the future\n"
       ]
      },
      {
       "output_type": "stream",
       "stream": "stdout",
       "text": [
        "\n",
        "AUC: 0.93"
       ]
      },
      {
       "output_type": "stream",
       "stream": "stdout",
       "text": [
        "\n",
        "0.927688286406\n",
        "{u'C': 55.50937309338553, u'reduc_method': 0, u'centrifugation_time': 2, u'stop': 153.41069316758953, u'penalty': 'l2', u'start': 9.044293582631447, u'n_dimensions': 184, u'nphase': 3}"
       ]
      },
      {
       "output_type": "stream",
       "stream": "stderr",
       "text": [
        "-c:41: DeprecationWarning: using a non-integer number instead of an integer will result in an error in the future\n",
        "-c:41: DeprecationWarning: using a non-integer number instead of an integer will result in an error in the future\n"
       ]
      },
      {
       "output_type": "stream",
       "stream": "stdout",
       "text": [
        "\n",
        "AUC: 0.97"
       ]
      },
      {
       "output_type": "stream",
       "stream": "stdout",
       "text": [
        "\n",
        "0.970971577787\n",
        "{u'C': 67.99454467838271, u'reduc_method': 3, u'centrifugation_time': 3, u'stop': 171.39574760492133, u'penalty': 'l2', u'start': 45.55485025230094, u'n_dimensions': 2, u'nphase': 2}"
       ]
      },
      {
       "output_type": "stream",
       "stream": "stderr",
       "text": [
        "-c:41: DeprecationWarning: using a non-integer number instead of an integer will result in an error in the future\n",
        "-c:41: DeprecationWarning: using a non-integer number instead of an integer will result in an error in the future\n"
       ]
      },
      {
       "output_type": "stream",
       "stream": "stdout",
       "text": [
        "\n",
        "AUC: 0.98"
       ]
      },
      {
       "output_type": "stream",
       "stream": "stdout",
       "text": [
        "\n",
        "0.982731700031\n",
        "{u'C': 99.99977989840689, u'reduc_method': 3, u'centrifugation_time': 1, u'stop': 159.33326931598816, u'penalty': 'l2', u'start': 0.0, u'n_dimensions': 2, u'nphase': 3}"
       ]
      },
      {
       "output_type": "stream",
       "stream": "stderr",
       "text": [
        "-c:41: DeprecationWarning: using a non-integer number instead of an integer will result in an error in the future\n",
        "-c:41: DeprecationWarning: using a non-integer number instead of an integer will result in an error in the future\n"
       ]
      },
      {
       "output_type": "stream",
       "stream": "stdout",
       "text": [
        "\n",
        "AUC: 0.96"
       ]
      },
      {
       "output_type": "stream",
       "stream": "stdout",
       "text": [
        "\n",
        "0.962125565611\n",
        "{u'C': 71.70160451783867, u'reduc_method': 0, u'centrifugation_time': 3, u'stop': 161.79840587498808, u'penalty': 'l2', u'start': 0.0, u'n_dimensions': 182, u'nphase': 2}"
       ]
      },
      {
       "output_type": "stream",
       "stream": "stderr",
       "text": [
        "-c:41: DeprecationWarning: using a non-integer number instead of an integer will result in an error in the future\n",
        "-c:41: DeprecationWarning: using a non-integer number instead of an integer will result in an error in the future\n"
       ]
      },
      {
       "output_type": "stream",
       "stream": "stdout",
       "text": [
        "\n",
        "AUC: 0.96"
       ]
      },
      {
       "output_type": "stream",
       "stream": "stdout",
       "text": [
        "\n",
        "0.956046586024\n",
        "{u'C': 84.11444227202591, u'reduc_method': 3, u'centrifugation_time': 1, u'stop': 160.87710926369516, u'penalty': 'l2', u'start': 92.33580652666404, u'n_dimensions': 184, u'nphase': 2}"
       ]
      },
      {
       "output_type": "stream",
       "stream": "stderr",
       "text": [
        "-c:41: DeprecationWarning: using a non-integer number instead of an integer will result in an error in the future\n",
        "-c:41: DeprecationWarning: using a non-integer number instead of an integer will result in an error in the future\n"
       ]
      },
      {
       "output_type": "stream",
       "stream": "stdout",
       "text": [
        "\n",
        "AUC: 0.92"
       ]
      },
      {
       "output_type": "stream",
       "stream": "stdout",
       "text": [
        "\n",
        "0.92462300379\n",
        "{u'C': 28.110617796192475, u'reduc_method': 0, u'centrifugation_time': 3, u'stop': 184.0, u'penalty': 'l2', u'start': 49.40740864867509, u'n_dimensions': 2, u'nphase': 3}"
       ]
      },
      {
       "output_type": "stream",
       "stream": "stderr",
       "text": [
        "-c:41: DeprecationWarning: using a non-integer number instead of an integer will result in an error in the future\n",
        "-c:41: DeprecationWarning: using a non-integer number instead of an integer will result in an error in the future\n"
       ]
      },
      {
       "output_type": "stream",
       "stream": "stdout",
       "text": [
        "\n",
        "AUC: 0.50"
       ]
      },
      {
       "output_type": "stream",
       "stream": "stdout",
       "text": [
        "\n",
        "0.5\n",
        "{u'C': 63.83812385358675, u'reduc_method': 0, u'centrifugation_time': 2, u'stop': 172.22759200272853, u'penalty': 'l1', u'start': 118.34650940931593, u'n_dimensions': 98, u'nphase': 3}"
       ]
      },
      {
       "output_type": "stream",
       "stream": "stderr",
       "text": [
        "-c:41: DeprecationWarning: using a non-integer number instead of an integer will result in an error in the future\n",
        "-c:41: DeprecationWarning: using a non-integer number instead of an integer will result in an error in the future\n"
       ]
      },
      {
       "output_type": "stream",
       "stream": "stdout",
       "text": [
        "\n",
        "AUC: 0.47"
       ]
      },
      {
       "output_type": "stream",
       "stream": "stdout",
       "text": [
        "\n",
        "0.465610648286\n",
        "{u'C': 50.59188521838907, u'reduc_method': 3, u'centrifugation_time': 1, u'stop': 156.672015672137, u'penalty': 'l2', u'start': 3.401116859868414, u'n_dimensions': 2, u'nphase': 2}"
       ]
      },
      {
       "output_type": "stream",
       "stream": "stderr",
       "text": [
        "-c:41: DeprecationWarning: using a non-integer number instead of an integer will result in an error in the future\n",
        "-c:41: DeprecationWarning: using a non-integer number instead of an integer will result in an error in the future\n"
       ]
      },
      {
       "output_type": "stream",
       "stream": "stdout",
       "text": [
        "\n",
        "AUC: 0.95"
       ]
      },
      {
       "output_type": "stream",
       "stream": "stdout",
       "text": [
        "\n",
        "0.954894177811\n",
        "{u'C': 81.47915444654454, u'reduc_method': 0, u'centrifugation_time': 1, u'stop': 154.05964181360434, u'penalty': 'l2', u'start': 0.0, u'n_dimensions': 2, u'nphase': 2}"
       ]
      },
      {
       "output_type": "stream",
       "stream": "stderr",
       "text": [
        "-c:41: DeprecationWarning: using a non-integer number instead of an integer will result in an error in the future\n",
        "-c:41: DeprecationWarning: using a non-integer number instead of an integer will result in an error in the future\n"
       ]
      },
      {
       "output_type": "stream",
       "stream": "stdout",
       "text": [
        "\n",
        "AUC: 0.50"
       ]
      },
      {
       "output_type": "stream",
       "stream": "stdout",
       "text": [
        "\n",
        "0.5\n",
        "{u'C': 100.0, u'reduc_method': 1, u'centrifugation_time': 2, u'stop': 132.2520204931624, u'penalty': 'l2', u'start': 119.0, u'n_dimensions': 184, u'nphase': 2}"
       ]
      },
      {
       "output_type": "stream",
       "stream": "stderr",
       "text": [
        "-c:41: DeprecationWarning: using a non-integer number instead of an integer will result in an error in the future\n",
        "-c:41: DeprecationWarning: using a non-integer number instead of an integer will result in an error in the future\n"
       ]
      },
      {
       "output_type": "stream",
       "stream": "stdout",
       "text": [
        "\n",
        "AUC: 0.69"
       ]
      },
      {
       "output_type": "stream",
       "stream": "stdout",
       "text": [
        "\n",
        "0.690879071694\n",
        "{u'C': 0.01, u'reduc_method': 3, u'centrifugation_time': 5, u'stop': 184.0, u'penalty': 'l1', u'start': 119.0, u'n_dimensions': 2, u'nphase': 3}"
       ]
      },
      {
       "output_type": "stream",
       "stream": "stderr",
       "text": [
        "-c:41: DeprecationWarning: using a non-integer number instead of an integer will result in an error in the future\n",
        "-c:41: DeprecationWarning: using a non-integer number instead of an integer will result in an error in the future\n"
       ]
      },
      {
       "output_type": "stream",
       "stream": "stdout",
       "text": [
        "\n",
        "AUC: 0.50"
       ]
      },
      {
       "output_type": "stream",
       "stream": "stdout",
       "text": [
        "\n",
        "0.5\n",
        "{u'C': 43.20551201737087, u'reduc_method': 2, u'centrifugation_time': 3, u'stop': 184.0, u'penalty': 'l2', u'start': 0.0, u'n_dimensions': 143, u'nphase': 3}"
       ]
      },
      {
       "output_type": "stream",
       "stream": "stderr",
       "text": [
        "-c:41: DeprecationWarning: using a non-integer number instead of an integer will result in an error in the future\n",
        "-c:41: DeprecationWarning: using a non-integer number instead of an integer will result in an error in the future\n"
       ]
      },
      {
       "output_type": "stream",
       "stream": "stderr",
       "text": [
        "-c:41: DeprecationWarning: using a non-integer number instead of an integer will result in an error in the future\n",
        "/Users/Alex/anaconda/lib/python2.7/site-packages/sklearn/decomposition/nmf.py:539: UserWarning: Iteration limit reached during fit\n",
        "  warnings.warn(\"Iteration limit reached during fit\")\n"
       ]
      },
      {
       "output_type": "stream",
       "stream": "stdout",
       "text": [
        "\n",
        "AUC: 0.89"
       ]
      },
      {
       "output_type": "stream",
       "stream": "stdout",
       "text": [
        "\n",
        "0.892930869256\n",
        "{u'C': 0.01, u'reduc_method': 2, u'centrifugation_time': 5, u'stop': 169.599661304236, u'penalty': 'l2', u'start': 0.0, u'n_dimensions': 43, u'nphase': 3}"
       ]
      },
      {
       "output_type": "stream",
       "stream": "stdout",
       "text": [
        "\n",
        "AUC: 0.79"
       ]
      },
      {
       "output_type": "stream",
       "stream": "stdout",
       "text": [
        "\n",
        "0.78581029778\n",
        "{u'C': 100.0, u'reduc_method': 0, u'centrifugation_time': 1, u'stop': 145.48291120664388, u'penalty': 'l2', u'start': 0.0, u'n_dimensions': 184, u'nphase': 2}"
       ]
      },
      {
       "output_type": "stream",
       "stream": "stderr",
       "text": [
        "-c:41: DeprecationWarning: using a non-integer number instead of an integer will result in an error in the future\n",
        "-c:41: DeprecationWarning: using a non-integer number instead of an integer will result in an error in the future\n",
        "-c:41: DeprecationWarning: using a non-integer number instead of an integer will result in an error in the future\n"
       ]
      },
      {
       "output_type": "stream",
       "stream": "stdout",
       "text": [
        "\n",
        "AUC: 0.91"
       ]
      },
      {
       "output_type": "stream",
       "stream": "stdout",
       "text": [
        "\n",
        "0.907172996756\n",
        "{u'C': 28.714369385551898, u'reduc_method': 3, u'centrifugation_time': 1, u'stop': 120.0, u'penalty': 'l2', u'start': 0.0, u'n_dimensions': 27, u'nphase': 2}"
       ]
      },
      {
       "output_type": "stream",
       "stream": "stderr",
       "text": [
        "-c:41: DeprecationWarning: using a non-integer number instead of an integer will result in an error in the future\n",
        "-c:41: DeprecationWarning: using a non-integer number instead of an integer will result in an error in the future\n"
       ]
      },
      {
       "output_type": "stream",
       "stream": "stdout",
       "text": [
        "\n",
        "AUC: 0.95"
       ]
      },
      {
       "output_type": "stream",
       "stream": "stdout",
       "text": [
        "\n",
        "0.951015778099\n",
        "{u'C': 100.0, u'reduc_method': 3, u'centrifugation_time': 1, u'stop': 120.0, u'penalty': 'l2', u'start': 53.42976930716214, u'n_dimensions': 2, u'nphase': 2}"
       ]
      },
      {
       "output_type": "stream",
       "stream": "stderr",
       "text": [
        "-c:41: DeprecationWarning: using a non-integer number instead of an integer will result in an error in the future\n",
        "-c:41: DeprecationWarning: using a non-integer number instead of an integer will result in an error in the future\n"
       ]
      },
      {
       "output_type": "stream",
       "stream": "stdout",
       "text": [
        "\n",
        "AUC: 0.95"
       ]
      },
      {
       "output_type": "stream",
       "stream": "stdout",
       "text": [
        "\n",
        "0.95295309677\n",
        "{u'C': 100.0, u'reduc_method': 3, u'centrifugation_time': 3, u'stop': 120.0, u'penalty': 'l2', u'start': 26.458045937323767, u'n_dimensions': 90, u'nphase': 3}"
       ]
      },
      {
       "output_type": "stream",
       "stream": "stderr",
       "text": [
        "-c:41: DeprecationWarning: using a non-integer number instead of an integer will result in an error in the future\n",
        "-c:41: DeprecationWarning: using a non-integer number instead of an integer will result in an error in the future\n"
       ]
      },
      {
       "output_type": "stream",
       "stream": "stdout",
       "text": [
        "\n",
        "AUC: 0.95"
       ]
      },
      {
       "output_type": "stream",
       "stream": "stdout",
       "text": [
        "\n",
        "0.951501804635\n",
        "{u'C': 0.01, u'reduc_method': 3, u'centrifugation_time': 1, u'stop': 168.93774952836844, u'penalty': 'l2', u'start': 63.89886688505598, u'n_dimensions': 171, u'nphase': 3}"
       ]
      },
      {
       "output_type": "stream",
       "stream": "stderr",
       "text": [
        "-c:41: DeprecationWarning: using a non-integer number instead of an integer will result in an error in the future\n",
        "-c:41: DeprecationWarning: using a non-integer number instead of an integer will result in an error in the future\n"
       ]
      },
      {
       "output_type": "stream",
       "stream": "stdout",
       "text": [
        "\n",
        "AUC: 0.97"
       ]
      },
      {
       "output_type": "stream",
       "stream": "stdout",
       "text": [
        "\n",
        "0.967402714932\n",
        "{u'C': 29.444979662792086, u'reduc_method': 3, u'centrifugation_time': 1, u'stop': 120.0, u'penalty': 'l2', u'start': 34.966234752372095, u'n_dimensions': 150, u'nphase': 2}"
       ]
      },
      {
       "output_type": "stream",
       "stream": "stderr",
       "text": [
        "-c:41: DeprecationWarning: using a non-integer number instead of an integer will result in an error in the future\n",
        "-c:41: DeprecationWarning: using a non-integer number instead of an integer will result in an error in the future\n"
       ]
      },
      {
       "output_type": "stream",
       "stream": "stdout",
       "text": [
        "\n",
        "AUC: 0.93"
       ]
      },
      {
       "output_type": "stream",
       "stream": "stdout",
       "text": [
        "\n",
        "0.92902311444\n",
        "{u'C': 100.0, u'reduc_method': 2, u'centrifugation_time': 1, u'stop': 183.80154063789217, u'penalty': 'l1', u'start': 72.06218854931043, u'n_dimensions': 106, u'nphase': 2}"
       ]
      },
      {
       "output_type": "stream",
       "stream": "stderr",
       "text": [
        "-c:41: DeprecationWarning: using a non-integer number instead of an integer will result in an error in the future\n",
        "-c:41: DeprecationWarning: using a non-integer number instead of an integer will result in an error in the future\n"
       ]
      },
      {
       "output_type": "stream",
       "stream": "stderr",
       "text": [
        "-c:41: DeprecationWarning: using a non-integer number instead of an integer will result in an error in the future\n",
        "/Users/Alex/anaconda/lib/python2.7/site-packages/sklearn/decomposition/nmf.py:254: UserWarning: Iteration limit reached in nls subproblem.\n",
        "  warnings.warn(\"Iteration limit reached in nls subproblem.\")\n"
       ]
      },
      {
       "output_type": "stream",
       "stream": "stdout",
       "text": [
        "\n",
        "AUC: 0.89"
       ]
      },
      {
       "output_type": "stream",
       "stream": "stdout",
       "text": [
        "\n",
        "0.893293649544\n",
        "{u'C': 95.4514210753912, u'reduc_method': 0, u'centrifugation_time': 5, u'stop': 120.0, u'penalty': 'l2', u'start': 0.0, u'n_dimensions': 184, u'nphase': 3}"
       ]
      },
      {
       "output_type": "stream",
       "stream": "stdout",
       "text": [
        "\n",
        "AUC: 0.91"
       ]
      },
      {
       "output_type": "stream",
       "stream": "stdout",
       "text": [
        "\n",
        "0.910291280111\n",
        "{u'C': 0.01, u'reduc_method': 3, u'centrifugation_time': 1, u'stop': 149.2619849973118, u'penalty': 'l2', u'start': 81.08632806443889, u'n_dimensions': 73, u'nphase': 3}"
       ]
      },
      {
       "output_type": "stream",
       "stream": "stderr",
       "text": [
        "-c:41: DeprecationWarning: using a non-integer number instead of an integer will result in an error in the future\n",
        "-c:41: DeprecationWarning: using a non-integer number instead of an integer will result in an error in the future\n",
        "-c:41: DeprecationWarning: using a non-integer number instead of an integer will result in an error in the future\n"
       ]
      },
      {
       "output_type": "stream",
       "stream": "stdout",
       "text": [
        "\n",
        "AUC: 0.79"
       ]
      },
      {
       "output_type": "stream",
       "stream": "stdout",
       "text": [
        "\n",
        "0.789427755761\n",
        "{u'C': 0.01, u'reduc_method': 1, u'centrifugation_time': 1, u'stop': 173.72364856199857, u'penalty': 'l2', u'start': 52.99460371679044, u'n_dimensions': 184, u'nphase': 2}"
       ]
      },
      {
       "output_type": "stream",
       "stream": "stderr",
       "text": [
        "-c:41: DeprecationWarning: using a non-integer number instead of an integer will result in an error in the future\n",
        "-c:41: DeprecationWarning: using a non-integer number instead of an integer will result in an error in the future\n"
       ]
      },
      {
       "output_type": "stream",
       "stream": "stdout",
       "text": [
        "\n",
        "AUC: 0.96"
       ]
      },
      {
       "output_type": "stream",
       "stream": "stdout",
       "text": [
        "\n",
        "0.962940752591\n",
        "{u'C': 0.01, u'reduc_method': 0, u'centrifugation_time': 5, u'stop': 123.16194223421714, u'penalty': 'l2', u'start': 0.0, u'n_dimensions': 184, u'nphase': 2}"
       ]
      },
      {
       "output_type": "stream",
       "stream": "stderr",
       "text": [
        "-c:41: DeprecationWarning: using a non-integer number instead of an integer will result in an error in the future\n",
        "-c:41: DeprecationWarning: using a non-integer number instead of an integer will result in an error in the future\n"
       ]
      },
      {
       "output_type": "stream",
       "stream": "stdout",
       "text": [
        "\n",
        "AUC: 0.94"
       ]
      },
      {
       "output_type": "stream",
       "stream": "stdout",
       "text": [
        "\n",
        "0.938897296718\n",
        "{u'C': 97.71830752147154, u'reduc_method': 2, u'centrifugation_time': 1, u'stop': 172.07829125048193, u'penalty': 'l2', u'start': 49.826604802820974, u'n_dimensions': 184, u'nphase': 3}"
       ]
      },
      {
       "output_type": "stream",
       "stream": "stderr",
       "text": [
        "-c:41: DeprecationWarning: using a non-integer number instead of an integer will result in an error in the future\n",
        "-c:41: DeprecationWarning: using a non-integer number instead of an integer will result in an error in the future\n"
       ]
      },
      {
       "output_type": "stream",
       "stream": "stdout",
       "text": [
        "\n",
        "AUC: 0.93"
       ]
      },
      {
       "output_type": "stream",
       "stream": "stdout",
       "text": [
        "\n",
        "0.926280579034\n",
        "{u'C': 100.0, u'reduc_method': 1, u'centrifugation_time': 1, u'stop': 120.0, u'penalty': 'l1', u'start': 0.0, u'n_dimensions': 2, u'nphase': 2}"
       ]
      },
      {
       "output_type": "stream",
       "stream": "stderr",
       "text": [
        "-c:41: DeprecationWarning: using a non-integer number instead of an integer will result in an error in the future\n",
        "-c:41: DeprecationWarning: using a non-integer number instead of an integer will result in an error in the future\n"
       ]
      },
      {
       "output_type": "stream",
       "stream": "stdout",
       "text": [
        "\n",
        "AUC: 0.93"
       ]
      },
      {
       "output_type": "stream",
       "stream": "stdout",
       "text": [
        "\n",
        "0.931640260807\n",
        "{u'C': 0.01, u'reduc_method': 3, u'centrifugation_time': 1, u'stop': 184.0, u'penalty': 'l2', u'start': 48.34874194652938, u'n_dimensions': 184, u'nphase': 2}"
       ]
      },
      {
       "output_type": "stream",
       "stream": "stderr",
       "text": [
        "-c:41: DeprecationWarning: using a non-integer number instead of an integer will result in an error in the future\n",
        "-c:41: DeprecationWarning: using a non-integer number instead of an integer will result in an error in the future\n"
       ]
      },
      {
       "output_type": "stream",
       "stream": "stdout",
       "text": [
        "\n",
        "AUC: 0.95"
       ]
      },
      {
       "output_type": "stream",
       "stream": "stdout",
       "text": [
        "\n",
        "0.947117742951\n",
        "{u'C': 0.01, u'reduc_method': 3, u'centrifugation_time': 1, u'stop': 121.18589906855367, u'penalty': 'l1', u'start': 0.0, u'n_dimensions': 184, u'nphase': 3}"
       ]
      },
      {
       "output_type": "stream",
       "stream": "stderr",
       "text": [
        "-c:41: DeprecationWarning: using a non-integer number instead of an integer will result in an error in the future\n",
        "-c:41: DeprecationWarning: using a non-integer number instead of an integer will result in an error in the future\n"
       ]
      },
      {
       "output_type": "stream",
       "stream": "stdout",
       "text": [
        "\n",
        "AUC: 0.50"
       ]
      },
      {
       "output_type": "stream",
       "stream": "stdout",
       "text": [
        "\n",
        "0.5\n",
        "{u'C': 77.5016642194324, u'reduc_method': 2, u'centrifugation_time': 1, u'stop': 120.0, u'penalty': 'l2', u'start': 0.0, u'n_dimensions': 46, u'nphase': 2}"
       ]
      },
      {
       "output_type": "stream",
       "stream": "stderr",
       "text": [
        "-c:41: DeprecationWarning: using a non-integer number instead of an integer will result in an error in the future\n",
        "-c:41: DeprecationWarning: using a non-integer number instead of an integer will result in an error in the future\n"
       ]
      },
      {
       "output_type": "stream",
       "stream": "stdout",
       "text": [
        "\n",
        "AUC: 0.89"
       ]
      },
      {
       "output_type": "stream",
       "stream": "stdout",
       "text": [
        "\n",
        "0.894746497636\n",
        "{u'C': 100.0, u'reduc_method': 3, u'centrifugation_time': 1, u'stop': 184.0, u'penalty': 'l2', u'start': 19.986623742353057, u'n_dimensions': 2, u'nphase': 3}"
       ]
      },
      {
       "output_type": "stream",
       "stream": "stderr",
       "text": [
        "-c:41: DeprecationWarning: using a non-integer number instead of an integer will result in an error in the future\n",
        "-c:41: DeprecationWarning: using a non-integer number instead of an integer will result in an error in the future\n"
       ]
      },
      {
       "output_type": "stream",
       "stream": "stdout",
       "text": [
        "\n",
        "AUC: 0.99"
       ]
      },
      {
       "output_type": "stream",
       "stream": "stdout",
       "text": [
        "\n",
        "0.990935313773\n",
        "{u'C': 5.016285306924374, u'reduc_method': 3, u'centrifugation_time': 1, u'stop': 171.0731133501017, u'penalty': 'l2', u'start': 13.27741949383488, u'n_dimensions': 2, u'nphase': 3}"
       ]
      },
      {
       "output_type": "stream",
       "stream": "stderr",
       "text": [
        "-c:41: DeprecationWarning: using a non-integer number instead of an integer will result in an error in the future\n",
        "-c:41: DeprecationWarning: using a non-integer number instead of an integer will result in an error in the future\n"
       ]
      },
      {
       "output_type": "stream",
       "stream": "stdout",
       "text": [
        "\n",
        "AUC: 0.97"
       ]
      },
      {
       "output_type": "stream",
       "stream": "stdout",
       "text": [
        "\n",
        "0.969566742081\n",
        "{u'C': 100.0, u'reduc_method': 3, u'centrifugation_time': 1, u'stop': 181.883729053113, u'penalty': 'l2', u'start': 16.033152899474636, u'n_dimensions': 167, u'nphase': 2}"
       ]
      },
      {
       "output_type": "stream",
       "stream": "stderr",
       "text": [
        "-c:41: DeprecationWarning: using a non-integer number instead of an integer will result in an error in the future\n",
        "-c:41: DeprecationWarning: using a non-integer number instead of an integer will result in an error in the future\n"
       ]
      },
      {
       "output_type": "stream",
       "stream": "stdout",
       "text": [
        "\n",
        "AUC: 0.96"
       ]
      },
      {
       "output_type": "stream",
       "stream": "stdout",
       "text": [
        "\n",
        "0.961715459632\n",
        "{u'C': 4.925180074087872, u'reduc_method': 2, u'centrifugation_time': 1, u'stop': 184.0, u'penalty': 'l2', u'start': 47.4074319884234, u'n_dimensions': 184, u'nphase': 2}"
       ]
      },
      {
       "output_type": "stream",
       "stream": "stderr",
       "text": [
        "-c:41: DeprecationWarning: using a non-integer number instead of an integer will result in an error in the future\n",
        "-c:41: DeprecationWarning: using a non-integer number instead of an integer will result in an error in the future\n"
       ]
      },
      {
       "output_type": "stream",
       "stream": "stdout",
       "text": [
        "\n",
        "AUC: 0.93"
       ]
      },
      {
       "output_type": "stream",
       "stream": "stdout",
       "text": [
        "\n",
        "0.927999067851\n",
        "{u'C': 0.0493405477337532, u'reduc_method': 1, u'centrifugation_time': 1, u'stop': 184.0, u'penalty': 'l2', u'start': 84.87819192478823, u'n_dimensions': 184, u'nphase': 2}"
       ]
      },
      {
       "output_type": "stream",
       "stream": "stderr",
       "text": [
        "-c:41: DeprecationWarning: using a non-integer number instead of an integer will result in an error in the future\n",
        "-c:41: DeprecationWarning: using a non-integer number instead of an integer will result in an error in the future\n"
       ]
      },
      {
       "output_type": "stream",
       "stream": "stdout",
       "text": [
        "\n",
        "AUC: 0.95"
       ]
      },
      {
       "output_type": "stream",
       "stream": "stdout",
       "text": [
        "\n",
        "0.945680472831\n",
        "{u'C': 79.65007453238749, u'reduc_method': 3, u'centrifugation_time': 5, u'stop': 184.0, u'penalty': 'l2', u'start': 18.232605400944095, u'n_dimensions': 2, u'nphase': 2}"
       ]
      },
      {
       "output_type": "stream",
       "stream": "stderr",
       "text": [
        "-c:41: DeprecationWarning: using a non-integer number instead of an integer will result in an error in the future\n",
        "-c:41: DeprecationWarning: using a non-integer number instead of an integer will result in an error in the future\n"
       ]
      },
      {
       "output_type": "stream",
       "stream": "stdout",
       "text": [
        "\n",
        "AUC: 0.97"
       ]
      },
      {
       "output_type": "stream",
       "stream": "stdout",
       "text": [
        "\n",
        "0.971706760216\n",
        "{u'C': 0.01, u'reduc_method': 1, u'centrifugation_time': 1, u'stop': 184.0, u'penalty': 'l1', u'start': 50.085678754390074, u'n_dimensions': 163, u'nphase': 3}"
       ]
      },
      {
       "output_type": "stream",
       "stream": "stderr",
       "text": [
        "-c:41: DeprecationWarning: using a non-integer number instead of an integer will result in an error in the future\n",
        "-c:41: DeprecationWarning: using a non-integer number instead of an integer will result in an error in the future\n"
       ]
      },
      {
       "output_type": "stream",
       "stream": "stdout",
       "text": [
        "\n",
        "AUC: 0.50"
       ]
      },
      {
       "output_type": "stream",
       "stream": "stdout",
       "text": [
        "\n",
        "0.5\n",
        "{u'C': 74.95708488640196, u'reduc_method': 3, u'centrifugation_time': 1, u'stop': 184.0, u'penalty': 'l2', u'start': 0.0, u'n_dimensions': 184, u'nphase': 2}"
       ]
      },
      {
       "output_type": "stream",
       "stream": "stderr",
       "text": [
        "-c:41: DeprecationWarning: using a non-integer number instead of an integer will result in an error in the future\n",
        "-c:41: DeprecationWarning: using a non-integer number instead of an integer will result in an error in the future\n"
       ]
      },
      {
       "output_type": "stream",
       "stream": "stdout",
       "text": [
        "\n",
        "AUC: 0.95"
       ]
      },
      {
       "output_type": "stream",
       "stream": "stdout",
       "text": [
        "\n",
        "0.946128889879\n",
        "{u'C': 100.0, u'reduc_method': 2, u'centrifugation_time': 5, u'stop': 184.0, u'penalty': 'l2', u'start': 87.11939881673369, u'n_dimensions': 83, u'nphase': 2}"
       ]
      },
      {
       "output_type": "stream",
       "stream": "stderr",
       "text": [
        "-c:41: DeprecationWarning: using a non-integer number instead of an integer will result in an error in the future\n",
        "-c:41: DeprecationWarning: using a non-integer number instead of an integer will result in an error in the future\n"
       ]
      },
      {
       "output_type": "stream",
       "stream": "stdout",
       "text": [
        "\n",
        "AUC: 0.89"
       ]
      },
      {
       "output_type": "stream",
       "stream": "stdout",
       "text": [
        "\n",
        "0.891052760152\n",
        "{u'C': 100.0, u'reduc_method': 3, u'centrifugation_time': 5, u'stop': 184.0, u'penalty': 'l1', u'start': 0.0, u'n_dimensions': 14, u'nphase': 2}"
       ]
      },
      {
       "output_type": "stream",
       "stream": "stderr",
       "text": [
        "-c:41: DeprecationWarning: using a non-integer number instead of an integer will result in an error in the future\n",
        "-c:41: DeprecationWarning: using a non-integer number instead of an integer will result in an error in the future\n"
       ]
      },
      {
       "output_type": "stream",
       "stream": "stdout",
       "text": [
        "\n",
        "AUC: 0.97"
       ]
      },
      {
       "output_type": "stream",
       "stream": "stdout",
       "text": [
        "\n",
        "0.972962982322\n",
        "{u'C': 100.0, u'reduc_method': 3, u'centrifugation_time': 1, u'stop': 170.3965430838316, u'penalty': 'l2', u'start': 3.6870468732360164, u'n_dimensions': 2, u'nphase': 3}"
       ]
      },
      {
       "output_type": "stream",
       "stream": "stderr",
       "text": [
        "-c:41: DeprecationWarning: using a non-integer number instead of an integer will result in an error in the future\n",
        "-c:41: DeprecationWarning: using a non-integer number instead of an integer will result in an error in the future\n"
       ]
      },
      {
       "output_type": "stream",
       "stream": "stdout",
       "text": [
        "\n",
        "AUC: 0.96"
       ]
      },
      {
       "output_type": "stream",
       "stream": "stdout",
       "text": [
        "\n",
        "0.963343765711\n",
        "{u'C': 22.685836858238716, u'reduc_method': 0, u'centrifugation_time': 5, u'stop': 159.2022723102215, u'penalty': 'l2', u'start': 112.98493147671267, u'n_dimensions': 184, u'nphase': 2}"
       ]
      },
      {
       "output_type": "stream",
       "stream": "stderr",
       "text": [
        "-c:41: DeprecationWarning: using a non-integer number instead of an integer will result in an error in the future\n",
        "-c:41: DeprecationWarning: using a non-integer number instead of an integer will result in an error in the future\n"
       ]
      },
      {
       "output_type": "stream",
       "stream": "stdout",
       "text": [
        "\n",
        "AUC: 0.73"
       ]
      },
      {
       "output_type": "stream",
       "stream": "stdout",
       "text": [
        "\n",
        "0.732947271121\n",
        "{u'C': 100.0, u'reduc_method': 3, u'centrifugation_time': 2, u'stop': 146.52522890177815, u'penalty': 'l2', u'start': 63.7154134606809, u'n_dimensions': 66, u'nphase': 2}"
       ]
      },
      {
       "output_type": "stream",
       "stream": "stderr",
       "text": [
        "-c:41: DeprecationWarning: using a non-integer number instead of an integer will result in an error in the future\n",
        "-c:41: DeprecationWarning: using a non-integer number instead of an integer will result in an error in the future\n"
       ]
      },
      {
       "output_type": "stream",
       "stream": "stdout",
       "text": [
        "\n",
        "AUC: 0.94"
       ]
      },
      {
       "output_type": "stream",
       "stream": "stdout",
       "text": [
        "\n",
        "0.936749325483\n",
        "{u'C': 100.0, u'reduc_method': 3, u'centrifugation_time': 5, u'stop': 184.0, u'penalty': 'l2', u'start': 0.0, u'n_dimensions': 3, u'nphase': 3}"
       ]
      },
      {
       "output_type": "stream",
       "stream": "stderr",
       "text": [
        "-c:41: DeprecationWarning: using a non-integer number instead of an integer will result in an error in the future\n",
        "-c:41: DeprecationWarning: using a non-integer number instead of an integer will result in an error in the future\n"
       ]
      },
      {
       "output_type": "stream",
       "stream": "stdout",
       "text": [
        "\n",
        "AUC: 0.80"
       ]
      },
      {
       "output_type": "stream",
       "stream": "stdout",
       "text": [
        "\n",
        "0.797239686525\n",
        "{u'C': 0.01, u'reduc_method': 3, u'centrifugation_time': 3, u'stop': 184.0, u'penalty': 'l1', u'start': 24.646051206920397, u'n_dimensions': 2, u'nphase': 2}"
       ]
      },
      {
       "output_type": "stream",
       "stream": "stderr",
       "text": [
        "-c:41: DeprecationWarning: using a non-integer number instead of an integer will result in an error in the future\n",
        "-c:41: DeprecationWarning: using a non-integer number instead of an integer will result in an error in the future\n"
       ]
      },
      {
       "output_type": "stream",
       "stream": "stdout",
       "text": [
        "\n",
        "AUC: 0.50"
       ]
      },
      {
       "output_type": "stream",
       "stream": "stdout",
       "text": [
        "\n",
        "0.5\n",
        "{u'C': 0.8885031469313521, u'reduc_method': 3, u'centrifugation_time': 1, u'stop': 136.27247776109354, u'penalty': 'l2', u'start': 76.79508209544866, u'n_dimensions': 184, u'nphase': 3}"
       ]
      },
      {
       "output_type": "stream",
       "stream": "stderr",
       "text": [
        "-c:41: DeprecationWarning: using a non-integer number instead of an integer will result in an error in the future\n",
        "-c:41: DeprecationWarning: using a non-integer number instead of an integer will result in an error in the future\n"
       ]
      },
      {
       "output_type": "stream",
       "stream": "stdout",
       "text": [
        "\n",
        "AUC: 0.92"
       ]
      },
      {
       "output_type": "stream",
       "stream": "stdout",
       "text": [
        "\n",
        "0.922746606335\n",
        "{u'C': 7.764166308158076, u'reduc_method': 3, u'centrifugation_time': 1, u'stop': 177.21778064414542, u'penalty': 'l2', u'start': 64.67884801149698, u'n_dimensions': 159, u'nphase': 2}"
       ]
      },
      {
       "output_type": "stream",
       "stream": "stderr",
       "text": [
        "-c:41: DeprecationWarning: using a non-integer number instead of an integer will result in an error in the future\n",
        "-c:41: DeprecationWarning: using a non-integer number instead of an integer will result in an error in the future\n"
       ]
      },
      {
       "output_type": "stream",
       "stream": "stdout",
       "text": [
        "\n",
        "AUC: 0.94"
       ]
      },
      {
       "output_type": "stream",
       "stream": "stdout",
       "text": [
        "\n",
        "0.93741657075\n",
        "{u'C': 22.37339460260393, u'reduc_method': 3, u'centrifugation_time': 1, u'stop': 184.0, u'penalty': 'l2', u'start': 103.30095685573461, u'n_dimensions': 2, u'nphase': 3}"
       ]
      },
      {
       "output_type": "stream",
       "stream": "stderr",
       "text": [
        "-c:41: DeprecationWarning: using a non-integer number instead of an integer will result in an error in the future\n",
        "-c:41: DeprecationWarning: using a non-integer number instead of an integer will result in an error in the future\n"
       ]
      },
      {
       "output_type": "stream",
       "stream": "stdout",
       "text": [
        "\n",
        "AUC: 0.53"
       ]
      },
      {
       "output_type": "stream",
       "stream": "stdout",
       "text": [
        "\n",
        "0.525671879591\n",
        "{u'C': 10.839519888570754, u'reduc_method': 1, u'centrifugation_time': 5, u'stop': 184.0, u'penalty': 'l2', u'start': 71.02099805393092, u'n_dimensions': 184, u'nphase': 2}"
       ]
      },
      {
       "output_type": "stream",
       "stream": "stderr",
       "text": [
        "-c:41: DeprecationWarning: using a non-integer number instead of an integer will result in an error in the future\n",
        "-c:41: DeprecationWarning: using a non-integer number instead of an integer will result in an error in the future\n"
       ]
      },
      {
       "output_type": "stream",
       "stream": "stdout",
       "text": [
        "\n",
        "AUC: 0.94"
       ]
      },
      {
       "output_type": "stream",
       "stream": "stdout",
       "text": [
        "\n",
        "0.935999197316\n",
        "{u'C': 100.0, u'reduc_method': 3, u'centrifugation_time': 1, u'stop': 184.0, u'penalty': 'l2', u'start': 3.080162296197226, u'n_dimensions': 118, u'nphase': 3}"
       ]
      },
      {
       "output_type": "stream",
       "stream": "stderr",
       "text": [
        "-c:41: DeprecationWarning: using a non-integer number instead of an integer will result in an error in the future\n",
        "-c:41: DeprecationWarning: using a non-integer number instead of an integer will result in an error in the future\n"
       ]
      },
      {
       "output_type": "stream",
       "stream": "stdout",
       "text": [
        "\n",
        "AUC: 0.99"
       ]
      },
      {
       "output_type": "stream",
       "stream": "stdout",
       "text": [
        "\n",
        "0.989934229358\n",
        "{u'C': 14.511503941127241, u'reduc_method': 2, u'centrifugation_time': 5, u'stop': 133.7287667204881, u'penalty': 'l2', u'start': 72.35836640523827, u'n_dimensions': 184, u'nphase': 2}"
       ]
      },
      {
       "output_type": "stream",
       "stream": "stderr",
       "text": [
        "-c:41: DeprecationWarning: using a non-integer number instead of an integer will result in an error in the future\n",
        "-c:41: DeprecationWarning: using a non-integer number instead of an integer will result in an error in the future\n"
       ]
      },
      {
       "output_type": "stream",
       "stream": "stdout",
       "text": [
        "\n",
        "AUC: 0.78"
       ]
      },
      {
       "output_type": "stream",
       "stream": "stdout",
       "text": [
        "\n",
        "0.78301107908\n",
        "{u'C': 100.0, u'reduc_method': 3, u'centrifugation_time': 1, u'stop': 182.4115413807193, u'penalty': 'l2', u'start': 74.57316391039379, u'n_dimensions': 176, u'nphase': 2}"
       ]
      },
      {
       "output_type": "stream",
       "stream": "stderr",
       "text": [
        "-c:41: DeprecationWarning: using a non-integer number instead of an integer will result in an error in the future\n",
        "-c:41: DeprecationWarning: using a non-integer number instead of an integer will result in an error in the future\n"
       ]
      },
      {
       "output_type": "stream",
       "stream": "stdout",
       "text": [
        "\n",
        "AUC: 0.92"
       ]
      },
      {
       "output_type": "stream",
       "stream": "stdout",
       "text": [
        "\n",
        "0.916719593937\n",
        "{u'C': 4.475126697419862, u'reduc_method': 0, u'centrifugation_time': 5, u'stop': 184.0, u'penalty': 'l2', u'start': 47.41093873411876, u'n_dimensions': 184, u'nphase': 2}"
       ]
      },
      {
       "output_type": "stream",
       "stream": "stderr",
       "text": [
        "-c:41: DeprecationWarning: using a non-integer number instead of an integer will result in an error in the future\n",
        "-c:41: DeprecationWarning: using a non-integer number instead of an integer will result in an error in the future\n"
       ]
      },
      {
       "output_type": "stream",
       "stream": "stdout",
       "text": [
        "\n",
        "AUC: 0.97"
       ]
      },
      {
       "output_type": "stream",
       "stream": "stdout",
       "text": [
        "\n",
        "0.969680431024\n",
        "{u'C': 100.0, u'reduc_method': 2, u'centrifugation_time': 5, u'stop': 128.5114246306052, u'penalty': 'l1', u'start': 20.638539726015516, u'n_dimensions': 19, u'nphase': 2}"
       ]
      },
      {
       "output_type": "stream",
       "stream": "stderr",
       "text": [
        "-c:41: DeprecationWarning: using a non-integer number instead of an integer will result in an error in the future\n",
        "-c:41: DeprecationWarning: using a non-integer number instead of an integer will result in an error in the future\n"
       ]
      },
      {
       "output_type": "stream",
       "stream": "stdout",
       "text": [
        "\n",
        "AUC: 0.98"
       ]
      },
      {
       "output_type": "stream",
       "stream": "stdout",
       "text": [
        "\n",
        "0.975885757174\n",
        "{u'C': 0.5658719795028164, u'reduc_method': 1, u'centrifugation_time': 1, u'stop': 184.0, u'penalty': 'l2', u'start': 15.615912937372006, u'n_dimensions': 184, u'nphase': 3}"
       ]
      },
      {
       "output_type": "stream",
       "stream": "stderr",
       "text": [
        "-c:41: DeprecationWarning: using a non-integer number instead of an integer will result in an error in the future\n",
        "-c:41: DeprecationWarning: using a non-integer number instead of an integer will result in an error in the future\n"
       ]
      },
      {
       "output_type": "stream",
       "stream": "stdout",
       "text": [
        "\n",
        "AUC: 0.99"
       ]
      },
      {
       "output_type": "stream",
       "stream": "stdout",
       "text": [
        "\n",
        "0.99018841744\n",
        "{u'C': 0.013026278325749298, u'reduc_method': 1, u'centrifugation_time': 1, u'stop': 184.0, u'penalty': 'l2', u'start': 73.99347772311562, u'n_dimensions': 184, u'nphase': 2}"
       ]
      },
      {
       "output_type": "stream",
       "stream": "stderr",
       "text": [
        "-c:41: DeprecationWarning: using a non-integer number instead of an integer will result in an error in the future\n",
        "-c:41: DeprecationWarning: using a non-integer number instead of an integer will result in an error in the future\n"
       ]
      },
      {
       "output_type": "stream",
       "stream": "stdout",
       "text": [
        "\n",
        "AUC: 0.95"
       ]
      },
      {
       "output_type": "stream",
       "stream": "stdout",
       "text": [
        "\n",
        "0.952582038066\n",
        "{u'C': 53.36139139212066, u'reduc_method': 3, u'centrifugation_time': 1, u'stop': 184.0, u'penalty': 'l2', u'start': 23.979712946901884, u'n_dimensions': 99, u'nphase': 2}"
       ]
      },
      {
       "output_type": "stream",
       "stream": "stderr",
       "text": [
        "-c:41: DeprecationWarning: using a non-integer number instead of an integer will result in an error in the future\n",
        "-c:41: DeprecationWarning: using a non-integer number instead of an integer will result in an error in the future\n"
       ]
      },
      {
       "output_type": "stream",
       "stream": "stdout",
       "text": [
        "\n",
        "AUC: 0.95"
       ]
      },
      {
       "output_type": "stream",
       "stream": "stdout",
       "text": [
        "\n",
        "0.952046343713\n",
        "{u'C': 5.673581224543483, u'reduc_method': 1, u'centrifugation_time': 1, u'stop': 184.0, u'penalty': 'l2', u'start': 44.206859281377064, u'n_dimensions': 184, u'nphase': 3}"
       ]
      },
      {
       "output_type": "stream",
       "stream": "stderr",
       "text": [
        "-c:41: DeprecationWarning: using a non-integer number instead of an integer will result in an error in the future\n",
        "-c:41: DeprecationWarning: using a non-integer number instead of an integer will result in an error in the future\n"
       ]
      },
      {
       "output_type": "stream",
       "stream": "stdout",
       "text": [
        "\n",
        "AUC: 0.98"
       ]
      },
      {
       "output_type": "stream",
       "stream": "stdout",
       "text": [
        "\n",
        "0.983465476789\n",
        "{u'C': 2.5199467802365474, u'reduc_method': 1, u'centrifugation_time': 1, u'stop': 181.251313352387, u'penalty': 'l2', u'start': 42.95262209322642, u'n_dimensions': 170, u'nphase': 2}"
       ]
      },
      {
       "output_type": "stream",
       "stream": "stderr",
       "text": [
        "-c:41: DeprecationWarning: using a non-integer number instead of an integer will result in an error in the future\n",
        "-c:41: DeprecationWarning: using a non-integer number instead of an integer will result in an error in the future\n"
       ]
      },
      {
       "output_type": "stream",
       "stream": "stdout",
       "text": [
        "\n",
        "AUC: 0.96"
       ]
      },
      {
       "output_type": "stream",
       "stream": "stdout",
       "text": [
        "\n",
        "0.95784039534\n",
        "{u'C': 44.16400275267131, u'reduc_method': 3, u'centrifugation_time': 5, u'stop': 120.0, u'penalty': 'l1', u'start': 22.489450363625064, u'n_dimensions': 2, u'nphase': 2}"
       ]
      },
      {
       "output_type": "stream",
       "stream": "stderr",
       "text": [
        "-c:41: DeprecationWarning: using a non-integer number instead of an integer will result in an error in the future\n",
        "-c:41: DeprecationWarning: using a non-integer number instead of an integer will result in an error in the future\n"
       ]
      },
      {
       "output_type": "stream",
       "stream": "stdout",
       "text": [
        "\n",
        "AUC: 0.99"
       ]
      },
      {
       "output_type": "stream",
       "stream": "stdout",
       "text": [
        "\n",
        "0.985715042379\n",
        "{u'C': 100.0, u'reduc_method': 3, u'centrifugation_time': 1, u'stop': 184.0, u'penalty': 'l2', u'start': 95.8578861328439, u'n_dimensions': 184, u'nphase': 2}"
       ]
      },
      {
       "output_type": "stream",
       "stream": "stderr",
       "text": [
        "-c:41: DeprecationWarning: using a non-integer number instead of an integer will result in an error in the future\n",
        "-c:41: DeprecationWarning: using a non-integer number instead of an integer will result in an error in the future\n"
       ]
      },
      {
       "output_type": "stream",
       "stream": "stdout",
       "text": [
        "\n",
        "AUC: 0.92"
       ]
      },
      {
       "output_type": "stream",
       "stream": "stdout",
       "text": [
        "\n",
        "0.916248352673\n",
        "{u'C': 0.1422059275712918, u'reduc_method': 0, u'centrifugation_time': 1, u'stop': 184.0, u'penalty': 'l2', u'start': 0.5939750113246274, u'n_dimensions': 184, u'nphase': 3}"
       ]
      },
      {
       "output_type": "stream",
       "stream": "stderr",
       "text": [
        "-c:41: DeprecationWarning: using a non-integer number instead of an integer will result in an error in the future\n",
        "-c:41: DeprecationWarning: using a non-integer number instead of an integer will result in an error in the future\n"
       ]
      },
      {
       "output_type": "stream",
       "stream": "stdout",
       "text": [
        "\n",
        "AUC: 0.99"
       ]
      },
      {
       "output_type": "stream",
       "stream": "stdout",
       "text": [
        "\n",
        "0.993943786834\n",
        "{u'C': 0.010489965211679152, u'reduc_method': 3, u'centrifugation_time': 4, u'stop': 170.1993751052218, u'penalty': 'l2', u'start': 67.35859563123822, u'n_dimensions': 170, u'nphase': 3}"
       ]
      },
      {
       "output_type": "stream",
       "stream": "stderr",
       "text": [
        "-c:41: DeprecationWarning: using a non-integer number instead of an integer will result in an error in the future\n",
        "-c:41: DeprecationWarning: using a non-integer number instead of an integer will result in an error in the future\n"
       ]
      },
      {
       "output_type": "stream",
       "stream": "stdout",
       "text": [
        "\n",
        "AUC: 0.80"
       ]
      },
      {
       "output_type": "stream",
       "stream": "stdout",
       "text": [
        "\n",
        "0.801942932531\n",
        "{u'C': 2.67095452085489, u'reduc_method': 0, u'centrifugation_time': 1, u'stop': 184.0, u'penalty': 'l2', u'start': 59.940980022627734, u'n_dimensions': 184, u'nphase': 3}"
       ]
      },
      {
       "output_type": "stream",
       "stream": "stderr",
       "text": [
        "-c:41: DeprecationWarning: using a non-integer number instead of an integer will result in an error in the future\n",
        "-c:41: DeprecationWarning: using a non-integer number instead of an integer will result in an error in the future\n"
       ]
      },
      {
       "output_type": "stream",
       "stream": "stdout",
       "text": [
        "\n",
        "AUC: 0.97"
       ]
      },
      {
       "output_type": "stream",
       "stream": "stdout",
       "text": [
        "\n",
        "0.973128205128\n",
        "{u'C': 100.0, u'reduc_method': 3, u'centrifugation_time': 1, u'stop': 140.3909249783438, u'penalty': 'l2', u'start': 9.265267889009928, u'n_dimensions': 81, u'nphase': 3}"
       ]
      },
      {
       "output_type": "stream",
       "stream": "stderr",
       "text": [
        "-c:41: DeprecationWarning: using a non-integer number instead of an integer will result in an error in the future\n",
        "-c:41: DeprecationWarning: using a non-integer number instead of an integer will result in an error in the future\n"
       ]
      },
      {
       "output_type": "stream",
       "stream": "stdout",
       "text": [
        "\n",
        "AUC: 0.99"
       ]
      },
      {
       "output_type": "stream",
       "stream": "stdout",
       "text": [
        "\n",
        "0.993992874199\n",
        "{u'C': 100.0, u'reduc_method': 0, u'centrifugation_time': 4, u'stop': 184.0, u'penalty': 'l2', u'start': 0.0, u'n_dimensions': 184, u'nphase': 3}"
       ]
      },
      {
       "output_type": "stream",
       "stream": "stderr",
       "text": [
        "-c:41: DeprecationWarning: using a non-integer number instead of an integer will result in an error in the future\n",
        "-c:41: DeprecationWarning: using a non-integer number instead of an integer will result in an error in the future\n"
       ]
      },
      {
       "output_type": "stream",
       "stream": "stdout",
       "text": [
        "\n",
        "AUC: 0.92"
       ]
      },
      {
       "output_type": "stream",
       "stream": "stdout",
       "text": [
        "\n",
        "0.918061355026\n",
        "{u'C': 100.0, u'reduc_method': 3, u'centrifugation_time': 5, u'stop': 120.0, u'penalty': 'l1', u'start': 91.58510478359594, u'n_dimensions': 2, u'nphase': 2}"
       ]
      },
      {
       "output_type": "stream",
       "stream": "stderr",
       "text": [
        "-c:41: DeprecationWarning: using a non-integer number instead of an integer will result in an error in the future\n",
        "-c:41: DeprecationWarning: using a non-integer number instead of an integer will result in an error in the future\n"
       ]
      },
      {
       "output_type": "stream",
       "stream": "stdout",
       "text": [
        "\n",
        "AUC: 0.92"
       ]
      },
      {
       "output_type": "stream",
       "stream": "stdout",
       "text": [
        "\n",
        "0.918645842415\n",
        "{u'C': 100.0, u'reduc_method': 2, u'centrifugation_time': 5, u'stop': 120.2280598064876, u'penalty': 'l1', u'start': 23.778216005664707, u'n_dimensions': 119, u'nphase': 2}"
       ]
      },
      {
       "output_type": "stream",
       "stream": "stderr",
       "text": [
        "-c:41: DeprecationWarning: using a non-integer number instead of an integer will result in an error in the future\n",
        "-c:41: DeprecationWarning: using a non-integer number instead of an integer will result in an error in the future\n"
       ]
      },
      {
       "output_type": "stream",
       "stream": "stdout",
       "text": [
        "\n",
        "AUC: 0.97"
       ]
      },
      {
       "output_type": "stream",
       "stream": "stdout",
       "text": [
        "\n",
        "0.97060414405\n",
        "{u'C': 100.0, u'reduc_method': 3, u'centrifugation_time': 3, u'stop': 120.0, u'penalty': 'l1', u'start': 0.0, u'n_dimensions': 3, u'nphase': 3}"
       ]
      },
      {
       "output_type": "stream",
       "stream": "stderr",
       "text": [
        "-c:41: DeprecationWarning: using a non-integer number instead of an integer will result in an error in the future\n",
        "-c:41: DeprecationWarning: using a non-integer number instead of an integer will result in an error in the future\n"
       ]
      },
      {
       "output_type": "stream",
       "stream": "stdout",
       "text": [
        "\n",
        "AUC: 0.91"
       ]
      },
      {
       "output_type": "stream",
       "stream": "stdout",
       "text": [
        "\n",
        "0.908391651137\n",
        "{u'C': 10.776775802354143, u'reduc_method': 0, u'centrifugation_time': 3, u'stop': 175.53175152893178, u'penalty': 'l2', u'start': 0.0, u'n_dimensions': 184, u'nphase': 3}"
       ]
      },
      {
       "output_type": "stream",
       "stream": "stderr",
       "text": [
        "-c:41: DeprecationWarning: using a non-integer number instead of an integer will result in an error in the future\n",
        "-c:41: DeprecationWarning: using a non-integer number instead of an integer will result in an error in the future\n"
       ]
      },
      {
       "output_type": "stream",
       "stream": "stdout",
       "text": [
        "\n",
        "AUC: 0.94"
       ]
      },
      {
       "output_type": "stream",
       "stream": "stdout",
       "text": [
        "\n",
        "0.93731591831\n",
        "{u'C': 1.5556952281955865, u'reduc_method': 0, u'centrifugation_time': 1, u'stop': 184.0, u'penalty': 'l2', u'start': 93.05192843850672, u'n_dimensions': 184, u'nphase': 3}"
       ]
      },
      {
       "output_type": "stream",
       "stream": "stderr",
       "text": [
        "-c:41: DeprecationWarning: using a non-integer number instead of an integer will result in an error in the future\n",
        "-c:41: DeprecationWarning: using a non-integer number instead of an integer will result in an error in the future\n"
       ]
      },
      {
       "output_type": "stream",
       "stream": "stdout",
       "text": [
        "\n",
        "AUC: 0.63"
       ]
      },
      {
       "output_type": "stream",
       "stream": "stdout",
       "text": [
        "\n",
        "0.632273843114\n",
        "{u'C': 0.01, u'reduc_method': 0, u'centrifugation_time': 1, u'stop': 184.0, u'penalty': 'l2', u'start': 45.795639364276724, u'n_dimensions': 184, u'nphase': 3}"
       ]
      },
      {
       "output_type": "stream",
       "stream": "stderr",
       "text": [
        "-c:41: DeprecationWarning: using a non-integer number instead of an integer will result in an error in the future\n",
        "-c:41: DeprecationWarning: using a non-integer number instead of an integer will result in an error in the future\n"
       ]
      },
      {
       "output_type": "stream",
       "stream": "stdout",
       "text": [
        "\n",
        "AUC: 0.98"
       ]
      },
      {
       "output_type": "stream",
       "stream": "stdout",
       "text": [
        "\n",
        "0.98084502062\n",
        "{u'C': 100.0, u'reduc_method': 3, u'centrifugation_time': 5, u'stop': 120.0, u'penalty': 'l1', u'start': 70.96269485202258, u'n_dimensions': 80, u'nphase': 2}"
       ]
      },
      {
       "output_type": "stream",
       "stream": "stderr",
       "text": [
        "-c:41: DeprecationWarning: using a non-integer number instead of an integer will result in an error in the future\n",
        "-c:41: DeprecationWarning: using a non-integer number instead of an integer will result in an error in the future\n"
       ]
      },
      {
       "output_type": "stream",
       "stream": "stdout",
       "text": [
        "\n",
        "AUC: 0.91"
       ]
      },
      {
       "output_type": "stream",
       "stream": "stdout",
       "text": [
        "\n",
        "0.911460690208\n",
        "{u'C': 28.702897503213876, u'reduc_method': 3, u'centrifugation_time': 1, u'stop': 162.28466998168523, u'penalty': 'l2', u'start': 89.56176170319598, u'n_dimensions': 163, u'nphase': 3}"
       ]
      },
      {
       "output_type": "stream",
       "stream": "stderr",
       "text": [
        "-c:41: DeprecationWarning: using a non-integer number instead of an integer will result in an error in the future\n",
        "-c:41: DeprecationWarning: using a non-integer number instead of an integer will result in an error in the future\n"
       ]
      },
      {
       "output_type": "stream",
       "stream": "stdout",
       "text": [
        "\n",
        "AUC: 0.75"
       ]
      },
      {
       "output_type": "stream",
       "stream": "stdout",
       "text": [
        "\n",
        "0.747174694131\n",
        "{u'C': 0.33336713518696737, u'reduc_method': 1, u'centrifugation_time': 1, u'stop': 184.0, u'penalty': 'l2', u'start': 30.983655316089408, u'n_dimensions': 184, u'nphase': 2}"
       ]
      },
      {
       "output_type": "stream",
       "stream": "stderr",
       "text": [
        "-c:41: DeprecationWarning: using a non-integer number instead of an integer will result in an error in the future\n",
        "-c:41: DeprecationWarning: using a non-integer number instead of an integer will result in an error in the future\n"
       ]
      },
      {
       "output_type": "stream",
       "stream": "stdout",
       "text": [
        "\n",
        "AUC: 0.94"
       ]
      },
      {
       "output_type": "stream",
       "stream": "stdout",
       "text": [
        "\n",
        "0.944625096708\n",
        "{u'C': 0.01, u'reduc_method': 0, u'centrifugation_time': 5, u'stop': 120.0000067383549, u'penalty': 'l2', u'start': 0.0, u'n_dimensions': 184, u'nphase': 3}"
       ]
      },
      {
       "output_type": "stream",
       "stream": "stderr",
       "text": [
        "-c:41: DeprecationWarning: using a non-integer number instead of an integer will result in an error in the future\n",
        "-c:41: DeprecationWarning: using a non-integer number instead of an integer will result in an error in the future\n"
       ]
      },
      {
       "output_type": "stream",
       "stream": "stdout",
       "text": [
        "\n",
        "AUC: 0.81"
       ]
      },
      {
       "output_type": "stream",
       "stream": "stdout",
       "text": [
        "\n",
        "0.814785976746\n",
        "{u'C': 4.196871792008589, u'reduc_method': 0, u'centrifugation_time': 3, u'stop': 184.0, u'penalty': 'l2', u'start': 18.05934246601438, u'n_dimensions': 184, u'nphase': 2}"
       ]
      },
      {
       "output_type": "stream",
       "stream": "stderr",
       "text": [
        "-c:41: DeprecationWarning: using a non-integer number instead of an integer will result in an error in the future\n",
        "-c:41: DeprecationWarning: using a non-integer number instead of an integer will result in an error in the future\n"
       ]
      },
      {
       "output_type": "stream",
       "stream": "stdout",
       "text": [
        "\n",
        "AUC: 0.96"
       ]
      },
      {
       "output_type": "stream",
       "stream": "stdout",
       "text": [
        "\n",
        "0.955075036391\n",
        "{u'C': 44.27647996830677, u'reduc_method': 3, u'centrifugation_time': 1, u'stop': 120.0, u'penalty': 'l2', u'start': 46.44663411102102, u'n_dimensions': 64, u'nphase': 3}"
       ]
      },
      {
       "output_type": "stream",
       "stream": "stderr",
       "text": [
        "-c:41: DeprecationWarning: using a non-integer number instead of an integer will result in an error in the future\n",
        "-c:41: DeprecationWarning: using a non-integer number instead of an integer will result in an error in the future\n"
       ]
      },
      {
       "output_type": "stream",
       "stream": "stdout",
       "text": [
        "\n",
        "AUC: 0.99"
       ]
      },
      {
       "output_type": "stream",
       "stream": "stdout",
       "text": [
        "\n",
        "0.988369616223\n",
        "{u'C': 38.60889201712835, u'reduc_method': 3, u'centrifugation_time': 5, u'stop': 120.0, u'penalty': 'l1', u'start': 44.65736678830479, u'n_dimensions': 2, u'nphase': 2}"
       ]
      },
      {
       "output_type": "stream",
       "stream": "stderr",
       "text": [
        "-c:41: DeprecationWarning: using a non-integer number instead of an integer will result in an error in the future\n",
        "-c:41: DeprecationWarning: using a non-integer number instead of an integer will result in an error in the future\n"
       ]
      },
      {
       "output_type": "stream",
       "stream": "stdout",
       "text": [
        "\n",
        "AUC: 0.98"
       ]
      },
      {
       "output_type": "stream",
       "stream": "stdout",
       "text": [
        "\n",
        "0.984494844124\n",
        "{u'C': 2.3639432308232626, u'reduc_method': 0, u'centrifugation_time': 1, u'stop': 149.41334130465177, u'penalty': 'l2', u'start': 9.996325539057333, u'n_dimensions': 184, u'nphase': 3}"
       ]
      },
      {
       "output_type": "stream",
       "stream": "stderr",
       "text": [
        "-c:41: DeprecationWarning: using a non-integer number instead of an integer will result in an error in the future\n",
        "-c:41: DeprecationWarning: using a non-integer number instead of an integer will result in an error in the future\n"
       ]
      },
      {
       "output_type": "stream",
       "stream": "stdout",
       "text": [
        "\n",
        "AUC: 0.99"
       ]
      },
      {
       "output_type": "stream",
       "stream": "stdout",
       "text": [
        "\n",
        "0.99018114337\n",
        "{u'C': 40.105191685868135, u'reduc_method': 3, u'centrifugation_time': 1, u'stop': 120.0, u'penalty': 'l2', u'start': 29.75592011956344, u'n_dimensions': 109, u'nphase': 3}"
       ]
      },
      {
       "output_type": "stream",
       "stream": "stderr",
       "text": [
        "-c:41: DeprecationWarning: using a non-integer number instead of an integer will result in an error in the future\n",
        "-c:41: DeprecationWarning: using a non-integer number instead of an integer will result in an error in the future\n"
       ]
      },
      {
       "output_type": "stream",
       "stream": "stdout",
       "text": [
        "\n",
        "AUC: 0.99"
       ]
      },
      {
       "output_type": "stream",
       "stream": "stdout",
       "text": [
        "\n",
        "0.987034439031\n",
        "{u'C': 0.0100270966582266, u'reduc_method': 3, u'centrifugation_time': 1, u'stop': 172.72928717818547, u'penalty': 'l2', u'start': 70.75533131722493, u'n_dimensions': 175, u'nphase': 3}"
       ]
      },
      {
       "output_type": "stream",
       "stream": "stderr",
       "text": [
        "-c:41: DeprecationWarning: using a non-integer number instead of an integer will result in an error in the future\n",
        "-c:41: DeprecationWarning: using a non-integer number instead of an integer will result in an error in the future\n"
       ]
      },
      {
       "output_type": "stream",
       "stream": "stdout",
       "text": [
        "\n",
        "AUC: 0.95"
       ]
      },
      {
       "output_type": "stream",
       "stream": "stdout",
       "text": [
        "\n",
        "0.954987724149\n",
        "{u'C': 100.0, u'reduc_method': 1, u'centrifugation_time': 4, u'stop': 184.0, u'penalty': 'l2', u'start': 59.0918871418595, u'n_dimensions': 184, u'nphase': 2}"
       ]
      },
      {
       "output_type": "stream",
       "stream": "stderr",
       "text": [
        "-c:41: DeprecationWarning: using a non-integer number instead of an integer will result in an error in the future\n",
        "-c:41: DeprecationWarning: using a non-integer number instead of an integer will result in an error in the future\n"
       ]
      },
      {
       "output_type": "stream",
       "stream": "stdout",
       "text": [
        "\n",
        "AUC: 0.95"
       ]
      },
      {
       "output_type": "stream",
       "stream": "stdout",
       "text": [
        "\n",
        "0.947356677853\n",
        "{u'C': 100.0, u'reduc_method': 2, u'centrifugation_time': 4, u'stop': 184.0, u'penalty': 'l1', u'start': 32.79419612068939, u'n_dimensions': 2, u'nphase': 2}"
       ]
      },
      {
       "output_type": "stream",
       "stream": "stderr",
       "text": [
        "-c:41: DeprecationWarning: using a non-integer number instead of an integer will result in an error in the future\n",
        "-c:41: DeprecationWarning: using a non-integer number instead of an integer will result in an error in the future\n"
       ]
      },
      {
       "output_type": "stream",
       "stream": "stdout",
       "text": [
        "\n",
        "AUC: 0.98"
       ]
      },
      {
       "output_type": "stream",
       "stream": "stdout",
       "text": [
        "\n",
        "0.982704976183\n",
        "{u'C': 0.08409295303454191, u'reduc_method': 0, u'centrifugation_time': 1, u'stop': 170.77824731472566, u'penalty': 'l2', u'start': 29.0783849488975, u'n_dimensions': 184, u'nphase': 3}"
       ]
      },
      {
       "output_type": "stream",
       "stream": "stderr",
       "text": [
        "-c:41: DeprecationWarning: using a non-integer number instead of an integer will result in an error in the future\n",
        "-c:41: DeprecationWarning: using a non-integer number instead of an integer will result in an error in the future\n"
       ]
      },
      {
       "output_type": "stream",
       "stream": "stdout",
       "text": [
        "\n",
        "AUC: 0.99"
       ]
      },
      {
       "output_type": "stream",
       "stream": "stdout",
       "text": [
        "\n",
        "0.99182210491\n",
        "{u'C': 0.01, u'reduc_method': 3, u'centrifugation_time': 1, u'stop': 174.1018316637053, u'penalty': 'l2', u'start': 25.793916174445485, u'n_dimensions': 181, u'nphase': 3}"
       ]
      },
      {
       "output_type": "stream",
       "stream": "stderr",
       "text": [
        "-c:41: DeprecationWarning: using a non-integer number instead of an integer will result in an error in the future\n",
        "-c:41: DeprecationWarning: using a non-integer number instead of an integer will result in an error in the future\n"
       ]
      },
      {
       "output_type": "stream",
       "stream": "stdout",
       "text": [
        "\n",
        "AUC: 0.98"
       ]
      },
      {
       "output_type": "stream",
       "stream": "stdout",
       "text": [
        "\n",
        "0.98483425507\n",
        "{u'C': 100.0, u'reduc_method': 2, u'centrifugation_time': 2, u'stop': 129.09179692869773, u'penalty': 'l2', u'start': 0.0, u'n_dimensions': 104, u'nphase': 3}"
       ]
      },
      {
       "output_type": "stream",
       "stream": "stderr",
       "text": [
        "-c:41: DeprecationWarning: using a non-integer number instead of an integer will result in an error in the future\n",
        "-c:41: DeprecationWarning: using a non-integer number instead of an integer will result in an error in the future\n"
       ]
      },
      {
       "output_type": "stream",
       "stream": "stdout",
       "text": [
        "\n",
        "AUC: 0.95"
       ]
      },
      {
       "output_type": "stream",
       "stream": "stdout",
       "text": [
        "\n",
        "0.950888095434\n",
        "{u'C': 0.029389130512112935, u'reduc_method': 1, u'centrifugation_time': 1, u'stop': 175.10816507734023, u'penalty': 'l2', u'start': 62.70231385345121, u'n_dimensions': 184, u'nphase': 3}"
       ]
      },
      {
       "output_type": "stream",
       "stream": "stderr",
       "text": [
        "-c:41: DeprecationWarning: using a non-integer number instead of an integer will result in an error in the future\n",
        "-c:41: DeprecationWarning: using a non-integer number instead of an integer will result in an error in the future\n"
       ]
      },
      {
       "output_type": "stream",
       "stream": "stdout",
       "text": [
        "\n",
        "AUC: 0.97"
       ]
      },
      {
       "output_type": "stream",
       "stream": "stdout",
       "text": [
        "\n",
        "0.974749329646\n",
        "{u'C': 99.43574260858105, u'reduc_method': 2, u'centrifugation_time': 5, u'stop': 146.43530880240544, u'penalty': 'l1', u'start': 58.23510092363614, u'n_dimensions': 2, u'nphase': 2}"
       ]
      },
      {
       "output_type": "stream",
       "stream": "stderr",
       "text": [
        "-c:41: DeprecationWarning: using a non-integer number instead of an integer will result in an error in the future\n",
        "-c:41: DeprecationWarning: using a non-integer number instead of an integer will result in an error in the future\n"
       ]
      },
      {
       "output_type": "stream",
       "stream": "stdout",
       "text": [
        "\n",
        "AUC: 0.95"
       ]
      },
      {
       "output_type": "stream",
       "stream": "stdout",
       "text": [
        "\n",
        "0.946351020273\n",
        "{u'C': 63.62746252842655, u'reduc_method': 0, u'centrifugation_time': 1, u'stop': 162.248151959954, u'penalty': 'l2', u'start': 0.0, u'n_dimensions': 184, u'nphase': 3}"
       ]
      },
      {
       "output_type": "stream",
       "stream": "stderr",
       "text": [
        "-c:41: DeprecationWarning: using a non-integer number instead of an integer will result in an error in the future\n",
        "-c:41: DeprecationWarning: using a non-integer number instead of an integer will result in an error in the future\n"
       ]
      },
      {
       "output_type": "stream",
       "stream": "stdout",
       "text": [
        "\n",
        "AUC: 0.99"
       ]
      },
      {
       "output_type": "stream",
       "stream": "stdout",
       "text": [
        "\n",
        "0.985927610884\n",
        "{u'C': 94.68114734307235, u'reduc_method': 2, u'centrifugation_time': 1, u'stop': 172.83108588772802, u'penalty': 'l2', u'start': 48.19104143948449, u'n_dimensions': 79, u'nphase': 3}"
       ]
      },
      {
       "output_type": "stream",
       "stream": "stderr",
       "text": [
        "-c:41: DeprecationWarning: using a non-integer number instead of an integer will result in an error in the future\n",
        "-c:41: DeprecationWarning: using a non-integer number instead of an integer will result in an error in the future\n"
       ]
      },
      {
       "output_type": "stream",
       "stream": "stdout",
       "text": [
        "\n",
        "AUC: 0.97"
       ]
      },
      {
       "output_type": "stream",
       "stream": "stdout",
       "text": [
        "\n",
        "0.972222096531\n",
        "{u'C': 0.623249991508313, u'reduc_method': 0, u'centrifugation_time': 1, u'stop': 184.0, u'penalty': 'l2', u'start': 2.4877980713498262, u'n_dimensions': 184, u'nphase': 3}"
       ]
      },
      {
       "output_type": "stream",
       "stream": "stderr",
       "text": [
        "-c:41: DeprecationWarning: using a non-integer number instead of an integer will result in an error in the future\n",
        "-c:41: DeprecationWarning: using a non-integer number instead of an integer will result in an error in the future\n"
       ]
      },
      {
       "output_type": "stream",
       "stream": "stdout",
       "text": [
        "\n",
        "AUC: 0.99"
       ]
      },
      {
       "output_type": "stream",
       "stream": "stdout",
       "text": [
        "\n",
        "0.993920031178\n",
        "{u'C': 0.04663685334725103, u'reduc_method': 1, u'centrifugation_time': 1, u'stop': 184.0, u'penalty': 'l2', u'start': 45.38663769048603, u'n_dimensions': 184, u'nphase': 3}"
       ]
      },
      {
       "output_type": "stream",
       "stream": "stderr",
       "text": [
        "-c:41: DeprecationWarning: using a non-integer number instead of an integer will result in an error in the future\n",
        "-c:41: DeprecationWarning: using a non-integer number instead of an integer will result in an error in the future\n"
       ]
      },
      {
       "output_type": "stream",
       "stream": "stdout",
       "text": [
        "\n",
        "AUC: 0.99"
       ]
      },
      {
       "output_type": "stream",
       "stream": "stdout",
       "text": [
        "\n",
        "0.985280668678\n",
        "{u'C': 0.2035676503493927, u'reduc_method': 1, u'centrifugation_time': 1, u'stop': 184.0, u'penalty': 'l2', u'start': 0.0, u'n_dimensions': 184, u'nphase': 3}"
       ]
      },
      {
       "output_type": "stream",
       "stream": "stderr",
       "text": [
        "-c:41: DeprecationWarning: using a non-integer number instead of an integer will result in an error in the future\n",
        "-c:41: DeprecationWarning: using a non-integer number instead of an integer will result in an error in the future\n"
       ]
      },
      {
       "output_type": "stream",
       "stream": "stdout",
       "text": [
        "\n",
        "AUC: 0.99"
       ]
      },
      {
       "output_type": "stream",
       "stream": "stdout",
       "text": [
        "\n",
        "0.99303570579\n",
        "{u'C': 0.9818211915622791, u'reduc_method': 3, u'centrifugation_time': 1, u'stop': 165.54097825540373, u'penalty': 'l2', u'start': 24.92624856073195, u'n_dimensions': 168, u'nphase': 3}"
       ]
      },
      {
       "output_type": "stream",
       "stream": "stderr",
       "text": [
        "-c:41: DeprecationWarning: using a non-integer number instead of an integer will result in an error in the future\n",
        "-c:41: DeprecationWarning: using a non-integer number instead of an integer will result in an error in the future\n"
       ]
      },
      {
       "output_type": "stream",
       "stream": "stdout",
       "text": [
        "\n",
        "AUC: 0.99"
       ]
      },
      {
       "output_type": "stream",
       "stream": "stdout",
       "text": [
        "\n",
        "0.990184675855\n",
        "{u'C': 12.237355141449695, u'reduc_method': 3, u'centrifugation_time': 1, u'stop': 173.03361217834257, u'penalty': 'l2', u'start': 3.822209669038467, u'n_dimensions': 121, u'nphase': 3}"
       ]
      },
      {
       "output_type": "stream",
       "stream": "stderr",
       "text": [
        "-c:41: DeprecationWarning: using a non-integer number instead of an integer will result in an error in the future\n",
        "-c:41: DeprecationWarning: using a non-integer number instead of an integer will result in an error in the future\n"
       ]
      },
      {
       "output_type": "stream",
       "stream": "stdout",
       "text": [
        "\n",
        "AUC: 0.99"
       ]
      },
      {
       "output_type": "stream",
       "stream": "stdout",
       "text": [
        "\n",
        "0.992467519173\n"
       ]
      },
      {
       "output_type": "stream",
       "stream": "stderr",
       "text": [
        "-c:41: DeprecationWarning: using a non-integer number instead of an integer will result in an error in the future\n"
       ]
      }
     ],
     "prompt_number": 72
    },
    {
     "cell_type": "code",
     "collapsed": false,
     "input": [
      "figure(figsize=(5,5))\n",
      "plot(np.hstack(all_true_y), np.hstack(all_pred_y), '.')\n",
      "axis('equal')\n",
      "xlabel(\"True %s values\" % data_type)\n",
      "ylabel(\"Predicted %s values\" % data_type)\n",
      "axis('equal')"
     ],
     "language": "python",
     "metadata": {},
     "outputs": []
    }
   ],
   "metadata": {}
  }
 ]
}